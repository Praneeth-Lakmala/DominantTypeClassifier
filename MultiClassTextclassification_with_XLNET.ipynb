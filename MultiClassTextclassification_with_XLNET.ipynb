{
 "cells": [
  {
   "cell_type": "code",
   "execution_count": 2,
   "metadata": {},
   "outputs": [
    {
     "data": {
      "text/plain": [
       "True"
      ]
     },
     "execution_count": 2,
     "metadata": {},
     "output_type": "execute_result"
    }
   ],
   "source": [
    "import torch\n",
    "torch.cuda.is_available()"
   ]
  },
  {
   "cell_type": "code",
   "execution_count": 3,
   "metadata": {
    "collapsed": true
   },
   "outputs": [],
   "source": [
    "%reload_ext autoreload\n",
    "%autoreload 2\n",
    "%matplotlib inline"
   ]
  },
  {
   "cell_type": "code",
   "execution_count": 4,
   "metadata": {
    "collapsed": true
   },
   "outputs": [],
   "source": [
    "import pandas as pd\n",
    "import pandas.compat\n",
    "import math\n",
    "import numpy as np\n",
    "from sklearn.metrics import classification_report\n",
    "import torch.nn.functional as F"
   ]
  },
  {
   "cell_type": "code",
   "execution_count": 5,
   "metadata": {
    "collapsed": true
   },
   "outputs": [],
   "source": [
    "import torch\n",
    "import os\n",
    "from tqdm import tqdm,trange\n",
    "from torch.optim import Adam\n",
    "from torch.utils.data import TensorDataset, DataLoader, RandomSampler, SequentialSampler\n",
    "from sklearn.model_selection import train_test_split"
   ]
  },
  {
   "cell_type": "code",
   "execution_count": 6,
   "metadata": {
    "collapsed": true
   },
   "outputs": [],
   "source": [
    "from transformers import (XLNetConfig, XLNetForSequenceClassification, XLNetTokenizer)"
   ]
  },
  {
   "cell_type": "code",
   "execution_count": 7,
   "metadata": {
    "collapsed": true
   },
   "outputs": [],
   "source": [
    "data_file_address = \"data/actorsArtistAuthorPolitician_training_data.tsv\"\n",
    "sentences = []\n",
    "labels = []\n",
    "complete_data = []\n",
    "with open(data_file_address) as data_file:\n",
    "    for record in data_file.readlines():\n",
    "        record_fields =record.strip().split(\"\\t\")\n",
    "        if len(record_fields) != 2:\n",
    "            continue\n",
    "        complete_data.append([record_fields[0],record_fields[1]])\n",
    "#        labels.append(record_fields[0])\n",
    "#        sentences.append(record_fields[1])"
   ]
  },
  {
   "cell_type": "code",
   "execution_count": 10,
   "metadata": {},
   "outputs": [
    {
     "data": {
      "text/plain": [
       "40000"
      ]
     },
     "execution_count": 10,
     "metadata": {},
     "output_type": "execute_result"
    }
   ],
   "source": [
    "import random\n",
    "random.shuffle(complete_data)\n",
    "percentage = 0.1 * len(complete_data) #10 percent\n",
    "percentage_of_complete_data = []\n",
    "for data in complete_data[0:percentage]:\n",
    "    percentage_of_complete_data.append(data)\n",
    "len(complete_data)"
   ]
  },
  {
   "cell_type": "code",
   "execution_count": 9,
   "metadata": {},
   "outputs": [
    {
     "data": {
      "text/plain": [
       "'1'"
      ]
     },
     "execution_count": 9,
     "metadata": {},
     "output_type": "execute_result"
    }
   ],
   "source": [
    "sentences[0]\n",
    "labels[0]"
   ]
  },
  {
   "cell_type": "code",
   "execution_count": 11,
   "metadata": {
    "collapsed": true
   },
   "outputs": [],
   "source": [
    "tag2idx={'0': 0, '1': 1, '2': 2, '3': 3}"
   ]
  },
  {
   "cell_type": "code",
   "execution_count": 12,
   "metadata": {},
   "outputs": [
    {
     "data": {
      "text/plain": [
       "{0: '0', 1: '1', 2: '2', 3: '3'}"
      ]
     },
     "execution_count": 12,
     "metadata": {},
     "output_type": "execute_result"
    }
   ],
   "source": [
    "# Mapping index to name\n",
    "tag2name={tag2idx[key] : key for key in tag2idx.keys()}\n",
    "tag2name"
   ]
  },
  {
   "cell_type": "code",
   "execution_count": 13,
   "metadata": {},
   "outputs": [
    {
     "data": {
      "text/plain": [
       "8"
      ]
     },
     "execution_count": 13,
     "metadata": {},
     "output_type": "execute_result"
    }
   ],
   "source": [
    "device = torch.device(\"cuda\" if torch.cuda.is_available() else \"cpu\")\n",
    "n_gpu = torch.cuda.device_count()\n",
    "n_gpu"
   ]
  },
  {
   "cell_type": "code",
   "execution_count": 14,
   "metadata": {},
   "outputs": [
    {
     "data": {
      "text/plain": [
       "device(type='cuda')"
      ]
     },
     "execution_count": 14,
     "metadata": {},
     "output_type": "execute_result"
    }
   ],
   "source": [
    "torch.cuda.is_available()\n",
    "device"
   ]
  },
  {
   "cell_type": "code",
   "execution_count": 15,
   "metadata": {
    "collapsed": true
   },
   "outputs": [],
   "source": [
    "vocabulary = 'models/xlnet-base-cased/xlnet-base-cased-spiece.model'\n"
   ]
  },
  {
   "cell_type": "code",
   "execution_count": 16,
   "metadata": {
    "collapsed": true
   },
   "outputs": [],
   "source": [
    "# Len of the sentence must be the same as the training model\n",
    "# See model's 'max_position_embeddings' = 512\n",
    "max_len  = 64"
   ]
  },
  {
   "cell_type": "code",
   "execution_count": 17,
   "metadata": {
    "collapsed": true
   },
   "outputs": [],
   "source": [
    "# With cased model, set do_lower_case = False\n",
    "tokenizer = XLNetTokenizer(vocab_file=vocabulary,do_lower_case=False)"
   ]
  },
  {
   "cell_type": "code",
   "execution_count": 18,
   "metadata": {},
   "outputs": [
    {
     "name": "stdout",
     "output_type": "stream",
     "text": [
      "No.:0\n",
      "sentence: American hip hop artist who has gained fame for his numerous albums and mixtapes including The Chuuwee Channel, Paradiso, Sabbath, Club 27, Commerce EP, and more. American hip hop artist who has gained fame for his numerous albums and mixtapes including The Chuuwee Channel, Paradiso, Sabbath, Club 27, Commerce EP, and more. Dionte Chuuwee Hunter is an American hip hop artist from Sacramento, California. Chuuwee has established a strong underground presence and is regularly featured on popular hip hop blogs and websites, such as 2DopeBoyz, HipHopDX, DJBooth, AllHipHop, and others. He also received a feature in XXL magazine. He was interviewed by Forbes at SXSW '12 as a rising artist. The record producers Chuuwee has worked with in the past include Cookin' Soul, Lee Bannon, Large Professor, as well as many others. He is currently signed to Amalgam Digital and has released four free mixtapes through the label. He recently released a collaboration mixtape with Southern California rapper Trizz, called Amerikkas Most Blunted on March 1, 2014. On August 12, 2014 Chuuwee released an album titled The Chuuwee Channel. Dionte Chuuwee Hunter is an American hip hop artist from Sacramento, California. Chuuwee spent many years of his life moving around as a child. He lived in nearly every neighborhood of Sacramento, CA before moving to San Antonio in middle school. The Official Facebook Music Page of Chuuwee. Find all info and updates here or allchucaneat.com#N##N#http://en.wikipedia.org/wiki/Chuuwee#N##N#IG/Twitter:... http://en.wikipedia.org/wiki/Chuuwee http://Facebook.com/ChuuweeNCR 🐝🌹✝️🍯|| JADED Pinkett || i.F. Ch3z! || UNDERGROUND KING || Jerome Jett || Dio.|| Kawasu Enthusiast || SSS GHOUL || Run Me Chip or Run My Fade 🤬\n",
      "input_ids:[242, 5514, 14045, 2478, 61, 51, 2542, 9917, 28, 45, 2355, 7072, 21, 3862, 751, 9462, 208, 32, 7175, 660, 20093, 5647, 19, 6113, 3473, 155, 19, 24493, 19, 1906, 1514, 19, 5888, 9765, 19, 21, 70, 9, 242, 5514, 14045, 2478, 61, 51, 2542, 9917, 28, 45, 2355, 7072, 21, 3862, 751, 9462, 208, 32, 7175, 660, 20093, 5647, 19, 6113, 7739, 7739]\n",
      "attention_masks:[0, 0, 0, 0, 0, 0, 0, 0, 0, 0, 0, 0, 0, 0, 0, 0, 0, 0, 0, 0, 0, 0, 0, 0, 0, 0, 0, 0, 0, 0, 0, 0, 0, 0, 0, 0, 0, 0, 0, 0, 0, 0, 0, 0, 0, 0, 0, 0, 0, 0, 0, 0, 0, 0, 0, 0, 0, 0, 0, 0, 0, 0, 0, 0]\n",
      "segment_ids:[0, 0, 0, 0, 0, 0, 0, 0, 0, 0, 0, 0, 0, 0, 0, 0, 0, 0, 0, 0, 0, 0, 0, 0, 0, 0, 0, 0, 0, 0, 0, 0, 0, 0, 0, 0, 0, 0, 0, 0, 0, 0, 0, 0, 0, 0, 0, 0, 0, 0, 0, 0, 0, 0, 0, 0, 0, 0, 0, 0, 0, 0, 0, 2]\n",
      "\n",
      "\n",
      "No.:1\n",
      "sentence: Mehmet Barış Manço (born Tosun Yusuf Mehmet Barış Manço; 2 January 1943 – 1 February 1999), known by his stage name Barış Manço, was a Turkish rock musician, singer, songwriter, composer, actor, television producer and show host. Beginning his musical career while attending Galatasaray High School, he was a pioneer of rock music in Turkey and one of the founders of the Anatolian rock genre. Manço composed around 200 songs and is among the best-selling and most awarded Turkish artists to date. Many of his songs were translated into a variety of languages including English, French, Japanese, Greek, Italian, Bulgarian, Romanian, Persian, Hebrew, Urdu, Arabic, and German, among others. Through his TV program, 7'den 77'ye (From 7 to 77), Manço traveled the world and visited most countries on the globe. He remains one of the most popular public figures of Turkey. Mehmet Barış Manço (born Tosun Yusuf Mehmet Barış Manço; 2 January 1943 – 1 February 1999), known by his stage name Barış Manço, was a Turkish rock musician, singer, songwriter, composer, actor, television producer and show host. Beginning his musical career while attending Galatasaray High School, he was a pioneer of rock music in Turkey and one of the founders of the Anatolian rock genre. Manço composed around 200 songs and is among the best-selling and most awarded Turkish artists to date. Many of his songs were translated into a variety of languages including English, French, Japanese, Greek, Italian, Bulgarian, Romanian, Persian, Hebrew, Urdu, Arabic, and German, among others. Through his TV program, 7'den 77'ye (From 7 to 77), Manço traveled the world and visited most countries on the globe. He remains one of the most popular public figures of Turkey. Mehmet Barış Manço, known by his stage name Barış Manço, was a Turkish rock musician, singer, songwriter, composer, and television producer. Beginning his musical career while attending Galatasaray High School, he was a pioneer of rock music in Turkey and one of the founders of the Anatolian rock genre. Manço composed around 200 songs and is among the best-selling and most awarded Turkish artists to date. Many of his songs were translated into a variety of languages including English, French, Japanese, Greek, Italian, Bulgarian, Romanian, Persian, Hebrew, Urdu, Arabic, and German, among others. Through his television program, 7'den 77'ye, Manço traveled the world and visited most countries on the globe. He remains one of the most popular public figures of Turkey. Singer, composer, movie actor, TV producer, TV celebrity. Born in Istanbul on January 2nd, 1943. Married to Lale, and father of two sons: Dogukan and Batikan.#N##N#After high school education in Galatasaray Lisesi, Turkey, he graduated from L'Académie Royale des Beaux Arts de Liège in Belgium in 1969.#N##N#He wrote, composed and performed more than 200 songs. A large number of these songs were translated into Greek, Bulgarian, Romanian, Arabic, Persian, Kurdish and re-recorded by local artists. 12 of his albums were crowned gold and 1 platinum.#N##N#In 1988, after 30 years of brilliant singer career, with a young and dynamic team, he created a new family and children oriented TV show for TRT 1 (Turkish State TV, 1st. Channel). The basic idea was, to travel around the world, to meet remote people (mainly children) and to try to build new cultural bridges between countries in a unique blend of an educational, entertaining but musical atmosphere. From 7 to 77 with Baris Manco, completed it's eight successful year, and reached its 300th. week (an anniversary that has never celebrated before by any TV show in Turkey) is still one of the nation's most favorite Sunday TV shows and is retransmitted the same day, by satellite to Europe, to the Mediterranean area, to the Central Asia and to the Middle East. Baris Manco and his TV crew traveled From the Polar Circle to Equator, via Patagonia and Himalayas, and covered more than 150 countries. In other words, they toured some twelve times and a half, around the world. The presidents, philosophers, writers, members of the royal families, superstars, astronauts... are among those whom Baris Manco has already hosted in his show. As a token of appreciation for such an international cultural effort, Baris Manco received some 300 Grand Prix awards, trophies, prizes and nominations in his career. Such as: Doctor Honoris Causa Es Art of the Hacettepe University, Ankara, Turkey (1991), Turkish State Artist of the Republic of Turkey (1991), International Culture and Peace Award of the Soka University, Tokyo, Japan (1991), Chevalier de l'Ordre des Arts et des Lettres of the Republic of France, Paris (1992), Chevalier de l'Ordre de Léopold II of the Kingdom of Belgium, Brussels (1992), Honorific Citizen of Turkmenistan, Ashgabat (1995), Doctor Honoris Causa of the Pamukkale University, Turkey (1995), Highest Honor Award of Art of Min-On foundation, Tokyo, Japan (1995).#N##N#Baris also had political ambitions and in 1995 he was candidate for mayor of the Istanbul district of Kadikoy by the conservative True Path Party (DYP), but heart problems forced him to withdraw from the race.#N##N#He was fond of Victorian and Art Deco furniture. He owned two of the largest collections of Art Nouveau Glass and 18th. century Japanese Imari porcelain in Turkey.#N##N#He died unexpectedly on 31st January 1999, from a heart attack. His funeral service was held on the 3rd of February 1999 at the Ataturk State Theater in Istanbul and huge masses of people gathered along his last trip to the mosque of Levent, after which Baris Manco was Laid to rest. Singer, composer, movie actor, TV producer, TV celebrity. Born in Istanbul on January 2nd, 1943. Married to Lale, and father of two sons: Dogukan and Batikan. After high school education in Galatasaray Lisesi, Turkey, he graduated from L'Académie Royale des Beaux Arts de Liège in Belgium in 1969. He wrote, composed and performed more than 200 songs. A large number of these songs were translated into Greek, Bulgarian, Romanian, Arabic, Persian, Kurdish and re-recorded by local artists. 12 of his albums were crowned gold and 1 platinum. In 1988, after 30 years of brilliant singer career, with a young and dynamic team, he created a new family and children oriented TV show for TRT 1 (Turkish State TV, 1st. Channel). The basic idea was, to travel around the world, to meet remote people (mainly children) and to try to build new cultural bridges between countries in a unique blend of an educational, entertaining but musical atmosphere. From 7 to 77 with Baris Manco, completed it's eight successful year, and reached its 300th. week (an anniversary that has never celebrated before by any TV show in Turkey) is still one of the nation's most favorite Sunday TV shows and is retransmitted the same day, by satellite to Europe, to the Mediterranean area, to the Central Asia and to the Middle East. Baris Manco and his TV crew traveled From the Polar Circle to Equator, via Patagonia and Himalayas, and covered more than 150 countries. In other words, they toured some twelve times and a half, around the world. The presidents, philosophers, writers, members of the royal families, superstars, astronauts... are among those whom Baris Manco has already hosted in his show. As a token of appreciation for such an international cultural effort, Baris Manco received some 300 Grand Prix awards, trophies, prizes and nominations in his career. Such as: Doctor Honoris Causa Es Art of the Hacettepe University, Ankara, Turkey (1991), Turkish State Artist of the Republic of Turkey (1991), International Culture and Peace Award of the Soka University, Tokyo, Japan (1991), Chevalier de l'Ordre des Arts et des Lettres of the Republic of France, Paris (1992), Chevalier de l'Ordre de Léopold II of the Kingdom of Belgium, Brussels (1992), Honorific Citizen of Turkmenistan, Ashgabat (1995), Doctor Honoris Causa of the Pamukkale University, Turkey (1995), Highest Honor Award of Art of Min-On foundation, Tokyo, Japan (1995). Baris also had political ambitions and in 1995 he was candidate for mayor of the Istanbul district of Kadikoy by the conservative True Path Party (DYP), but heart problems forced him to withdraw from the race. He was fond of Victorian and Art Deco furniture. He owned two of the largest collections of Art Nouveau Glass and 18th. century Japanese Imari porcelain in Turkey. He died unexpectedly on 31st January 1999, from a heart attack. His funeral service was held on the 3rd of February 1999 at the Ataturk State Theater in Istanbul and huge masses of people gathered along his last trip to the mosque of Levent, after which Baris Manco was Laid to rest.\n",
      "input_ids:[12617, 6720, 1744, 13604, 23, 1341, 721, 17, 10, 1249, 324, 13276, 26741, 12617, 6720, 1744, 13604, 23, 1341, 721, 97, 159, 610, 8103, 17, 14, 156, 803, 2004, 11, 19, 318, 37, 45, 1269, 304, 1744, 13604, 23, 1341, 721, 19, 30, 24, 3393, 1796, 9000, 19, 3592, 19, 17, 10943, 19, 8436, 19, 3892, 19, 892, 3324, 21, 351, 2057, 7739, 7739]\n",
      "attention_masks:[0, 0, 0, 0, 0, 0, 0, 0, 0, 0, 0, 0, 0, 0, 0, 0, 0, 0, 0, 0, 0, 0, 0, 0, 0, 0, 0, 0, 0, 0, 0, 0, 0, 0, 0, 0, 0, 0, 0, 0, 0, 0, 0, 0, 0, 0, 0, 0, 0, 0, 0, 0, 0, 0, 0, 0, 0, 0, 0, 0, 0, 0, 0, 0]\n",
      "segment_ids:[0, 0, 0, 0, 0, 0, 0, 0, 0, 0, 0, 0, 0, 0, 0, 0, 0, 0, 0, 0, 0, 0, 0, 0, 0, 0, 0, 0, 0, 0, 0, 0, 0, 0, 0, 0, 0, 0, 0, 0, 0, 0, 0, 0, 0, 0, 0, 0, 0, 0, 0, 0, 0, 0, 0, 0, 0, 0, 0, 0, 0, 0, 0, 2]\n",
      "\n",
      "\n",
      "No.:2\n",
      "sentence: Dean Vegas is an Elvis Impersonator. Dean Vegas is an Elvis Impersonator. Dean Vegas is an Elvis tribute artist and politician. He has performed around the world as Elvis. He has been referred to as the top Elvis Presley impersonator in Australia. Dean Vegas is an actor, known for Enter the Hamster (2011) and George of the Jungle 2 (2003). 🇦🇺 Australian Tribute to Elvis#N#💒 Australia's only Official Elvis Marriage Celebrant#N#🥇Winner of Worlds Largest Elvis Festival 2000 Canada\n",
      "input_ids:[5153, 5922, 27, 48, 15269, 8862, 9945, 2912, 9, 5153, 5922, 27, 48, 15269, 8862, 9945, 2912, 9, 5153, 5922, 27, 48, 15269, 8223, 2478, 21, 4857, 9, 69, 51, 2062, 199, 18, 185, 34, 15269, 9, 69, 51, 72, 3166, 22, 34, 18, 310, 15269, 23757, 7693, 6104, 2912, 25, 964, 9, 5153, 5922, 27, 48, 3892, 19, 318, 28, 10042, 7739, 7739]\n",
      "attention_masks:[0, 0, 0, 0, 0, 0, 0, 0, 0, 0, 0, 0, 0, 0, 0, 0, 0, 0, 0, 0, 0, 0, 0, 0, 0, 0, 0, 0, 0, 0, 0, 0, 0, 0, 0, 0, 0, 0, 0, 0, 0, 0, 0, 0, 0, 0, 0, 0, 0, 0, 0, 0, 0, 0, 0, 0, 0, 0, 0, 0, 0, 0, 0, 0]\n",
      "segment_ids:[0, 0, 0, 0, 0, 0, 0, 0, 0, 0, 0, 0, 0, 0, 0, 0, 0, 0, 0, 0, 0, 0, 0, 0, 0, 0, 0, 0, 0, 0, 0, 0, 0, 0, 0, 0, 0, 0, 0, 0, 0, 0, 0, 0, 0, 0, 0, 0, 0, 0, 0, 0, 0, 0, 0, 0, 0, 0, 0, 0, 0, 0, 0, 2]\n",
      "\n",
      "\n"
     ]
    }
   ],
   "source": [
    "max_len  = 64\n",
    "\n",
    "full_input_ids = []\n",
    "full_input_masks = []\n",
    "full_segment_ids = []\n",
    "\n",
    "SEG_ID_A   = 0\n",
    "SEG_ID_B   = 1\n",
    "SEG_ID_CLS = 2\n",
    "SEG_ID_SEP = 3\n",
    "SEG_ID_PAD = 4\n",
    "\n",
    "UNK_ID = tokenizer.encode(\"<unk>\")[0]\n",
    "CLS_ID = tokenizer.encode(\"<cls>\")[0]\n",
    "SEP_ID = tokenizer.encode(\"<sep>\")[0]\n",
    "MASK_ID = tokenizer.encode(\"<mask>\")[0]\n",
    "EOD_ID = tokenizer.encode(\"<eod>\")[0]\n",
    "\n",
    "for i,sentence in enumerate(sentences):\n",
    "    # Tokenize sentence to token id list\n",
    "    tokens_a = tokenizer.encode(sentence)\n",
    "    \n",
    "    # Trim the len of text\n",
    "    if(len(tokens_a)>max_len-2):\n",
    "        tokens_a = tokens_a[:max_len-2]\n",
    "        \n",
    "        \n",
    "    tokens = []\n",
    "    segment_ids = []\n",
    "    \n",
    "    for token in tokens_a:\n",
    "        tokens.append(token)\n",
    "        segment_ids.append(SEG_ID_A)\n",
    "        \n",
    "    # Add <sep> token \n",
    "    tokens.append(SEP_ID)\n",
    "    segment_ids.append(SEG_ID_A)\n",
    "    \n",
    "    \n",
    "    # Add <cls> token\n",
    "    tokens.append(CLS_ID)\n",
    "    segment_ids.append(SEG_ID_CLS)\n",
    "    \n",
    "    input_ids = tokens\n",
    "    \n",
    "    # The mask has 0 for real tokens and 1 for padding tokens. Only real\n",
    "    # tokens are attended to.\n",
    "    input_mask = [0] * len(input_ids)\n",
    "\n",
    "    # Zero-pad up to the sequence length at fornt\n",
    "    if len(input_ids) < max_len:\n",
    "        delta_len = max_len - len(input_ids)\n",
    "        input_ids = [0] * delta_len + input_ids\n",
    "        input_mask = [1] * delta_len + input_mask\n",
    "        segment_ids = [SEG_ID_PAD] * delta_len + segment_ids\n",
    "\n",
    "    assert len(input_ids) == max_len\n",
    "    assert len(input_mask) == max_len\n",
    "    assert len(segment_ids) == max_len\n",
    "    \n",
    "    full_input_ids.append(input_ids)\n",
    "    full_input_masks.append(input_mask)\n",
    "    full_segment_ids.append(segment_ids)\n",
    "    \n",
    "    if 3 > i:\n",
    "        print(\"No.:%d\"%(i))\n",
    "        print(\"sentence: %s\"%(sentence))\n",
    "        print(\"input_ids:%s\"%(input_ids))\n",
    "        print(\"attention_masks:%s\"%(input_mask))\n",
    "        print(\"segment_ids:%s\"%(segment_ids))\n",
    "        print(\"\\n\")"
   ]
  },
  {
   "cell_type": "code",
   "execution_count": 19,
   "metadata": {},
   "outputs": [
    {
     "name": "stdout",
     "output_type": "stream",
     "text": [
      "{'0': 0, '1': 1, '2': 2, '3': 3}\n"
     ]
    }
   ],
   "source": [
    "print(tag2idx)"
   ]
  },
  {
   "cell_type": "code",
   "execution_count": 20,
   "metadata": {},
   "outputs": [
    {
     "name": "stdout",
     "output_type": "stream",
     "text": [
      "[1, 1, 1, 1, 2, 2, 0, 2, 2, 3, 2, 0, 2, 1, 0, 2, 3, 0, 0, 3, 3, 0, 0, 0, 3, 3, 2, 2, 2, 1, 0, 2, 0, 2, 2, 2, 1, 0, 0, 0, 0, 0, 1, 2, 0, 0, 1, 2, 0, 0, 2, 2, 1, 0, 0, 1, 0, 2, 3, 3, 1, 3, 3, 1, 1, 3, 0, 2, 3, 3, 0, 0, 1, 1, 0, 2, 3, 3, 2, 0, 2, 3, 2, 1, 2, 1, 1, 1, 1, 2, 3, 1, 1, 2, 0, 3, 2, 2, 0, 2, 2, 2, 1, 3, 3, 0, 1, 2, 2, 1, 1, 0, 2, 2, 1, 2, 2, 0, 2, 0, 3, 3, 2, 1, 1, 1, 0, 1, 0, 0, 3, 0, 0, 1, 0, 1, 2, 2, 1, 0, 2, 0, 3, 2, 3, 3, 1, 2, 1, 3, 2, 1, 0, 2, 0, 3, 1, 1, 0, 1, 1, 2, 1, 3, 3, 0, 1, 2, 2, 1, 1, 0, 1, 3, 2, 2, 0, 3, 0, 2, 0, 0, 3, 1, 1, 0, 1, 2, 3, 2, 0, 2, 2, 2, 0, 3, 1, 1, 1, 2, 3, 1, 1, 1, 1, 1, 3, 2, 0, 2, 1, 3, 3, 0, 1, 0, 3, 2, 2, 3, 3, 0, 1, 2, 3, 3, 1, 2, 3, 2, 1, 3, 1, 0, 2, 1, 1, 2, 0, 1, 1, 1, 0, 0, 2, 0, 0, 0, 2, 2, 1, 2, 3, 0, 1, 1, 2, 0, 1, 1, 0, 1, 1, 0, 0, 1, 1, 2, 2, 1, 0, 2, 0, 0, 1, 2, 3, 1, 2, 0, 1, 0, 2, 3, 1, 1, 0, 2, 3, 2, 3, 1, 1, 2, 0, 1, 2, 0, 1, 1, 1, 0, 3, 3, 2, 3, 0, 1, 3, 0, 1, 0, 3, 2, 0, 0, 0, 2, 0, 1, 0, 3, 2, 0, 2, 3, 2, 0, 0, 0, 1, 1, 1, 1, 1, 2, 1, 0, 1, 2, 2, 3, 2, 3, 1, 2, 2, 2, 1, 2, 0, 1, 3, 2, 2, 2, 0, 3, 2, 1, 1, 2, 1, 2, 0, 1, 1, 0, 3, 2, 0, 3, 0, 1, 0, 0, 2, 2, 3, 0, 0, 1, 3, 1, 3, 1, 2, 1, 1, 1, 1, 1, 2, 3, 1, 1, 0, 2, 0, 3, 1, 0, 1, 0, 0, 2, 0, 1, 1, 0, 0, 1, 0, 0, 2, 3, 2, 1, 0, 3, 0, 2, 0, 2, 2, 3, 3, 3, 1, 1, 1, 2, 2, 3, 1, 1, 1, 0, 0, 0, 1, 1, 2, 0, 2, 0, 1, 0, 2, 2, 1, 1, 1, 1, 3, 2, 0, 3, 2, 3, 3, 3, 2, 1, 1, 1, 2, 2, 2, 1, 0, 2, 2, 2, 0, 0, 1, 2, 1, 2, 1, 0, 0, 0, 3, 3, 2, 2, 2, 0, 1, 0, 0, 0, 3, 2, 3, 0, 1, 2, 0, 3, 2, 2, 0, 0, 1, 2, 2, 2, 2, 3, 1, 1, 3, 1, 1, 2, 3, 1, 1, 1, 0, 0, 1, 1, 3, 3, 1, 1, 2, 2, 2, 3, 1, 3, 0, 0, 1, 1, 2, 0, 0, 3, 1, 0, 0, 0, 1, 2, 2, 1, 1, 2, 2, 2, 0, 1, 3, 2, 3, 2, 2, 0, 0, 3, 3, 2, 1, 2, 3, 2, 0, 2, 0, 2, 0, 1, 2, 1, 2, 2, 2, 0, 3, 2, 3, 2, 0, 3, 0, 0, 1, 1, 2, 0, 0, 2, 0, 1, 1, 1, 2, 2, 1, 1, 1, 0, 0, 2, 0, 2, 3, 3, 2, 0, 0, 0, 0, 0, 3, 1, 2, 2, 1, 1, 1, 2, 2, 2, 2, 0, 3, 3, 3, 2, 0, 2, 1, 1, 1, 0, 0, 1, 1, 2, 3, 2, 2, 2, 0, 0, 3, 3, 0, 2, 2, 0, 2, 0, 1, 1, 1, 1, 2, 0, 0, 2, 2, 1, 3, 2, 1, 0, 3, 1, 1, 1, 3, 1, 1, 2, 0, 3, 1, 2, 0, 1, 2, 2, 3, 1, 1, 3, 2, 2, 1, 1, 2, 1, 1, 0, 0, 3, 2, 3, 1, 0, 1, 1, 1, 3, 0, 1, 3, 2, 3, 3, 2, 1, 3, 0, 2, 0, 2, 1, 0, 1, 0, 2, 3, 3, 1, 0, 1, 3, 3, 3, 1, 1, 3, 2, 2, 2, 3, 0, 1, 2, 2, 0, 3, 1, 0, 0, 1, 3, 1, 0, 1, 2, 1, 1, 0, 0, 2, 0, 2, 0, 1, 0, 1, 3, 2, 3, 0, 0, 2, 1, 1, 0, 0, 1, 0, 0, 2, 1, 1, 2, 0, 1, 3, 3, 0, 2, 0, 2, 2, 3, 1, 0, 3, 1, 1, 0, 1, 0, 3, 2, 1, 3, 1, 1, 0, 1, 2, 3, 0, 0, 1, 3, 1, 1, 2, 2, 3, 1, 2, 1, 2, 2, 2, 2, 1, 0, 2, 2, 2, 1, 0, 2, 3, 1, 3, 1, 3, 2, 2, 1, 1, 1, 3, 0, 3, 1, 1, 2, 0, 1, 0, 2, 2, 2, 3, 3, 0, 3, 1, 1, 0, 0, 1, 1, 1, 3, 3, 3, 2, 0, 0, 0, 2, 0, 1, 3, 1, 1, 2, 1, 2, 2, 2, 0, 2, 1, 1, 1, 2, 0, 0, 0, 0, 1, 3, 2, 3, 1, 3, 0, 2, 1, 2, 3, 1, 1, 0, 0, 3, 2, 1, 2, 2, 0, 2, 1, 2, 2, 3, 0, 1, 1, 0, 3, 1, 0, 3, 2, 1, 1, 1, 1, 0, 2, 1, 0, 1, 0, 0, 1, 0, 1, 3, 3, 3, 3, 0, 1, 1, 1, 1, 1, 2, 1, 1, 1, 1, 1, 1, 1, 2, 1, 3, 1, 1, 2, 3, 1, 1, 2, 0, 1, 0, 0, 0, 0, 1, 0, 1, 0, 2, 3, 2, 1, 1, 3, 1, 0, 2, 1, 2, 0, 3, 2, 1, 1, 3, 0, 2, 1, 3, 2, 1, 2, 2, 3, 1, 1, 2, 0, 2, 1, 1, 1, 0, 0, 1, 2, 2, 0, 2, 1, 3, 2, 0, 1, 1, 1, 1, 0, 1, 0, 0, 2, 2, 1, 0, 0, 3, 0, 2, 2, 1, 0, 1, 0, 0, 1, 2, 1, 2, 0, 2, 3, 1, 1, 0, 1, 3, 2, 0, 2, 1, 2, 0, 2, 2, 2, 2, 3, 0, 2, 0, 3, 0, 2, 0, 2, 3, 3, 0, 3, 2, 2, 3, 1, 0, 1, 3, 1, 0, 0, 2, 1, 2, 3, 1, 3, 2, 3, 2, 1, 3, 1, 2, 2, 0, 3, 2, 2, 0, 1, 2, 3, 2, 1, 2, 3, 1, 1, 3, 1, 1, 1, 0, 1, 2, 1, 3, 0, 1, 1, 1, 1, 2, 1, 2, 1, 1, 1, 1, 1, 3, 0, 0, 1, 0, 2, 3, 2, 3, 2, 0, 1, 0, 1, 2, 3, 1, 2, 0, 3, 2, 1, 3, 3, 3, 0, 2, 3, 0, 0, 3, 1, 0, 2, 0, 2, 3, 0, 2, 1, 1, 1, 1, 3, 1, 1, 1, 3, 0, 3, 0, 2, 0, 1, 2, 0, 1, 1, 3, 3, 2, 3, 0, 1, 3, 1, 2, 3, 0, 1, 1, 3, 2, 2, 2, 0, 2, 3, 0, 3, 0, 1, 2, 2, 1, 1, 2, 1, 3, 1, 3, 1, 2, 0, 0, 0, 0, 2, 2, 2, 3, 3, 2, 1, 0, 0, 1, 0, 0, 2, 2, 0, 0, 3, 0, 1, 3, 0, 2, 2, 2, 0, 3, 0, 2, 1, 1, 3, 2, 1, 2, 2, 3, 0, 2, 0, 2, 1, 1, 2, 1, 2, 0, 0, 1, 2, 0, 2, 2, 3, 3, 3, 1, 3, 3, 2, 1, 3, 2, 1, 3, 3, 3, 3, 0, 2, 2, 2, 2, 0, 1, 1, 3, 1, 3, 3, 1, 3, 0, 1, 1, 2, 2, 1, 2, 0, 0, 0, 3, 1, 0, 1, 0, 2, 3, 3, 1, 3, 1, 0, 0, 2, 1, 2, 2, 1, 0, 2, 1, 0, 1, 1, 2, 2, 1, 0, 2, 1, 0, 0, 3, 3, 1, 2, 0, 1, 1, 0, 1, 1, 3, 3, 0, 0, 0, 0, 1, 0, 2, 1, 0, 2, 1, 0, 3, 1, 3, 0, 0, 2, 3, 0, 3, 0, 3, 0, 3, 0, 1, 3, 3, 2, 2, 2, 0, 0, 2, 0, 1, 3, 0, 0, 3, 0, 1, 0, 3, 3, 0, 1, 1, 2, 2, 1, 3, 0, 2, 2, 1, 2, 0, 1, 3, 1, 3, 0, 2, 1, 3, 1, 3, 1, 1, 2, 1, 1, 1, 0, 0, 0, 3, 0, 3, 0, 0, 0, 0, 0, 0, 0, 0, 2, 3, 1, 3, 1, 2, 0, 1, 0, 3, 1, 1, 1, 1, 0, 1, 0, 1, 1, 2, 1, 3, 3, 2, 0, 0, 0, 0, 3, 1, 3, 0, 2, 2, 2, 2, 3, 2, 2, 1, 1, 3, 3, 1, 2, 1, 3, 1, 3, 3, 0, 0, 1, 1, 0, 3, 1, 2, 0, 0, 1, 2, 1, 2, 3, 0, 1, 1, 2, 3, 2, 0, 0, 1, 1, 1, 0, 1, 2, 2, 0, 1, 3, 0, 3, 0, 1, 2, 2, 2, 1, 1, 1, 1, 0, 1, 1, 2, 0, 3, 0, 1, 3, 1, 1, 0, 2, 0, 2, 0, 2, 0, 0, 0, 3, 2, 0, 0, 0, 3, 0, 1, 1, 2, 0, 1, 0, 2, 2, 3, 3, 0, 0, 0, 1, 3, 0, 2, 0, 0, 2, 3, 3, 0, 0, 3, 0, 2, 3, 2, 0, 3, 0, 2, 2, 2, 0, 2, 1, 0, 3, 0, 1, 0, 2, 1, 2, 3, 0, 0, 2, 1, 2, 0, 0, 1, 0, 1, 1, 0, 1, 0, 3, 2, 3, 2, 1, 2, 1, 0, 1, 0, 1, 1, 1, 1, 2, 1, 2, 1, 0, 0, 3, 1, 2, 0, 2, 3, 2, 2, 1, 3, 3, 0, 0, 0, 1, 1, 0, 1, 0, 1, 1, 1, 3, 3, 0, 1, 3, 3, 1, 1, 1, 1, 1, 0, 0, 3, 0, 2, 1, 2, 3, 1, 0, 3, 0, 1, 2, 3, 3, 1, 0, 3, 2, 0, 3, 2, 0, 2, 0, 0, 1, 2, 0, 2, 0, 3, 2, 3, 2, 1, 1, 3, 2, 3, 2, 3, 3, 0, 2, 1, 0, 2, 0, 3, 2, 0, 1, 3, 1, 2, 3, 2, 1, 0, 0, 3, 3, 2, 0, 1, 0, 3, 0, 3, 0, 2, 1, 3, 0, 2, 2, 2, 0, 2, 2, 0, 1, 1, 2, 0, 0, 3, 2, 0, 0, 3, 0, 3, 0, 2, 2, 2, 3, 3, 1, 2, 1, 3, 2, 1, 3, 0, 1, 1, 0, 2, 1, 1, 1, 2, 1, 2, 3, 0, 2, 1, 3, 1, 1, 0, 1, 2, 2, 0, 3, 0, 2, 1, 2, 3, 0, 1, 1, 0, 2, 1, 1, 0, 1, 1, 2, 0, 1, 0, 2, 0, 3, 2, 1, 3, 1, 3, 0, 1, 2, 2, 0, 0, 0, 3, 2, 2, 2, 2, 0, 2, 2, 1, 0, 0, 2, 1, 2, 2, 1, 1, 1, 3, 2, 2, 1, 2, 2, 0, 2, 1, 1, 3, 0, 2, 0, 0, 1, 0, 1, 1, 0, 1, 3, 2, 1, 1, 1, 1, 2, 1, 2, 3, 1, 2, 0, 2, 3, 3, 3, 2, 2, 1, 0, 1, 3, 1, 1, 0, 1, 2, 3, 0, 3, 0, 2, 3, 1, 2, 1, 2, 3, 3, 1, 0, 2, 0, 1, 0, 0, 3, 3, 3, 0, 1, 2, 3, 1, 2, 2, 3, 1, 2, 3, 1, 3, 1, 2, 0, 2, 3, 3, 2, 3, 1, 1, 2, 3, 1, 3, 3, 1, 1, 0, 1, 3, 2, 0, 1, 1, 1, 3, 2, 3, 3, 3, 3, 1, 2, 1, 1, 3, 0, 1, 0, 0, 3, 3, 1, 2, 2, 1, 1, 3, 2, 0, 2, 1, 3, 0, 0, 0, 3, 1, 1, 0, 0, 0, 1, 2, 0, 0, 3, 3, 1, 0, 3, 1, 3, 0, 0, 3, 2, 1, 0, 0, 2, 2, 3, 2, 1, 2, 3, 2, 2, 3, 0, 2, 1, 1, 0, 0, 1, 0, 0, 1, 0, 1, 1, 2, 3, 2, 2, 3, 0, 2, 2, 2, 2, 3, 1, 3, 0, 3, 3, 1, 3, 2, 1, 0, 2, 3, 0, 1, 3, 0, 1, 1, 1, 3, 1, 3, 0, 0, 0, 2, 2, 0, 3, 1, 0, 1, 1, 1, 2, 3, 1, 2, 0, 0, 1, 2, 2, 3, 1, 2, 1, 0, 1, 0, 3, 1, 0, 0, 3, 3, 3, 0, 0, 2, 1, 1, 1, 1, 3, 0, 2, 3, 2, 2, 0, 0, 2, 2, 2, 2, 0, 3, 1, 2, 1, 3, 3, 1, 3, 3, 2, 3, 2, 3, 2, 1, 0, 2, 0, 3, 0, 0, 1, 2, 2, 0, 0, 1, 1, 1, 2, 1, 3, 1, 0, 1, 1, 1, 2, 1, 1, 0, 1, 1, 1, 1, 0, 0, 3, 0, 0, 1, 2, 3, 1, 0, 1, 1, 1, 2, 2, 0, 3, 2, 0, 2, 1, 1, 2, 0, 0, 3, 0, 2, 1, 2, 1, 3, 1, 2, 0, 2, 1, 3, 2, 2, 2, 3, 0, 0, 1, 0, 2, 0, 0, 0, 1, 1, 3, 0, 0, 0, 1, 2, 0, 3, 3, 1, 1, 2, 1, 1, 3, 1, 1, 3, 1, 2, 2, 0, 2, 0, 1, 2, 0, 0, 0, 2, 2, 1, 2, 3, 2, 3, 2, 2, 0, 1, 2, 1, 0, 2, 2, 1, 0, 0, 0, 3, 2, 1, 0, 3, 3, 1, 3, 0, 1, 0, 0, 3, 2, 0, 3, 3, 1, 3, 3, 3, 1, 1, 3, 1, 0, 3, 0, 1, 0, 2, 2, 2, 0, 0, 0, 1, 1, 2, 0, 2, 3, 3, 0, 1, 3, 1, 0, 0, 3, 0, 1, 2, 2, 1, 1, 2, 2, 0, 2, 0, 1, 3, 0, 1, 0, 3, 3, 2, 0, 0, 1, 1, 0, 0, 2, 1, 1, 0, 1, 1, 0, 3, 0, 1, 2, 1, 3, 1, 1, 1, 1, 0, 1, 2, 3, 2, 2, 3, 0, 3, 1, 3, 2, 2, 0, 1, 0, 2, 0, 2, 3, 2, 1, 2, 1, 2, 0, 3, 0, 3, 1, 2, 1, 0, 1, 2, 3, 1, 2, 2, 1, 2, 0, 1, 1, 2, 2, 2, 2, 3, 2, 2, 1, 1, 2, 2, 1, 1, 3, 0, 1, 2, 2, 2, 1, 2, 1, 3, 3, 2, 1, 1, 0, 1, 3, 1, 0, 3, 0, 1, 3, 1, 0, 1, 1, 2, 1, 1, 3, 0, 0, 2, 2, 3, 2, 2, 2, 3, 1, 0, 1, 2, 3, 1, 2, 1, 2, 3, 0, 2, 0, 3, 2, 2, 0, 2, 3, 1, 2, 1, 0, 1, 1, 2, 3, 0, 3, 1, 3, 3, 1, 2, 2, 3, 3, 0, 1, 3, 2, 3, 2, 0, 2, 3, 1, 3, 0, 2, 3, 2, 0, 1, 1, 2, 1, 0, 3, 2, 0, 0, 2, 1, 2, 0, 3, 1, 0, 0, 1, 2, 1, 1, 0, 1, 1, 0, 2, 1, 1, 0, 3, 2, 0, 1, 3, 3, 0, 2, 2, 1, 2, 3, 1, 1, 1, 0, 1, 3, 1, 2, 0, 1, 3, 3, 2, 1, 0, 0, 2, 0, 3, 0, 1, 1, 0, 1, 2, 2, 1, 3, 2, 3, 3, 1, 0, 2, 1, 1, 3, 0, 2, 1, 1, 3, 2, 3, 3, 1, 2, 0, 0, 2, 2, 2, 2, 0, 1, 3, 2, 2, 0, 2, 3, 2, 1, 1, 3, 1, 2, 3, 1, 2, 1, 2, 3, 2, 0, 0, 1, 3, 0, 0, 3, 0, 0, 2, 1, 1, 2, 1, 1, 0, 1, 1, 2, 3, 1, 1, 1, 0, 0, 3, 0, 2, 2, 0, 0, 2, 3, 2, 2, 2, 2, 2, 2, 2, 0, 1, 0, 1, 1, 1, 1, 2, 3, 3, 2, 1, 3, 2, 3, 0, 1, 3, 0, 2, 1, 0, 2, 0, 2, 2, 3, 3, 2, 3, 1, 0, 3, 3, 1, 0, 2, 2, 3, 1, 1, 1, 3, 0, 1, 0, 2, 3, 1, 2, 2, 2, 0, 2, 2, 1, 1, 3, 3, 3, 2, 1, 0, 3, 1, 1, 1, 1, 2, 3, 3, 2, 1, 2, 1, 2, 2, 2, 1, 1, 3, 2, 3, 2, 3, 0, 3, 0, 1, 0, 3, 2, 3, 1, 2, 0, 2, 1, 2, 0, 0, 2, 1, 0, 3, 1, 0, 3, 3, 1, 0, 1, 1, 0, 1, 3, 0, 1, 0, 1, 2, 3, 1, 3, 1, 3, 2, 1, 3, 1, 3, 0, 1, 0, 1, 3, 2, 0, 2, 0, 0, 0, 1, 1, 2, 1, 2, 0, 0, 1, 2, 2, 1, 1, 1, 3, 1, 0, 3, 2, 2, 0, 2, 2, 1, 1, 1, 2, 2, 2, 3, 2, 1, 3, 2, 3, 3, 2, 1, 1, 1, 1, 3, 1, 3, 1, 1, 3, 1, 1, 1, 2, 1, 0, 2, 1, 0, 1, 1, 1, 1, 3, 1, 1, 0, 1, 1, 1, 1, 0, 0, 1, 1, 1, 0, 2, 3, 2, 3, 1, 3, 1, 2, 0, 0, 1, 3, 2, 1, 2, 2, 3, 3, 2, 2, 2, 1, 2, 3, 1, 3, 2, 0, 1, 2, 2, 1, 2, 3, 0, 0, 0, 3, 3, 2, 2, 1, 0, 1, 1, 3, 1, 2, 0, 3, 2, 3, 0, 2, 3, 1, 3, 0, 0, 1, 2, 0, 2, 2, 2, 0, 0, 0, 1, 0, 0, 1, 0, 3, 1, 0, 3, 3, 2, 3, 2, 2, 3, 1, 3, 3, 1, 2, 2, 2, 2, 1, 2, 2, 2, 3, 0, 2, 2, 3, 0, 0, 0, 3, 0, 3, 3, 0, 3, 3, 0, 1, 1, 3, 1, 2, 3, 2, 1, 3, 2, 3, 1, 2, 2, 1, 1, 2, 0, 1, 1, 1, 1, 3, 2, 3, 1, 1, 1, 1, 0, 2, 2, 2, 3, 0, 0, 3, 0, 1, 2, 3, 2, 3, 2, 2, 2, 2, 0, 2, 2, 1, 2, 0, 1, 2, 2, 1, 2, 0, 0, 3, 0, 0, 1, 2, 2, 1, 2, 3, 3, 1, 3, 1, 1, 0, 2, 2, 2, 0, 2, 1, 0, 3, 0, 0, 3, 2, 0, 0, 3, 1, 2, 2, 1, 3, 2, 2, 1, 1, 1, 2, 0, 0, 3, 2, 3, 2, 3, 1, 2, 2, 2, 2, 3, 0, 1, 3, 2, 2, 3, 1, 1, 1, 0, 1, 1, 0, 1, 0, 0, 0, 0, 0, 3, 1, 2, 3, 3, 1, 1, 1, 1, 1, 0, 0, 0, 2, 2, 3, 2, 3, 2, 0, 0, 1, 3, 1, 2, 1, 1, 1, 2, 2, 1, 2, 2, 3, 2, 0, 1, 2, 2, 1, 1, 0, 0, 1, 1, 1, 3, 1, 3, 0, 1, 2, 2, 0, 0, 0, 3, 3, 2, 1, 2, 1, 1, 2, 0, 1, 1, 1, 1, 0, 1, 0, 2, 0, 2, 3, 1, 0, 2, 0, 3, 2, 0, 1, 1, 0, 0, 1, 2, 1, 2, 2, 0, 2, 1, 0, 0, 2, 1, 1, 1, 2, 0, 3, 2, 1, 1, 3, 1, 2, 2, 0, 1, 0, 0, 3, 2, 0, 1, 3, 2, 1, 1, 0, 2, 1, 2, 0, 1, 0, 3, 0, 1, 0, 2, 0, 3, 1, 2, 2, 2, 3, 3, 1, 2, 3, 3, 1, 1, 1, 2, 1, 1, 2, 3, 3, 1, 1, 1, 2, 1, 2, 1, 0, 2, 1, 0, 0, 1, 3, 2, 0, 2, 0, 2, 2, 0, 2, 1, 1, 1, 1, 1, 2, 3, 1, 1, 1, 3, 1, 0, 1, 2, 3, 2, 2, 0, 2, 1, 2, 1, 1, 1, 3, 2, 1, 1, 0, 2, 0, 1, 1, 2, 1, 1, 0, 1, 2, 1, 3, 1, 1, 0, 3, 1, 0, 1, 1, 0, 1, 1, 2, 3, 2, 1, 1, 1, 0, 1, 1, 0, 2, 3, 1, 0, 2, 2, 0, 3, 1, 1, 1, 1, 1, 1, 1, 2, 2, 3, 2, 1, 2, 2, 2, 3, 1, 0, 0, 1, 1, 1, 3, 1, 1, 2, 0, 1, 3, 3, 2, 1, 0, 0, 3, 2, 1, 3, 2, 3, 2, 1, 3, 2, 0, 1, 0, 3, 0, 2, 3, 2, 0, 3, 3, 2, 1, 2, 0, 2, 2, 2, 2, 2, 0, 0, 2, 0, 2, 2, 2, 2, 3, 2, 0, 1, 3, 1, 1, 0, 1, 2, 1, 2, 2, 3, 0, 1, 0, 3, 0, 1, 1, 1, 2, 0, 0, 0, 0, 1, 3, 3, 1, 1, 1, 3, 2, 2, 3, 3, 1, 0, 0, 0, 0, 1, 2, 0, 2, 3, 3, 2, 2, 2, 1, 0, 1, 2, 2, 1, 2, 1, 1, 3, 3, 0, 1, 0, 2, 1, 1, 1, 3, 0, 1, 0, 0, 2, 3, 3, 3, 2, 2, 1, 2, 2, 3, 2, 0, 1, 1, 2, 1, 1, 1, 0, 1, 0, 3, 0, 2, 1, 1, 0, 2, 3, 2, 1, 1, 1, 2, 1, 0, 2, 2, 2, 1, 0, 0, 1, 1, 2, 3, 0, 2, 1, 0, 1, 1, 1, 0, 1, 0, 3, 1, 0, 3, 2, 2, 1, 2, 2, 3, 0, 3, 3, 1, 2, 2, 1, 0, 3, 0, 1, 1, 0, 1, 3, 1, 3, 1, 2, 1, 2, 1, 0, 0, 2, 0, 0, 0, 1, 2, 0, 0, 1, 2, 0, 1, 2, 1, 0, 2, 0, 1, 1, 2, 1, 3, 2, 1, 3, 1, 2, 3, 0, 2, 3, 2, 0, 0, 3, 1, 2, 0, 2, 0, 1, 0, 1, 1, 1, 2, 2, 0, 3, 3, 0, 2, 0, 1, 0, 0, 2, 3, 0, 2, 1, 2, 0, 0, 2, 0, 1, 2, 0, 0, 3, 2, 1, 1, 2, 3, 1, 3, 0, 3, 0, 2, 3, 0, 2, 0, 1, 2, 2, 0, 1, 0, 1, 3, 2, 0, 2, 3, 2, 2, 1, 3, 2, 0, 1, 3, 1, 2, 0, 0, 1, 1, 3, 3, 0, 2, 1, 0, 2, 1, 3, 3, 1, 1, 1, 3, 3, 0, 0, 1, 1, 1, 3, 3, 2, 0, 0, 1, 0, 3, 2, 2, 0, 0, 2, 2, 0, 1, 0, 0, 1, 0, 0, 2, 1, 0, 3, 1, 2, 1, 2, 1, 0, 2, 3, 0, 3, 2, 0, 1, 2, 0, 2, 0, 0, 3, 2, 1, 1, 0, 2, 0, 0, 1, 3, 1, 0, 2, 1, 1, 0, 1, 3, 2, 2, 3, 1, 3, 0, 1, 2, 0, 2, 0, 2, 3, 0, 2, 2, 1, 0, 3, 3, 0, 0, 1, 2, 2, 3, 3, 2, 2, 1, 2, 1, 1, 3, 3, 0, 1, 1, 0, 1, 1, 2, 0, 0, 2, 3, 1, 0, 3, 2, 1, 3, 3, 2, 0, 3, 1, 3, 3, 1, 0, 1, 0, 3, 1, 1, 0, 2, 1, 1, 2, 1, 3, 1, 0, 0, 0, 2, 2, 1, 2, 1, 2, 2, 2, 0, 2, 1, 2, 1, 3, 3, 3, 3, 2, 2, 0, 3, 1, 0, 1, 2, 2, 1, 2, 2, 0, 3, 2, 0, 1, 2, 3, 3, 1, 0, 2, 0, 3, 3, 3, 0, 3, 1, 0, 1, 1, 1, 0, 1, 2, 0, 3, 2, 0, 1, 0, 3, 2, 3, 3, 2, 2, 1, 0, 0, 0, 2, 1, 1, 2, 2, 0, 2, 1, 3, 3, 0, 0, 3, 2, 3, 3, 3, 1, 2, 3, 1, 0, 1, 3, 1, 2, 1, 0, 2, 0, 2, 1, 2, 0, 0, 0, 2, 2, 2, 0, 0, 2, 0, 2, 1, 3, 2, 3, 0, 0, 0, 2, 0, 2, 0, 1, 3, 2, 1, 3, 2, 0, 0, 0, 1, 0, 1, 3, 0, 1, 1, 2, 0, 0, 2, 2, 1, 0, 1, 2, 1, 3, 3, 3, 1, 1, 0, 3, 0, 1, 0, 0, 0, 2, 0, 2, 0, 1, 1, 1, 0, 2, 1, 3, 2, 1, 3, 0, 0, 1, 2, 3, 1, 0, 2, 0, 1, 0, 1, 1, 0, 2, 2, 1, 0, 1, 1, 2, 0, 0, 1, 0, 2, 3, 1, 0, 2, 1, 3, 3, 2, 1, 2, 0, 1, 3, 2, 2, 0, 2, 1, 2, 2, 2, 2, 0, 1, 3, 1, 2, 2, 1, 1, 1, 0, 3, 0, 3, 1, 2, 1, 2, 0, 2, 1, 3, 2, 3, 2, 3, 1, 0, 0, 1, 1, 2, 0, 3, 2, 3, 1, 2, 1, 0, 2, 1, 2, 2, 0, 3, 2, 1, 0, 2, 0, 2, 2, 0, 2, 2, 0, 1, 2, 3, 0, 1, 1, 0, 1, 2, 1, 2, 2, 0, 0, 2, 2, 3, 0, 0, 0, 0, 1, 3, 2, 1, 0, 3, 3, 3, 1, 0, 0, 2, 0, 0, 1, 2, 2, 0, 0, 0, 1, 0, 0, 0, 3, 2, 1, 2, 2, 0, 1, 0, 1, 1, 1, 1, 2, 3, 0, 1, 2, 3, 1, 0, 0, 0, 2, 0, 1, 2, 1, 3, 0, 0, 2, 3, 2, 2, 0, 1, 2, 1, 1, 3, 1, 1, 0, 1, 1, 1, 0, 0, 0, 2, 0, 2, 1, 1, 1, 0, 2, 0, 1, 2, 1, 1, 0, 2, 1, 1, 0, 3, 0, 0, 0, 2, 2, 2, 2, 0, 0, 0, 1, 0, 1, 1, 3, 1, 0, 0, 0, 2, 2, 1, 1, 1, 1, 2, 1, 2, 1, 2, 2, 1, 3, 1, 1, 3, 1, 3, 1, 2, 3, 2, 3, 0, 2, 3, 2, 3, 3, 1, 1, 2, 2, 0, 0, 2, 3, 0, 0, 1, 1, 1, 2, 2, 1, 1, 0, 1, 2, 2, 2, 1, 0, 3, 3, 1, 2, 2, 2, 1, 2, 2, 1, 3, 0, 3, 1, 0, 2, 2, 2, 1, 1, 2, 2, 3, 2, 2, 3, 2, 0, 0, 1, 3, 1, 0, 1, 3, 1, 0, 1, 2, 3, 3, 2, 1, 2, 2, 1, 1, 2, 1, 0, 0, 1, 1, 1, 1, 2, 3, 0, 1, 3, 3, 3, 3, 2, 2, 2, 3, 2, 1, 2, 3, 0, 0, 1, 2, 1, 3, 2, 3, 3, 1, 0, 1, 3, 3, 1, 0, 3, 1, 3, 1, 1, 2, 0, 1, 1, 3, 0, 3, 1, 0, 2, 0, 2, 2, 1, 1, 1, 3, 0, 2, 0, 1, 1, 1, 0, 3, 2, 1, 0, 0, 1, 0, 2, 3, 3, 0, 0, 2, 0, 3, 1, 1, 1, 2, 0, 3, 1, 2, 2, 1, 0, 3, 2, 2, 3, 0, 1, 2, 2, 2, 0, 0, 1, 0, 1, 0, 1, 1, 2, 3, 2, 0, 0, 2, 1, 0, 3, 1, 0, 0, 2, 1, 1, 1, 2, 1, 0, 0, 0, 2, 1, 1, 3, 3, 1, 2, 3, 1, 2, 3, 3, 1, 2, 0, 0, 1, 2, 3, 0, 2, 2, 0, 1, 0, 1, 2, 0, 0, 1, 2, 3, 1, 1, 0, 2, 2, 2, 0, 0, 3, 1, 0, 0, 0, 3, 0, 1, 0, 0, 2, 3, 2, 0, 3, 2, 0, 2, 0, 1, 2, 2, 3, 3, 0, 3, 1, 3, 2, 3, 1, 1, 2, 1, 0, 0, 3, 1, 0, 2, 1, 2, 0, 3, 2, 0, 0, 1, 3, 0, 1, 2, 1, 0, 0, 0, 1, 1, 2, 2, 1, 0, 1, 0, 3, 3, 1, 1, 1, 3, 1, 3, 2, 0, 0, 0, 1, 3, 3, 3, 2, 2, 2, 1, 0, 0, 0, 1, 1, 1, 2, 2, 0, 2, 0, 2, 1, 1, 0, 2, 1, 2, 1, 2, 3, 1, 2, 0, 1, 3, 3, 3, 1, 2, 1, 0, 0, 0, 2, 2, 0, 0, 1, 3, 2, 0, 1, 1, 0, 1, 0, 2, 2, 3, 3, 0, 1, 1, 2, 0, 2, 1, 0, 2, 2, 0, 2, 3, 2, 3, 0, 3, 1, 1, 2, 1, 0, 2, 1, 2, 3, 1, 0, 1, 2, 1, 3, 3, 3, 1, 2, 2, 2, 1, 1, 2, 0, 0, 1, 1, 3, 1, 2, 3, 1, 0, 1, 3, 2, 3, 2, 0, 1, 1, 3, 1, 3, 3, 0, 0, 2, 1, 0, 3, 3, 3, 1, 2, 2, 2, 3, 2, 2, 2, 2, 0, 1, 0, 0, 0, 2, 1, 1, 0, 1, 3, 1, 0, 1, 1, 0, 2, 0, 0, 0, 0, 1, 0, 2, 0, 1, 3, 2, 2, 2, 3, 3, 3, 3, 1, 1, 0, 2, 1, 1, 0, 0, 2, 0, 3, 3, 3, 1, 3, 2, 2, 1, 1, 1, 0, 1, 0, 2, 1, 3, 0, 2, 1, 1, 1, 3, 0, 3, 1, 1, 0, 2, 0, 2, 0, 2, 0, 1, 0, 3, 3, 3, 0, 3, 2, 0, 2, 3, 3, 2, 3, 1, 0, 1, 0, 0, 1, 0, 3, 3, 1, 1, 0, 0, 1, 0, 1, 2, 0, 1, 3, 2, 2, 1, 2, 1, 3, 0, 0, 1, 3, 0, 2, 2, 0, 0, 0, 2, 0, 1, 2, 2, 2, 2, 2, 2, 2, 2, 1, 2, 0, 1, 2, 0, 2, 0, 0, 1, 1, 2, 2, 2, 2, 0, 2, 1, 2, 3, 1, 2, 3, 0, 1, 2, 1, 1, 1, 3, 2, 1, 1, 1, 1, 0, 0, 1, 0, 3, 0, 2, 3, 1, 0, 0, 1, 1, 1, 2, 0, 0, 0, 2, 2, 1, 2, 1, 0, 2, 1, 1, 2, 1, 0, 1, 1, 2, 1, 0, 0, 1, 3, 2, 0, 0, 1, 0, 2, 2, 0, 1, 3, 2, 1, 0, 1, 0, 2, 1, 2, 2, 1, 0, 1, 2, 3, 1, 2, 0, 3, 0, 2, 0, 0, 3, 0, 0, 1, 2, 1, 0, 1, 0, 0, 0, 2, 2, 0, 0, 1, 1, 0, 3, 2, 0, 0, 3, 2, 0, 3, 3, 1, 2, 1, 0, 3, 0, 0, 1, 2, 3, 3, 3, 1, 1, 3, 2, 0, 0, 2, 1, 2, 0, 2, 2, 2, 1, 1, 2, 1, 2, 3, 3, 2, 2, 0, 1, 0, 1, 3, 3, 3, 1, 0, 3, 2, 2, 0, 1, 1, 0, 0, 1, 2, 0, 3, 2, 1, 2, 3, 1, 1, 3, 1, 1, 3, 1, 1, 3, 2, 1, 3, 0, 2, 3, 1, 0, 3, 0, 0, 1, 2, 1, 2, 3, 1, 2, 0, 3, 2, 3, 2, 1, 0, 0, 2, 0, 1, 3, 3, 1, 1, 0, 3, 3, 1, 0, 2, 2, 3, 3, 1, 1, 2, 0, 2, 1, 2, 1, 2, 3, 1, 1, 1, 1, 1, 3, 0, 0, 0, 1, 0, 1, 2, 3, 2, 0, 0, 2, 2, 0, 1, 0, 2, 3, 0, 1, 1, 1, 3, 3, 1, 2, 0, 3, 3, 3, 2, 0, 0, 0, 1, 2, 2, 3, 2, 3, 1, 3, 2, 0, 2, 2, 1, 2, 1, 2, 0, 3, 2, 2, 0, 1, 0, 1, 3, 0, 1, 0, 0, 3, 0, 3, 1, 0, 1, 0, 1, 1, 2, 1, 0, 2, 0, 0, 2, 1, 2, 3, 0, 1, 3, 1, 2, 3, 1, 3, 3, 1, 3, 2, 2, 0, 0, 2, 2, 1, 2, 3, 3, 2, 1, 1, 2, 0, 3, 1, 0, 3, 0, 1, 2, 2, 2, 3, 0, 2, 0, 0, 2, 1, 0, 1, 0, 3, 1, 1, 3, 1, 1, 0, 1, 1, 1, 3, 3, 2, 2, 1, 2, 0, 0, 2, 2, 1, 1, 2, 2, 0, 0, 0, 3, 3, 0, 2, 0, 1, 2, 2, 1, 1, 1, 1, 0, 1, 1, 2, 3, 0, 1, 2, 0, 2, 1, 3, 0, 2, 3, 1, 1, 3, 1, 1, 2, 0, 0, 1, 0, 1, 2, 1, 1, 2, 2, 1, 0, 3, 3, 3, 0, 3, 3, 1, 2, 2, 1, 0, 1, 3, 2, 3, 2, 0, 3, 1, 0, 2, 0, 2, 2, 0, 3, 2, 1, 1, 3, 1, 1, 3, 1, 1, 1, 3, 1, 1, 1, 1, 3, 1, 2, 2, 1, 1, 0, 1, 0, 1, 2, 1, 0, 0, 0, 0, 3, 1, 1, 0, 3, 2, 3, 2, 0, 3, 1, 0, 0, 1, 2, 2, 0, 1, 1, 0, 0, 1, 0, 2, 1, 0, 2, 0, 3, 0, 0, 0, 1, 2, 0, 1, 1, 0, 0, 1, 2, 2, 3, 3, 3, 1, 0, 1, 2, 3, 0, 3, 2, 1, 0, 1, 1, 1, 3, 2, 1, 0, 0, 2, 0, 3, 2, 3, 0, 2, 1, 0, 0, 1, 0, 0, 3, 0, 0, 0, 3, 1, 1, 1, 2, 2, 1, 2, 2, 3, 0, 1, 1, 1, 0, 1, 2, 2, 1, 0, 3, 0, 0, 0, 0, 3, 2, 2, 2, 1, 1, 0, 2, 3, 2, 1, 0, 1, 3, 1, 2, 2, 3, 1, 2, 2, 0, 3, 2, 1, 0, 0, 1, 0, 1, 2, 3, 0, 1, 1, 0, 2, 0, 0, 0, 2, 3, 0, 0, 2, 3, 3, 2, 0, 2, 3, 3, 3, 3, 2, 1, 1, 0, 1, 1, 3, 3, 1, 3, 1, 0, 0, 0, 2, 0, 2, 1, 3, 3, 2, 1, 2, 3, 0, 2, 2, 2, 2, 0, 1, 2, 1, 3, 1, 2, 0, 2, 2, 2, 0, 2, 2, 3, 2, 3, 0, 1, 1, 2, 0, 2, 1, 3, 3, 0, 3, 1, 3, 2, 1, 0, 1, 3, 1, 2, 0, 3, 1, 2, 1, 3, 0, 0, 2, 0, 1, 3, 0, 2, 2, 3, 2, 2, 1, 0, 0, 0, 1, 2, 2, 1, 1, 3, 1, 3, 1, 1, 1, 0, 1, 2, 2, 0, 0, 3, 2, 0, 1, 3, 0, 0, 3, 1, 1, 3, 3, 1, 2, 2, 2, 0, 2, 3, 1, 0, 1, 1, 3, 3, 2, 0, 0, 0, 1, 2, 1, 2, 1, 2, 1, 0, 2, 1, 0, 0, 0, 2, 0, 2, 2, 1, 2, 2, 0, 3, 0, 1, 1, 3, 1, 3, 1, 2, 1, 3, 2, 3, 2, 1, 2, 1, 2, 1, 0, 0, 2, 3, 2, 3, 1, 0, 2, 2, 1, 0, 3, 2, 2, 0, 1, 2, 3, 0, 2, 2, 1, 1, 3, 2, 0, 1, 2, 3, 1, 1, 2, 1, 0, 2, 2, 0, 1, 1, 1, 0, 3, 0, 0, 0, 0, 1, 3, 0, 3, 1, 0, 0, 3, 0, 1, 2, 3, 1, 1, 1, 0, 2, 3, 2, 1, 0, 2, 0, 0, 3, 0, 0, 0, 0, 0, 1, 3, 3, 2, 1, 1, 1, 2, 0, 2, 2, 0, 0, 0, 1, 3, 3, 2, 1, 2, 1, 1, 2, 1, 2, 1, 0, 0, 0, 2, 1, 2, 1, 3, 1, 3, 2, 0, 1, 1, 2, 1, 3, 2, 2, 2, 1, 3, 3, 1, 0, 3, 3, 1, 2, 1, 2, 1, 0, 2, 0, 2, 3, 0, 3, 0, 0, 3, 1, 0, 0, 3, 2, 0, 3, 2, 0, 2, 1, 0, 1, 3, 2, 3, 1, 0, 2, 0, 0, 3, 1, 0, 2, 1, 0, 2, 0, 1, 1, 0, 2, 3, 2, 1, 0, 0, 1, 0, 1, 1, 1, 1, 2, 2, 1, 0, 0, 1, 3, 2, 0, 1, 2, 0, 1, 1, 1, 0, 1, 0, 0, 2, 3, 3, 2, 0, 3, 2, 0, 2, 0, 1, 1, 3, 2, 0, 1, 2, 2, 0, 3, 1, 3, 2, 2, 0, 0, 3, 3, 2, 1, 0, 1, 2, 2, 0, 1, 1, 2, 3, 1, 2, 1, 1, 3, 0, 1, 0, 0, 0, 2, 3, 1, 2, 2, 2, 0, 0, 3, 0, 0, 3, 2, 3, 3, 0, 0, 3, 1, 1, 3, 0, 1, 0, 3, 3, 2, 3, 1, 2, 2, 1, 2, 0, 3, 1, 2, 2, 0, 1, 2, 2, 0, 0, 1, 3, 1, 3, 2, 0, 3, 3, 3, 1, 3, 1, 2, 1, 1, 3, 0, 1, 3, 0, 3, 1, 1, 0, 0, 3, 3, 1, 1, 1, 0, 3, 0, 1, 1, 1, 2, 3, 2, 0, 0, 1, 0, 0, 1, 3, 1, 0, 0, 3, 2, 0, 3, 2, 1, 0, 1, 1, 1, 0, 2, 3, 2, 1, 0, 0, 0, 0, 0, 0, 1, 2, 2, 0, 0, 2, 1, 2, 3, 1, 2, 3, 2, 1, 2, 1, 0, 2, 2, 1, 0, 2, 1, 1, 3, 3, 2, 2, 0, 2, 1, 3, 3, 2, 0, 3, 3, 0, 1, 1, 0, 1, 3, 3, 0, 2, 3, 1, 0, 2, 3, 0, 2, 0, 3, 1, 3, 2, 1, 1, 3, 0, 0, 1, 3, 1, 0, 2, 0, 3, 1, 1, 3, 1, 0, 1, 1, 0, 0, 3, 3, 0, 3, 2, 0, 2, 3, 3, 1, 0, 0, 2, 2, 1, 0, 1, 1, 1, 2, 1, 2, 2, 1, 0, 1, 1, 0, 0, 1, 3, 2, 0, 1, 0, 2, 2, 3, 1, 0, 2, 0, 2, 3, 2, 3, 1, 3, 2, 0, 3, 1, 1, 2, 3, 1, 2, 0, 1, 1, 2, 1, 1, 0, 1, 1, 2, 1, 1, 3, 2, 1, 0, 1, 3, 1, 0, 0, 1, 0, 2, 2, 3, 1, 0, 0, 1, 2, 3, 1, 0, 0, 3, 0, 3, 1, 3, 3, 3, 2, 3, 3, 1, 1, 3, 2, 2, 2, 0, 0, 2, 2, 2, 1, 0, 3, 1, 1, 2, 1, 2, 3, 1, 1, 0, 2, 2, 1, 3, 0, 3, 1, 2, 0, 1, 0, 0, 1, 2, 0, 0, 2, 2, 0, 1, 2, 2, 3, 1, 2, 0, 2, 2, 2, 1, 0, 2, 2, 2, 3, 2, 3, 3, 0, 2, 1, 2, 2, 3, 1, 1, 0, 2, 1, 1, 1, 2, 3, 2, 1, 0, 3, 0, 3, 2, 1, 2, 0, 2, 3, 1, 3, 1, 2, 1, 3, 3, 0, 1, 1, 0, 1, 1, 1, 1, 2, 1, 2, 0, 1, 3, 2, 1, 3, 1, 1, 1, 2, 0, 3, 2, 1, 1, 1, 0, 0, 2, 3, 2, 0, 1, 1, 1, 1, 3, 1, 1, 1, 0, 1, 2, 0, 3, 3, 2, 0, 2, 1, 3, 3, 2, 1, 0, 1, 1, 1, 0, 3, 2, 0, 2, 3, 1, 2, 2, 3, 0, 0, 1, 3, 2, 1, 3, 2, 0, 2, 2, 0, 3, 3, 1, 1, 3, 3, 0, 1, 3, 3, 2, 3, 2, 1, 3, 3, 1, 0, 1, 2, 0, 2, 2, 1, 3, 1, 1, 0, 0, 0, 3, 2, 1, 1, 2, 0, 3, 2, 0, 2, 3, 3, 0, 1, 1, 1, 1, 1, 0, 2, 0, 3, 0, 0, 3, 2, 3, 0, 1, 2, 3, 2, 3, 1, 2, 0, 1, 3, 1, 3, 1, 3, 1, 3, 1, 1, 2, 2, 1, 1, 0, 2, 2, 0, 2, 1, 0, 2, 1, 1, 3, 2, 1, 1, 1, 2, 1, 2, 2, 2, 1, 1, 2, 2, 2, 3, 2, 3, 2, 1, 3, 2, 0, 1, 1, 1, 0, 3, 0, 2, 1, 1, 0, 0, 2, 2, 0, 3, 1, 3, 1, 1, 2, 2, 2, 1, 2, 2, 2, 2, 3, 3, 0, 0, 3, 2, 2, 0, 2, 1, 3, 3, 2, 0, 1, 2, 3, 0, 0, 1, 3, 3, 3, 1, 1, 3, 3, 0, 0, 2, 0, 2, 2, 2, 0, 3, 0, 3, 0, 2, 2, 2, 0, 0, 3, 1, 1, 2, 3, 3, 0, 3, 1, 1, 0, 3, 0, 0, 2, 0, 2, 1, 2, 3, 3, 1, 0, 3, 2, 1, 0, 2, 3, 1, 3, 3, 3, 1, 1, 3, 0, 0, 0, 2, 0, 3, 0, 1, 0, 0, 3, 3, 1, 3, 3, 2, 1, 2, 0, 3, 0, 3, 0, 0, 3, 0, 0, 1, 0, 1, 1, 3, 0, 3, 0, 2, 1, 3, 1, 0, 0, 3, 3, 1, 0, 1, 0, 1, 3, 0, 1, 1, 0, 2, 3, 0, 0, 0, 2, 1, 2, 2, 0, 3, 1, 0, 1, 3, 1, 2, 1, 2, 1, 2, 2, 1, 2, 1, 0, 2, 2, 3, 0, 1, 1, 1, 3, 1, 3, 1, 0, 3, 2, 0, 2, 3, 3, 0, 0, 0, 3, 0, 2, 1, 2, 0, 0, 0, 1, 2, 1, 1, 2, 0, 3, 1, 1, 3, 3, 0, 3, 0, 0, 1, 3, 0, 1, 3, 1, 0, 1, 0, 1, 0, 0, 3, 0, 0, 0, 1, 1, 2, 0, 2, 1, 1, 2, 2, 0, 0, 0, 1, 1, 1, 1, 1, 0, 1, 1, 0, 2, 1, 1, 2, 1, 1, 0, 0, 0, 3, 1, 3, 3, 1, 3, 1, 2, 2, 0, 1, 2, 1, 0, 1, 1, 2, 1, 1, 1, 2, 1, 2, 2, 2, 2, 3, 3, 1, 1, 2, 3, 2, 0, 1, 3, 1, 3, 2, 2, 0, 2, 1, 3, 2, 0, 2, 3, 0, 2, 2, 1, 3, 1, 3, 0, 0, 2, 0, 3, 2, 2, 0, 0, 0, 1, 2, 0, 0, 2, 0, 0, 0, 2, 2, 2, 1, 3, 2, 3, 3, 0, 2, 2, 3, 0, 0, 3, 3, 1, 3, 0, 0, 1, 3, 2, 1, 1, 3, 2, 1, 0, 3, 3, 2, 1, 3, 2, 0, 0, 3, 2, 0, 3, 0, 2, 0, 0, 3, 0, 2, 0, 2, 1, 1, 1, 3, 1, 3, 0, 0, 0, 1, 1, 1, 1, 3, 3, 2, 0, 0, 0, 0, 2, 3, 1, 2, 2, 3, 1, 3, 0, 0, 1, 0, 0, 0, 1, 2, 1, 0, 0, 0, 0, 2, 2, 3, 1, 1, 3, 0, 2, 3, 3, 1, 0, 0, 2, 0, 3, 3, 2, 2, 1, 0, 0, 1, 1, 0, 2, 1, 1, 1, 3, 2, 3, 1, 2, 2, 2, 2, 3, 0, 1, 1, 0, 3, 1, 1, 0, 0, 2, 1, 0, 0, 1, 2, 0, 0, 3, 0, 1, 2, 3, 3, 1, 1, 2, 3, 1, 1, 3, 3, 3, 1, 2, 1, 2, 0, 3, 3, 1, 0, 3, 3, 2, 1, 2, 2, 1, 1, 0, 3, 2, 3, 0, 2, 0, 2, 1, 1, 3, 0, 0, 1, 2, 1, 3, 1, 2, 1, 2, 1, 1, 1, 1, 0, 3, 2, 0, 3, 1, 2, 2, 0, 3, 0, 1, 2, 2, 0, 3, 1, 2, 0, 0, 2, 1, 1, 2, 1, 2, 3, 3, 2, 1, 2, 1, 0, 3, 0, 2, 3, 2, 1, 1, 1, 3, 2, 3, 2, 0, 0, 2, 0, 3, 1, 3, 0, 1, 1, 0, 3, 3, 0, 2, 1, 1, 0, 1, 1, 2, 2, 1, 0, 1, 3, 3, 2, 0, 1, 1, 2, 0, 1, 0, 2, 0, 2, 2, 0, 1, 1, 0, 2, 0, 3, 0, 3, 0, 3, 3, 0, 1, 2, 3, 0, 3, 0, 1, 0, 2, 0, 1, 0, 3, 0, 3, 0, 2, 1, 0, 2, 3, 1, 1, 0, 3, 3, 1, 1, 0, 0, 2, 0, 3, 2, 3, 1, 2, 3, 1, 3, 3, 0, 0, 2, 3, 3, 0, 1, 3, 1, 0, 1, 3, 2, 1, 1, 1, 1, 3, 0, 0, 2, 1, 1, 0, 0, 1, 0, 0, 1, 1, 2, 1, 1, 1, 2, 0, 0, 1, 2, 0, 2, 2, 2, 2, 1, 1, 3, 0, 3, 2, 0, 3, 1, 2, 1, 2, 2, 2, 1, 2, 1, 1, 1, 3, 3, 3, 0, 1, 0, 0, 2, 0, 1, 2, 1, 2, 1, 1, 1, 1, 2, 0, 2, 1, 2, 0, 1, 3, 2, 3, 1, 1, 3, 0, 3, 0, 0, 3, 2, 2, 1, 1, 2, 1, 1, 2, 2, 1, 1, 2, 1, 1, 3, 1, 0, 0, 2, 2, 0, 3, 1, 2, 0, 1, 0, 0, 0, 0, 0, 2, 3, 2, 3, 1, 0, 0, 0, 0, 3, 2, 1, 0, 3, 3, 1, 3, 1, 3, 0, 2, 0, 3, 2, 0, 0, 1, 0, 2, 2, 0, 0, 3, 0, 2, 0, 0, 1, 2, 0, 2, 2, 3, 0, 3, 1, 3, 2, 3, 1, 0, 0, 0, 1, 1, 0, 0, 0, 1, 2, 0, 0, 1, 3, 2, 2, 3, 0, 1, 3, 0, 3, 1, 0, 0, 3, 2, 1, 2, 3, 1, 1, 1, 0, 1, 2, 1, 3, 1, 1, 0, 3, 2, 1, 3, 2, 0, 1, 1, 1, 1, 2, 0, 1, 2, 3, 3, 0, 1, 3, 0, 0, 1, 2, 1, 0, 1, 1, 1, 0, 2, 1, 0, 1, 2, 0, 3, 2, 1, 0, 0, 2, 2, 2, 2, 3, 2, 3, 2, 0, 2, 2, 3, 2, 1, 2, 1, 1, 1, 0, 0, 0, 1, 2, 1, 0, 3, 0, 2, 3, 1, 0, 2, 1, 3, 2, 1, 0, 1, 3, 1, 1, 0, 1, 0, 0, 1, 3, 1, 2, 3, 2, 1, 1, 1, 2, 3, 0, 0, 3, 2, 0, 0, 0, 3, 0, 2, 1, 0, 1, 1, 2, 0, 1, 0, 1, 0, 2, 2, 1, 3, 1, 1, 0, 1, 2, 3, 0, 2, 0, 3, 1, 1, 3, 1, 1, 2, 1, 0, 3, 1, 0, 1, 0, 3, 2, 0, 2, 2, 2, 1, 2, 2, 0, 3, 1, 2, 1, 3, 3, 1, 2, 1, 1, 0, 2, 3, 3, 2, 3, 1, 1, 3, 2, 2, 2, 2, 2, 2, 1, 3, 1, 1, 3, 3, 1, 0, 2, 1, 0, 3, 1, 0, 1, 0, 1, 3, 1, 1, 0, 0, 1, 2, 0, 1, 3, 0, 0, 0, 2, 2, 3, 3, 0, 1, 3, 1, 2, 1, 0, 1, 2, 0, 0, 0, 2, 2, 2, 1, 2, 0, 1, 0, 1, 0, 1, 1, 2, 2, 0, 0, 2, 0, 0, 1, 1, 1, 3, 3, 0, 2, 2, 3, 2, 1, 2, 2, 0, 3, 0, 2, 3, 3, 0, 0, 1, 1, 0, 2, 1, 3, 3, 2, 0, 0, 3, 3, 0, 3, 0, 1, 0, 0, 1, 1, 1, 0, 1, 2, 0, 3, 0, 3, 1, 2, 0, 0, 0, 3, 2, 2, 2, 3, 2, 3, 3, 2, 1, 2, 2, 3, 1, 3, 2, 0, 0, 3, 0, 1, 0, 2, 2, 0, 2, 2, 1, 2, 1, 0, 2, 2, 1, 3, 3, 3, 3, 3, 0, 3, 2, 3, 1, 2, 1, 1, 2, 2, 2, 0, 1, 1, 2, 1, 2, 0, 3, 2, 2, 2, 3, 1, 1, 3, 0, 0, 0, 0, 0, 0, 2, 0, 2, 1, 1, 2, 0, 2, 2, 2, 1, 0, 0, 1, 0, 0, 0, 1, 2, 2, 1, 3, 1, 0, 1, 1, 2, 0, 0, 2, 2, 2, 2, 1, 0, 3, 0, 0, 3, 3, 1, 1, 3, 1, 1, 1, 2, 0, 1, 2, 3, 1, 3, 3, 2, 3, 1, 1, 1, 2, 3, 1, 3, 0, 1, 0, 1, 3, 1, 0, 0, 2, 3, 2, 1, 2, 1, 3, 0, 1, 1, 1, 2, 2, 3, 3, 2, 1, 1, 1, 3, 1, 1, 3, 2, 0, 0, 0, 3, 1, 1, 0, 2, 3, 1, 1, 1, 1, 1, 0, 1, 2, 2, 3, 2, 3, 2, 1, 0, 2, 1, 2, 1, 2, 2, 3, 3, 2, 1, 1, 0, 1, 2, 2, 3, 3, 3, 1, 2, 3, 2, 0, 3, 2, 0, 2, 1, 2, 2, 2, 3, 1, 0, 2, 2, 1, 1, 0, 1, 0, 2, 0, 2, 2, 0, 1, 2, 0, 2, 2, 0, 2, 3, 2, 3, 2, 2, 0, 0, 1, 1, 1, 3, 3, 2, 2, 1, 2, 0, 2, 1, 1, 1, 2, 2, 0, 2, 1, 3, 3, 0, 2, 1, 2, 2, 0, 0, 0, 0, 2, 0, 0, 3, 0, 3, 3, 3, 2, 2, 0, 1, 3, 0, 0, 2, 1, 0, 2, 2, 1, 3, 2, 3, 0, 1, 1, 2, 2, 3, 0, 1, 1, 3, 3, 0, 2, 1, 0, 1, 2, 0, 2, 1, 2, 3, 2, 0, 1, 3, 0, 2, 0, 3, 0, 0, 0, 1, 0, 0, 0, 0, 1, 1, 2, 1, 0, 1, 1, 0, 3, 1, 3, 3, 1, 1, 0, 0, 1, 3, 1, 1, 2, 3, 3, 1, 1, 2, 3, 1, 1, 0, 3, 3, 2, 1, 2, 1, 2, 3, 3, 1, 0, 3, 0, 1, 3, 3, 3, 2, 3, 2, 2, 2, 0, 0, 1, 1, 1, 2, 2, 1, 1, 3, 2, 3, 3, 0, 1, 3, 0, 1, 1, 0, 0, 2, 3, 1, 0, 1, 1, 2, 3, 3, 1, 2, 0, 1, 3, 1, 2, 2, 1, 1, 0, 1, 1, 1, 0, 2, 2, 3, 2, 2, 2, 1, 2, 0, 0, 2, 0, 1, 2, 1, 2, 3, 2, 1, 1, 1, 2, 1, 1, 2, 2, 0, 3, 1, 2, 2, 3, 0, 1, 0, 1, 0, 2, 1, 0, 1, 1, 3, 2, 0, 1, 0, 2, 3, 2, 0, 3, 0, 1, 3, 1, 0, 2, 1, 0, 0, 2, 1, 1, 2, 3, 1, 1, 1, 0, 0, 2, 2, 2, 0, 2, 2, 0, 1, 2, 0, 3, 2, 1, 3, 2, 3, 0, 2, 1, 1, 1, 3, 1, 1, 2, 2, 1, 0, 2, 0, 0, 1, 2, 1, 1, 2, 2, 2, 0, 1, 3, 2, 2, 3, 2, 1, 0, 2, 1, 3, 2, 2, 1, 3, 2, 0, 0, 0, 3, 1, 2, 3, 3, 2, 2, 1, 0, 3, 3, 0, 1, 0, 1, 0, 1, 3, 3, 0, 3, 0, 2, 1, 0, 0, 2, 0, 2, 3, 2, 1, 2, 2, 0, 3, 1, 3, 0, 2, 1, 2, 0, 1, 3, 3, 1, 2, 0, 1, 3, 3, 1, 1, 3, 0, 2, 1, 1, 1, 3, 2, 2, 1, 2, 2, 0, 1, 0, 1, 2, 1, 1, 2, 1, 0, 2, 2, 3, 1, 1, 2, 0, 2, 3, 1, 2, 0, 2, 1, 1, 0, 0, 3, 3, 2, 2, 0, 2, 1, 2, 0, 2, 3, 1, 0, 2, 0, 2, 1, 2, 0, 3, 0, 2, 1, 0, 1, 1, 1, 0, 0, 1, 3, 0, 2, 0, 3, 1, 2, 3, 1, 2, 1, 3, 3, 2, 0, 1, 0, 3, 3, 2, 0, 0, 2, 0, 3, 1, 1, 1, 3, 1, 0, 1, 1, 0, 1, 0, 0, 2, 1, 3, 2, 2, 0, 0, 3, 3, 3, 1, 0, 2, 0, 0, 2, 2, 1, 0, 2, 1, 0, 3, 2, 1, 0, 2, 2, 1, 3, 0, 1, 3, 0, 1, 1, 3, 0, 0, 3, 2, 1, 3, 3, 3, 3, 3, 0, 1, 1, 1, 0, 2, 0, 3, 1, 2, 0, 3, 1, 1, 2, 3, 0, 1, 1, 3, 1, 1, 3, 0, 2, 2, 0, 0, 1, 0, 3, 2, 3, 3, 2, 0, 0, 1, 3, 1, 3, 2, 0, 0, 0, 1, 0, 2, 0, 2, 2, 0, 1, 1, 1, 3, 3, 2, 3, 1, 2, 1, 3, 0, 2, 1, 2, 1, 2, 3, 2, 0, 0, 2, 0, 2, 2, 3, 2, 3, 1, 0, 3, 3, 1, 1, 1, 2, 1, 0, 2, 0, 1, 3, 1, 1, 2, 3, 1, 2, 0, 0, 1, 0, 3, 1, 0, 0, 0, 1, 0, 1, 3, 1, 0, 2, 3, 3, 0, 0, 2, 0, 2, 0, 0, 1, 1, 2, 3, 2, 1, 1, 2, 2, 0, 0, 3, 0, 3, 1, 0, 1, 3, 3, 0, 3, 0, 2, 1, 3, 1, 0, 2, 2, 1, 2, 2, 3, 2, 1, 1, 0, 1, 1, 1, 0, 3, 2, 0, 2, 1, 2, 3, 2, 1, 2, 1, 2, 3, 1, 2, 1, 3, 2, 0, 0, 2, 2, 0, 1, 3, 1, 0, 0, 2, 2, 3, 3, 3, 2, 1, 3, 0, 2, 2, 0, 1, 0, 2, 2, 1, 1, 2, 0, 0, 0, 3, 3, 0, 3, 3, 3, 2, 3, 1, 1, 1, 3, 1, 1, 3, 3, 3, 0, 2, 1, 3, 1, 1, 3, 1, 1, 2, 1, 3, 1, 2, 3, 0, 1, 1, 2, 0, 1, 2, 3, 2, 2, 1, 2, 1, 1, 0, 3, 1, 2, 1, 0, 3, 2, 1, 3, 0, 1, 2, 2, 0, 0, 1, 1, 1, 1, 1, 1, 1, 3, 1, 3, 1, 2, 2, 1, 3, 2, 0, 1, 1, 2, 1, 3, 1, 2, 2, 2, 0, 3, 1, 0, 1, 3, 1, 3, 1, 1, 1, 3, 3, 0, 0, 0, 3, 2, 1, 2, 0, 1, 0, 0, 0, 0, 0, 0, 2, 2, 0, 2, 3, 1, 0, 0, 2, 3, 2, 1, 0, 1, 0, 0, 0, 3, 1, 3, 2, 1, 1, 1, 1, 0, 1, 0, 0, 1, 3, 2, 0, 2, 0, 3, 1, 2, 1, 2, 1, 1, 3, 1, 0, 3, 1, 2, 3, 0, 1, 2, 2, 1, 0, 3, 1, 3, 0, 0, 1, 1, 2, 0, 2, 3, 3, 2, 2, 3, 0, 2, 0, 2, 0, 2, 2, 2, 2, 0, 3, 2, 0, 1, 2, 3, 0, 2, 1, 1, 0, 0, 1, 2, 2, 1, 1, 1, 0, 1, 3, 3, 2, 3, 2, 2, 1, 0, 1, 1, 3, 3, 1, 2, 2, 0, 0, 2, 0, 0, 2, 3, 0, 1, 0, 3, 2, 2, 2, 1, 2, 1, 3, 2, 2, 3, 2, 0, 0, 2, 3, 3, 1, 1, 3, 0, 3, 3, 1, 2, 0, 3, 0, 0, 0, 1, 2, 1, 2, 2, 1, 3, 2, 2, 3, 0, 1, 0, 1, 2, 1, 0, 2, 1, 1, 2, 3, 1, 2, 0, 0, 0, 2, 1, 1, 2, 0, 0, 1, 1, 0, 3, 2, 3, 0, 2, 3, 3, 2, 0, 2, 2, 1, 3, 2, 1, 1, 0, 1, 2, 3, 0, 0, 3, 0, 3, 1, 2, 2, 2, 1, 1, 1, 3, 0, 1, 3, 1, 2, 2, 0, 0, 2, 2, 1, 0, 2, 2, 0, 3, 1, 3, 2, 0, 1, 0, 1, 1, 1, 3, 3, 0, 0, 1, 0, 1, 1, 0, 3, 1, 0, 0, 1, 1, 1, 0, 3, 2, 1, 2, 2, 3, 0, 2, 1, 1, 2, 1, 0, 1, 1, 3, 1, 1, 2, 2, 1, 0, 0, 0, 1, 0, 0, 3, 1, 0, 2, 1, 2, 0, 0, 3, 0, 1, 1, 1, 1, 2, 0, 2, 3, 1, 1, 0, 2, 3, 3, 1, 2, 3, 3, 0, 1, 0, 0, 1, 0, 3, 3, 0, 1, 0, 2, 0, 2, 0, 1, 0, 3, 0, 0, 1, 2, 0, 1, 1, 0, 3, 2, 1, 0, 1, 0, 3, 1, 0, 1, 1, 3, 3, 0, 0, 0, 0, 1, 0, 2, 0, 2, 0, 1, 1, 1, 2, 3, 3, 1, 2, 3, 1, 1, 2, 0, 1, 2, 3, 1, 3, 0, 2, 2, 2, 0, 0, 3, 2, 2, 0, 1, 3, 3, 0, 0, 1, 0, 0, 1, 2, 1, 2, 2, 0, 0, 2, 2, 0, 3, 2, 3, 3, 3, 0, 0, 3, 2, 0, 2, 3, 3, 2, 2, 1, 2, 2, 1, 0, 0, 0, 2, 3, 3, 1, 3, 0, 2, 3, 2, 2, 0, 1, 1, 3, 1, 1, 0, 2, 2, 3, 2, 3, 0, 1, 1, 0, 2, 1, 0, 2, 2, 0, 2, 0, 1, 2, 1, 0, 3, 0, 0, 0, 3, 1, 2, 2, 1, 0, 2, 0, 3, 0, 1, 1, 1, 2, 1, 2, 1, 3, 3, 0, 0, 3, 1, 0, 0, 1, 1, 3, 2, 0, 1, 1, 0, 0, 2, 0, 0, 0, 1, 3, 1, 0, 1, 0, 3, 1, 0, 1, 3, 1, 0, 1, 0, 1, 1, 3, 2, 1, 2, 1, 3, 2, 2, 2, 3, 0, 1, 1, 1, 2, 2, 1, 1, 1, 0, 2, 0, 2, 3, 1, 1, 0, 0, 0, 2, 1, 2, 1, 3, 2, 0, 0, 0, 2, 2, 0, 0, 2, 3, 0, 1, 2, 0, 3, 1, 3, 1, 1, 2, 0, 0, 1, 2, 0, 2, 1, 1, 2, 1, 3, 0, 2, 1, 0, 2, 3, 1, 0, 3, 1, 0, 1, 1, 2, 1, 1, 1, 1, 1, 0, 3, 1, 2, 2, 1, 0, 3, 1, 2, 3, 1, 1, 1, 1, 1, 3, 0, 2, 3, 1, 3, 2, 1, 0, 2, 1, 1, 1, 2, 2, 3, 3, 2, 0, 0, 3, 0, 3, 2, 1, 2, 1, 1, 3, 1, 0, 2, 1, 0, 2, 2, 2, 0, 1, 1, 3, 0, 2, 3, 1, 3, 3, 0, 2, 2, 0, 0, 2, 0, 0, 0, 1, 2, 3, 3, 1, 2, 0, 1, 1, 3, 2, 1, 2, 2, 1, 2, 0, 1, 0, 1, 3, 2, 3, 1, 3, 0, 3, 0, 1, 1, 3, 0, 1, 1, 0, 3, 2, 0, 2, 1, 2, 2, 1, 2, 2, 3, 3, 1, 1, 3, 1, 3, 2, 1, 1, 0, 2, 1, 2, 0, 0, 0, 2, 1, 2, 0, 1, 2, 1, 3, 1, 1, 2, 0, 0, 1, 3, 1, 0, 2, 0, 3, 1, 1, 1, 3, 0, 1, 2, 3, 2, 0, 2, 1, 2, 0, 3, 1, 2, 0, 3, 1, 0, 2, 2, 0, 0, 0, 0, 2, 3, 3, 2, 2, 0, 0, 3, 2, 1, 0, 2, 1, 3, 0, 1, 0, 1, 0, 1, 1, 2, 0, 2, 1, 1, 2, 2, 3, 3, 0, 0, 1, 3, 3, 1, 1, 3, 0, 1, 0, 1, 3, 0, 3, 0, 2, 3, 3, 0, 0, 2, 1, 1, 0, 3, 0, 1, 0, 2, 2, 3, 1, 3, 1, 2, 1, 1, 1, 0, 1, 2, 2, 2, 3, 0, 2, 2, 2, 0, 2, 2, 1, 0, 3, 2, 2, 1, 3, 1, 3, 2, 2, 3, 3, 1, 3, 1, 0, 3, 0, 1, 0, 1, 1, 1, 0, 3, 3, 1, 1, 1, 1, 0, 3, 1, 2, 1, 1, 3, 2, 2, 2, 1, 3, 2, 3, 3, 2, 3, 1, 0, 2, 0, 1, 2, 0, 0, 3, 1, 1, 1, 3, 1, 2, 1, 2, 0, 1, 0, 1, 1, 1, 2, 1, 1, 0, 2, 3, 1, 2, 3, 3, 1, 1, 2, 2, 2, 0, 0, 1, 3, 1, 0, 1, 1, 3, 3, 2, 3, 2, 1, 3, 2, 3, 2, 3, 2, 1, 2, 1, 1, 0, 3, 2, 0, 2, 1, 2, 2, 1, 2, 0, 1, 1, 0, 2, 3, 2, 2, 1, 1, 1, 3, 0, 0, 0, 0, 0, 2, 2, 0, 1, 2, 2, 0, 2, 0, 1, 1, 0, 2, 2, 2, 1, 0, 0, 2, 0, 2, 3, 3, 1, 0, 1, 0, 1, 2, 2, 2, 2, 3, 2, 1, 2, 1, 0, 3, 0, 0, 0, 0, 0, 0, 1, 2, 1, 3, 3, 1, 2, 0, 3, 2, 2, 1, 1, 1, 3, 2, 1, 0, 1, 3, 3, 1, 2, 0, 3, 3, 1, 2, 1, 1, 1, 0, 1, 0, 2, 0, 0, 2, 1, 3, 1, 0, 3, 1, 1, 1, 1, 2, 1, 1, 1, 1, 2, 2, 0, 2, 2, 0, 1, 1, 2, 1, 1, 0, 2, 0, 2, 0, 0, 3, 1, 3, 1, 0, 2, 2, 0, 0, 3, 0, 3, 2, 0, 1, 1, 0, 3, 2, 3, 0, 0, 2, 2, 0, 2, 2, 2, 1, 0, 0, 1, 0, 0, 0, 2, 0, 1, 0, 0, 2, 1, 0, 0, 2, 0, 2, 1, 2, 2, 1, 0, 3, 0, 2, 1, 1, 3, 1, 0, 3, 3, 2, 1, 1, 1, 1, 1, 1, 1, 2, 1, 2, 1, 1, 0, 1, 3, 2, 2, 2, 1, 2, 1, 0, 1, 0, 2, 1, 0, 3, 0, 0, 2, 1, 3, 1, 2, 2, 1, 1, 3, 2, 2, 3, 0, 2, 0, 0, 0, 0, 1, 1, 1, 1, 1, 0, 0, 3, 1, 3, 1, 3, 0, 0, 3, 3, 2, 3, 3, 0, 2, 0, 0, 2, 0, 0, 2, 2, 0, 0, 2, 0, 1, 0, 0, 1, 1, 0, 3, 1, 0, 2, 0, 0, 1, 0, 1, 1, 0, 2, 3, 0, 0, 1, 2, 2, 3, 2, 2, 2, 1, 2, 1, 2, 1, 3, 2, 1, 0, 0, 2, 2, 0, 1, 1, 1, 1, 2, 1, 2, 1, 1, 0, 2, 1, 2, 0, 0, 0, 0, 0, 1, 2, 3, 2, 1, 0, 2, 2, 1, 2, 3, 2, 3, 2, 3, 3, 0, 0, 3, 1, 3, 2, 0, 2, 2, 3, 0, 0, 3, 1, 0, 0, 2, 1, 2, 1, 2, 2, 0, 0, 2, 0, 3, 0, 0, 3, 2, 1, 2, 1, 1, 1, 2, 2, 3, 3, 3, 3, 1, 2, 1, 3, 2, 0, 3, 2, 1, 0, 0, 1, 3, 2, 2, 1, 0, 0, 0, 0, 0, 3, 0, 2, 1, 1, 3, 1, 2, 1, 1, 0, 3, 2, 2, 3, 0, 1, 1, 2, 3, 1, 3, 3, 1, 1, 0, 3, 3, 3, 2, 1, 0, 0, 2, 2, 2, 2, 2, 1, 1, 1, 0, 3, 0, 1, 1, 3, 3, 1, 1, 1, 1, 1, 0, 1, 1, 1, 0, 2, 2, 1, 2, 0, 0, 1, 1, 3, 1, 0, 3, 0, 2, 0, 1, 1, 2, 2, 2, 2, 2, 1, 2, 3, 3, 2, 3, 2, 3, 2, 1, 2, 3, 2, 2, 2, 1, 2, 1, 2, 1, 1, 2, 2, 2, 1, 3, 1, 1, 1, 2, 2, 0, 0, 1, 3, 0, 0, 0, 0, 2, 2, 2, 1, 1, 0, 0, 3, 0, 3, 1, 1, 2, 1, 2, 1, 2, 3, 3, 1, 2, 1, 1, 2, 0, 3, 2, 2, 0, 3, 1, 2, 3, 2, 2, 1, 3, 2, 3, 1, 0, 3, 1, 2, 3, 1, 3, 3, 3, 1, 3, 3, 0, 0, 3, 2, 3, 0, 3, 2, 3, 2, 0, 0, 3, 0, 3, 3, 2, 0, 3, 1, 0, 3, 0, 1, 1, 2, 1, 3, 0, 1, 3, 2, 0, 0, 2, 1, 1, 1, 1, 1, 3, 3, 2, 3, 1, 3, 2, 0, 0, 2, 2, 1, 2, 2, 2, 1, 1, 1, 1, 0, 3, 0, 2, 0, 3, 0, 0, 1, 0, 3, 0, 0, 1, 0, 1, 0, 0, 3, 2, 1, 1, 2, 1, 2, 1, 2, 2, 1, 2, 1, 1, 1, 1, 0, 1, 2, 0, 2, 0, 2, 1, 3, 2, 1, 0, 1, 0, 1, 3, 1, 0, 3, 2, 2, 1, 1, 2, 2, 0, 1, 3, 1, 0, 2, 2, 2, 3, 3, 2, 1, 3, 2, 3, 3, 2, 0, 3, 3, 2, 2, 2, 2, 2, 0, 0, 3, 0, 3, 3, 2, 2, 2, 2, 2, 0, 1, 1, 3, 2, 3, 1, 1, 0, 2, 1, 3, 2, 2, 2, 3, 1, 2, 2, 0, 0, 1, 0, 3, 0, 1, 2, 0, 0, 1, 0, 2, 2, 3, 2, 1, 0, 0, 0, 1, 3, 2, 0, 1, 0, 0, 1, 0, 2, 0, 0, 1, 2, 1, 0, 3, 1, 0, 2, 3, 0, 0, 2, 3, 1, 0, 1, 2, 0, 2, 2, 3, 0, 3, 2, 3, 3, 1, 2, 1, 2, 1, 2, 1, 2, 1, 1, 1, 1, 1, 3, 0, 0, 0, 1, 1, 0, 3, 1, 2, 1, 3, 1, 1, 1, 0, 0, 3, 1, 0, 2, 3, 1, 3, 2, 2, 3, 0, 1, 2, 1, 0, 0, 0, 2, 2, 0, 1, 2, 3, 1, 2, 2, 1, 1, 0, 2, 0, 1, 0, 1, 3, 3, 0, 3, 0, 2, 1, 1, 3, 0, 2, 0, 1, 1, 3, 1, 0, 0, 3, 3, 1, 0, 0, 2, 1, 0, 0, 0, 1, 1, 1, 1, 0, 3, 0, 1, 2, 1, 1, 1, 2, 1, 2, 3, 2, 1, 2, 3, 2, 2, 0, 2, 3, 1, 0, 2, 2, 1, 1, 0, 2, 2, 3, 0, 3, 2, 2, 1, 2, 2, 1, 1, 3, 3, 0, 2, 1, 1, 1, 0, 1, 1, 1, 1, 3, 0, 1, 2, 2, 3, 1, 2, 3, 3, 1, 2, 2, 0, 2, 2, 0, 3, 3, 2, 2, 0, 2, 0, 2, 1, 2, 3, 3, 1, 2, 2, 3, 1, 3, 2, 3, 3, 2, 0, 2, 2, 1, 0, 0, 2, 0, 1, 3, 1, 2, 2, 3, 1, 3, 0, 0, 2, 3, 3, 2, 2, 2, 2, 3, 0, 2, 1, 0, 0, 3, 0, 1, 2, 0, 3, 2, 3, 1, 0, 2, 3, 0, 3, 0, 1, 0, 2, 3, 1, 1, 2, 1, 1, 2, 2, 2, 2, 2, 0, 0, 3, 0, 0, 1, 2, 2, 2, 1, 3, 2, 2, 1, 0, 1, 2, 2, 3, 0, 0, 1, 2, 3, 2, 1, 0, 2, 3, 2, 1, 3, 3, 3, 1, 0, 2, 0, 1, 1, 1, 3, 1, 3, 2, 1, 3, 0, 2, 1, 1, 0, 2, 0, 2, 3, 2, 2, 2, 0, 1, 0, 1, 2, 2, 3, 1, 3, 1, 0, 2, 1, 1, 0, 1, 0, 1, 1, 2, 0, 1, 0, 0, 2, 0, 2, 2, 2, 2, 2, 2, 1, 0, 1, 2, 0, 0, 2, 3, 3, 2, 3, 1, 0, 1, 2, 1, 2, 0, 3, 1, 3, 0, 2, 1, 1, 1, 3, 1, 3, 3, 2, 2, 0, 0, 3, 0, 2, 0, 2, 2, 1, 2, 2, 1, 0, 0, 3, 3, 1, 1, 0, 2, 1, 0, 0, 2, 1, 1, 3, 2, 2, 0, 3, 1, 1, 1, 1, 0, 1, 0, 0, 1, 2, 0, 1, 3, 2, 2, 0, 3, 2, 1, 2, 3, 3, 1, 0, 1, 1, 0, 2, 2, 2, 2, 3, 2, 2, 1, 3, 1, 0, 2, 1, 1, 1, 3, 2, 0, 1, 1, 0, 0, 0, 1, 0, 2, 1, 2, 1, 0, 3, 1, 2, 3, 1, 1, 1, 1, 1, 1, 0, 2, 3, 0, 0, 0, 1, 2, 2, 2, 3, 2, 3, 2, 1, 1, 0, 0, 3, 0, 3, 3, 3, 1, 1, 0, 3, 1, 3, 1, 0, 0, 3, 0, 2, 1, 0, 0, 0, 1, 0, 1, 3, 1, 0, 1, 1, 1, 0, 1, 2, 0, 3, 1, 1, 3, 2, 2, 3, 2, 1, 2, 3, 0, 2, 2, 2, 1, 1, 3, 1, 1, 3, 0, 2, 1, 3, 1, 0, 3, 0, 2, 2, 3, 2, 0, 2, 1, 0, 3, 2, 2, 1, 1, 0, 2, 1, 0, 1, 3, 0, 2, 1, 2, 2, 0, 3, 3, 2, 1, 3, 1, 1, 0, 2, 2, 1, 1, 3, 1, 2, 1, 2, 2, 3, 0, 0, 2, 0, 1, 2, 0, 3, 0, 2, 0, 1, 0, 3, 3, 2, 0, 3, 1, 2, 3, 2, 2, 0, 1, 0, 3, 1, 0, 0, 3, 0, 2, 2, 2, 1, 2, 0, 1, 1, 0, 1, 1, 1, 2, 2, 2, 2, 3, 2, 1, 1, 1, 1, 2, 2, 3, 1, 3, 0, 2, 0, 2, 3, 2, 2, 3, 2, 2, 2, 1, 1, 2, 2, 2, 1, 1, 1, 0, 0, 2, 2, 3, 2, 2, 3, 3, 2, 3, 1, 2, 3, 0, 2, 2, 2, 3, 2, 1, 0, 1, 1, 2, 0, 0, 2, 1, 2, 1, 3, 1, 0, 2, 0, 2, 0, 2, 3, 0, 0, 2, 3, 3, 0, 3, 2, 2, 2, 2, 2, 3, 1, 2, 2, 3, 0, 2, 1, 0, 2, 3, 0, 1, 1, 2, 2, 1, 3, 2, 3, 1, 1, 1, 2, 2, 0, 3, 2, 1, 0, 1, 2, 0, 0, 2, 2, 3, 2, 1, 0, 2, 1, 3, 3, 3, 2, 1, 1, 1, 1, 1, 1, 2, 0, 1, 0, 1, 2, 1, 3, 2, 2, 2, 3, 1, 0, 2, 3, 1, 0, 0, 3, 2, 1, 2, 0, 2, 2, 0, 2, 1, 0, 2, 3, 2, 0, 0, 0, 1, 2, 1, 3, 1, 2, 1, 3, 0, 2, 1, 2, 3, 0, 2, 0, 2, 2, 3, 0, 2, 2, 3, 3, 3, 0, 2, 0, 0, 1, 2, 3, 2, 0, 0, 1, 3, 2, 3, 3, 3, 3, 3, 2, 1, 1, 0, 1, 1, 3, 2, 0, 2, 1, 2, 2, 3, 3, 2, 3, 3, 1, 2, 0, 1, 2, 2, 2, 1, 3, 1, 3, 0, 0, 2, 1, 1, 1, 0, 2, 0, 3, 2, 1, 2, 2, 1, 3, 2, 0, 1, 0, 2, 3, 3, 3, 0, 2, 1, 0, 1, 3, 3, 0, 2, 0, 1, 2, 1, 2, 0, 3, 3, 0, 3, 1, 1, 1, 3, 1, 2, 2, 1, 0, 0, 1, 3, 1, 0, 2, 2, 3, 2, 3, 1, 3, 3, 1, 0, 2, 1, 3, 2, 1, 2, 1, 3, 1, 0, 0, 2, 0, 3, 3, 2, 1, 0, 0, 2, 3, 1, 0, 1, 1, 1, 1, 1, 3, 1, 1, 1, 0, 1, 2, 1, 1, 2, 3, 0, 2, 1, 1, 1, 2, 3, 1, 0, 2, 3, 1, 0, 1, 2, 0, 1, 2, 1, 1, 2, 1, 2, 2, 3, 0, 0, 2, 1, 2, 1, 0, 2, 2, 2, 3, 1, 2, 1, 0, 0, 1, 1, 0, 2, 2, 2, 1, 2, 3, 2, 3, 1, 1, 0, 0, 3, 0, 2, 1, 0, 0, 3, 0, 0, 1, 2, 3, 1, 3, 2, 2, 2, 3, 0, 1, 1, 1, 0, 1, 1, 1, 0, 0, 0, 1, 3, 3, 0, 2, 1, 1, 2, 3, 0, 3, 0, 1, 0, 1, 1, 1, 0, 2, 0, 3, 2, 2, 0, 0, 1, 3, 0, 1, 1, 0, 0, 0, 1, 2, 3, 1, 3, 0, 1, 0, 1, 0, 1, 1, 0, 3, 3, 0, 2, 1, 2, 1, 2, 0, 3, 3, 0, 1, 3, 2, 2, 3, 3, 2, 1, 2, 2, 2, 2, 2, 0, 2, 1, 3, 0, 1, 3, 0, 0, 1, 1, 2, 0, 1, 1, 3, 3, 0, 1, 3, 2, 1, 3, 3, 3, 2, 2, 3, 2, 3, 0, 2, 1, 1, 2, 1, 3, 1, 0, 1, 1, 3, 1, 2, 1, 0, 1, 2, 1, 2, 2, 3, 1, 3, 1, 2, 3, 0, 0, 0, 0, 2, 0, 1, 1, 3, 2, 2, 0, 0, 1, 1, 0, 0, 2, 1, 3, 3, 2, 2, 3, 1, 2, 3, 0, 2, 1, 0, 1, 3, 0, 0, 3, 2, 1, 1, 2, 0, 3, 1, 1, 0, 1, 2, 3, 2, 0, 3, 2, 1, 3, 3, 2, 2, 1, 1, 0, 3, 1, 3, 2, 1, 0, 0, 2, 3, 0, 3, 1, 0, 2, 2, 1, 2, 2, 3, 3, 1, 1, 1, 3, 1, 1, 2, 2, 2, 0, 0, 0, 3, 2, 1, 1, 1, 2, 3, 3, 2, 0, 2, 3, 0, 1, 0, 2, 2, 0, 2, 0, 2, 0, 2, 2, 2, 3, 1, 0, 3, 2, 0, 1, 3, 0, 0, 0, 2, 1, 3, 0, 0, 1, 0, 2, 0, 1, 0, 2, 2, 0, 1, 3, 1, 3, 2, 1, 0, 1, 1, 0, 1, 1, 1, 1, 0, 1, 2, 2, 3, 0, 2, 3, 1, 0, 3, 3, 3, 1, 1, 0, 1, 0, 0, 2, 1, 2, 2, 1, 0, 1, 2, 1, 2, 0, 0, 2, 1, 2, 2, 3, 1, 0, 1, 2, 3, 1, 3, 1, 0, 0, 3, 3, 1, 3, 0, 2, 1, 0, 1, 0, 3, 2, 1, 0, 0, 2, 0, 0, 3, 0, 2, 3, 1, 0, 1, 1, 2, 0, 3, 1, 0, 0, 0, 1, 3, 2, 0, 0, 1, 2, 3, 0, 3, 0, 0, 3, 0, 1, 2, 2, 3, 2, 1, 2, 0, 3, 3, 2, 3, 1, 0, 3, 0, 2, 0, 1, 1, 2, 0, 3, 0, 0, 3, 2, 3, 1, 1, 1, 1, 1, 0, 3, 2, 2, 0, 1, 0, 0, 2, 3, 0, 3, 2, 1, 1, 2, 3, 1, 2, 2, 1, 2, 0, 1, 0, 2, 1, 3, 3, 0, 3, 1, 1, 2, 1, 3, 0, 0, 0, 0, 2, 0, 1, 2, 2, 1, 2, 2, 0, 2, 2, 2, 3, 0, 1, 3, 2, 1, 1, 0, 1, 1, 1, 0, 2, 0, 2, 0, 0, 1, 2, 0, 3, 3, 1, 0, 0, 1, 0, 0, 1, 2, 0, 1, 3, 3, 3, 2, 3, 3, 1, 3, 0, 2, 2, 0, 3, 0, 3, 2, 3, 2, 1, 3, 2, 2, 1, 3, 1, 2, 1, 2, 1, 0, 1, 0, 3, 1, 3, 3, 3, 2, 3, 0, 3, 2, 0, 1, 2, 0, 3, 2, 3, 1, 2, 2, 3, 1, 1, 3, 2, 0, 3, 3, 3, 2, 1, 0, 1, 3, 3, 1, 0, 0, 0, 3, 0, 1, 0, 1, 0, 0, 2, 1, 3, 0, 1, 1, 1, 2, 2, 2, 0, 0, 0, 1, 2, 0, 1, 1, 1, 0, 2, 2, 2, 0, 0, 1, 0, 0, 0, 0, 2, 3, 0, 3, 1, 2, 0, 2, 2, 1, 2, 0, 3, 0, 1, 2, 2, 3, 2, 3, 1, 0, 1, 1, 3, 2, 2, 3, 0, 2, 3, 0, 1, 3, 3, 2, 0, 1, 3, 0, 3, 0, 3, 1, 1, 2, 0, 2, 1, 2, 3, 1, 1, 1, 2, 1, 1, 2, 0, 1, 1, 2, 0, 2, 1, 3, 0, 1, 2, 0, 2, 3, 1, 3, 1, 1, 1, 3, 3, 1, 3, 1, 2, 0, 3, 0, 1, 2, 3, 0, 1, 2, 2, 1, 0, 1, 0, 3, 0, 1, 1, 3, 1, 1, 0, 2, 2, 3, 0, 0, 3, 2, 0, 0, 2, 1, 0, 3, 3, 0, 1, 1, 3, 0, 3, 0, 0, 0, 1, 3, 2, 2, 1, 1, 3, 0, 2, 0, 1, 3, 2, 1, 3, 1, 3, 2, 1, 3, 3, 0, 1, 0, 3, 1, 1, 0, 3, 1, 2, 0, 1, 2, 2, 3, 1, 3, 3, 0, 1, 1, 2, 1, 3, 2, 0, 1, 3, 1, 3, 1, 0, 2, 0, 3, 1, 0, 1, 1, 3, 2, 1, 0, 2, 1, 3, 0, 1, 1, 2, 1, 2, 3, 2, 0, 3, 0, 0, 2, 2, 1, 3, 0, 2, 3, 3, 1, 3, 0, 0, 1, 1, 1, 0, 3, 2, 2, 1, 0, 0, 3, 1, 2, 0, 1, 0, 1, 1, 0, 0, 3, 0, 1, 2, 0, 3, 2, 3, 3, 3, 2, 1, 0, 1, 3, 0, 2, 2, 2, 2, 1, 1, 2, 3, 0, 2, 2, 3, 1, 1, 2, 2, 2, 2, 0, 0, 1, 1, 2, 0, 3, 0, 1, 0, 0, 1, 2, 0, 0, 0, 0, 1, 1, 1, 0, 0, 0, 1, 2, 0, 2, 0, 1, 1, 0, 3, 0, 2, 2, 2, 3, 0, 3, 1, 1, 1, 0, 0, 2, 1, 2, 2, 0, 0, 0, 0, 1, 1, 0, 2, 2, 3, 2, 0, 0, 3, 3, 2, 0, 0, 3, 0, 2, 0, 1, 1, 3, 1, 3, 0, 2, 3, 0, 2, 1, 2, 1, 1, 1, 1, 2, 0, 2, 0, 1, 0, 0, 0, 0, 2, 1, 0, 3, 3, 1, 3, 3, 2, 2, 2, 2, 0, 1, 2, 3, 3, 1, 1, 1, 1, 2, 1, 1, 0, 3, 0, 1, 1, 0, 0, 2, 2, 3, 0, 2, 1, 1, 3, 0, 3, 1, 1, 1, 3, 0, 2, 1, 0, 0, 2, 3, 0, 1, 3, 1, 1, 0, 1, 1, 1, 0, 3, 3, 1, 0, 0, 0, 1, 1, 3, 3, 1, 3, 1, 1, 0, 2, 3, 1, 0, 0, 2, 3, 0, 3, 1, 2, 2, 1, 0, 0, 3, 0, 2, 2, 2, 1, 2, 1, 3, 0, 1, 3, 1, 0, 0, 1, 3, 0, 3, 2, 0, 2, 1, 1, 1, 2, 2, 2, 3, 2, 0, 0, 0, 3, 2, 1, 1, 2, 3, 0, 1, 0, 1, 1, 1, 0, 2, 2, 2, 2, 1, 0, 3, 2, 1, 2, 2, 3, 2, 0, 1, 0, 1, 1, 1, 0, 3, 0, 2, 2, 1, 0, 2, 2, 2, 1, 0, 2, 0, 2, 2, 2, 2, 0, 3, 1, 1, 0, 3, 2, 3, 1, 1, 3, 1, 0, 0, 3, 1, 0, 1, 2, 1, 1, 1, 0, 1, 3, 3, 0, 0, 2, 0, 2, 2, 1, 1, 1, 1, 1, 2, 1, 3, 1, 0, 0, 2, 3, 0, 1, 1, 1, 1, 0, 2, 3, 1, 1, 1, 0, 0, 1, 2, 1, 3, 2, 1, 1, 1, 1, 2, 3, 0, 3, 2, 0, 1, 2, 0, 2, 1, 1, 3, 2, 3, 2, 1, 3, 0, 2, 0, 1, 2, 0, 2, 2, 1, 0, 0, 1, 3, 1, 1, 0, 2, 2, 2, 2, 3, 1, 1, 0, 0, 3, 3, 1, 2, 0, 3, 2, 1, 1, 3, 0, 2, 0, 0, 3, 1, 3, 2, 0, 3, 2, 3, 0, 0, 3, 1, 2, 2, 1, 2, 3, 0, 1, 1, 0, 0, 3, 1, 2, 2, 3, 1, 3, 0, 1, 2, 2, 2, 3, 2, 2, 3, 2, 3, 1, 2, 0, 1, 0, 3, 1, 2, 3, 1, 2, 1, 0, 1, 0, 0, 1, 2, 1, 0, 1, 3, 0, 2, 3, 2, 1, 1, 1, 1, 3, 1, 0, 3, 3, 0, 2, 3, 2, 3, 1, 1, 2, 2, 0, 2, 2, 1, 3, 2, 3, 2, 3, 1, 0, 0, 2, 0, 1, 1, 1, 1, 1, 0, 1, 2, 3, 0, 2, 3, 2, 3, 3, 1, 3, 3, 1, 2, 0, 0, 3, 1, 0, 1, 0, 2, 2, 2, 3, 3, 2, 2, 2, 0, 3, 3, 1, 0, 2, 3, 1, 2, 1, 3, 2, 2, 2, 1, 3, 0, 1, 1, 3, 1, 0, 3, 3, 3, 0, 3, 3, 0, 1, 1, 2, 0, 1, 0, 2, 3, 3, 3, 0, 2, 1, 1, 2, 0, 1, 1, 3, 0, 3, 1, 3, 1, 2, 0, 1, 2, 2, 3, 1, 1, 0, 0, 0, 1, 0, 1, 0, 1, 2, 1, 2, 0, 3, 1, 1, 1, 2, 1, 2, 3, 2, 3, 3, 1, 1, 2, 2, 1, 0, 1, 2, 0, 2, 0, 0, 3, 0, 2, 2, 2, 0, 1, 2, 3, 0, 2, 3, 3, 2, 2, 0, 0, 3, 1, 3, 2, 3, 1, 0, 0, 0, 3, 0, 1, 2, 2, 0, 2, 1, 0, 2, 0, 3, 1, 2, 0, 1, 0, 0, 3, 0, 1, 0, 0, 0, 1, 2, 1, 2, 0, 1, 2, 1, 3, 1, 0, 2, 1, 2, 0, 1, 2, 2, 3, 2, 2, 2, 2, 3, 1, 2, 1, 0, 2, 0, 0, 2, 1, 2, 1, 1, 1, 1, 3, 2, 2, 2, 0, 0, 1, 0, 3, 2, 1, 2, 0, 2, 2, 3, 2, 0, 1, 0, 2, 1, 1, 2, 3, 1, 1, 1, 2, 0, 3, 0, 1, 2, 1, 0, 0, 2, 1, 1, 2, 2, 3, 3, 1, 3, 0, 1, 1, 2, 1, 3, 1, 3, 1, 1, 1, 2, 2, 0, 2, 0, 3, 2, 1, 1, 2, 3, 3, 1, 3, 0, 0, 2, 0, 0, 0, 1, 0, 3, 1, 3, 2, 0, 1, 0, 2, 1, 2, 1, 1, 1, 1, 3, 1, 0, 1, 1, 3, 1, 2, 3, 1, 2, 2, 0, 0, 2, 3, 1, 1, 0, 1, 0, 1, 0, 1, 0, 0, 2, 3, 1, 2, 0, 2, 1, 1, 3, 3, 1, 0, 0, 3, 0, 2, 2, 0, 1, 0, 0, 1, 2, 1, 0, 3, 0, 1, 0, 0, 2, 3, 3, 0, 1, 3, 0, 2, 2, 2, 0, 2, 0, 3, 0, 0, 0, 3, 0, 0, 0, 0, 1, 2, 2, 1, 3, 3, 1, 0, 1, 1, 1, 0, 0, 0, 1, 2, 0, 2, 3, 1, 2, 2, 2, 2, 1, 1, 3, 0, 1, 0, 1, 1, 1, 2, 2, 3, 3, 1, 0, 2, 1, 1, 3, 1, 2, 3, 2, 3, 2, 0, 3, 1, 0, 1, 3, 2, 1, 1, 0, 1, 3, 1, 1, 2, 3, 0, 2, 0, 1, 1, 0, 0, 1, 1, 1, 3, 3, 3, 2, 3, 1, 0, 3, 1, 3, 1, 0, 0, 1, 1, 2, 3, 1, 2, 0, 0, 0, 1, 1, 3, 2, 1, 0, 1, 1, 2, 1, 3, 2, 1, 0, 3, 0, 0, 1, 2, 1, 1, 0, 2, 1, 1, 1, 1, 3, 2, 0, 2, 2, 3, 2, 0, 1, 2, 3, 1, 3, 1, 2, 1, 1, 0, 2, 2, 3, 1, 3, 1, 2, 1, 3, 2, 0, 2, 2, 1, 3, 0, 2, 1, 3, 0, 2, 1, 3, 0, 0, 0, 1, 2, 0, 1, 2, 2, 2, 1, 1, 0, 2, 3, 1, 2, 3, 1, 1, 1, 0, 2, 1, 0, 1, 2, 0, 0, 0, 2, 1, 1, 2, 3, 1, 2, 3, 0, 1, 3, 2, 2, 3, 0, 1, 1, 1, 2, 1, 3, 0, 0, 3, 1, 1, 2, 1, 2, 0, 3, 2, 2, 0, 1, 0, 2, 0, 0, 0, 2, 0, 2, 0, 3, 2, 2, 1, 2, 1, 1, 1, 1, 2, 0, 3, 3, 1, 0, 3, 1, 2, 1, 0, 1, 1, 0, 1, 3, 3, 2, 0, 3, 1, 1, 0, 2, 0, 3, 2, 2, 0, 0, 0, 2, 1, 1, 2, 2, 3, 3, 3, 1, 1, 2, 1, 2, 0, 1, 3, 3, 1, 3, 1, 0, 0, 2, 1, 0, 3, 0, 2, 1, 1, 2, 0, 2, 0, 3, 0, 0, 2, 0, 0, 2, 1, 1, 3, 1, 0, 2, 1, 3, 2, 1, 3, 0, 2, 1, 1, 1, 2, 0, 2, 1, 0, 1, 3, 0, 1, 3, 0, 0, 0, 0, 1, 0, 1, 0, 1, 1, 2, 1, 0, 1, 1, 0, 0, 1, 2, 0, 0, 3, 2, 1, 2, 3, 1, 0, 1, 0, 3, 3, 1, 1, 2, 2, 2, 1, 0, 0, 2, 2, 0, 2, 0, 1, 3, 1, 3, 2, 1, 0, 2, 1, 0, 3, 3, 3, 1, 1, 2, 1, 0, 3, 2, 0, 3, 0, 3, 1, 2, 1, 1, 1, 1, 0, 2, 0, 0, 0, 1, 3, 2, 1, 3, 2, 1, 0, 2, 2, 1, 0, 1, 0, 1, 1, 3, 3, 2, 1, 3, 0, 1, 3, 1, 1, 0, 3, 0, 3, 3, 2, 2, 1, 3, 0, 3, 2, 0, 1, 3, 2, 2, 1, 0, 0, 1, 1, 1, 2, 1, 3, 2, 1, 0, 1, 1, 2, 1, 0, 1, 3, 2, 0, 0, 1, 2, 0, 1, 3, 0, 0, 3, 0, 2, 0, 0, 1, 1, 3, 3, 3, 1, 2, 0, 1, 1, 1, 1, 2, 0, 3, 0, 3, 2, 3, 1, 0, 3, 0, 3, 2, 3, 0, 2, 0, 1, 2, 0, 0, 1, 0, 1, 1, 1, 1, 1, 0, 0, 3, 1, 3, 1, 3, 2, 3, 1, 0, 0, 1, 2, 2, 2, 1, 0, 3, 1, 3, 1, 1, 1, 1, 2, 2, 3, 0, 3, 0, 0, 2, 0, 1, 2, 1, 0, 1, 2, 0, 2, 1, 0, 2, 2, 1, 2, 0, 1, 3, 2, 1, 3, 1, 2, 1, 0, 3, 3, 3, 3, 3, 1, 1, 1, 3, 0, 2, 0, 0, 1, 1, 0, 3, 1, 1, 3, 2, 3, 2, 2, 2, 2, 0, 3, 2, 0, 0, 1, 1, 1, 2, 3, 1, 2, 3, 2, 3, 0, 1, 2, 1, 0, 1, 1, 1, 2, 2, 2, 3, 0, 2, 1, 1, 1, 2, 3, 1, 1, 1, 0, 2, 3, 0, 2, 1, 3, 3, 1, 2, 1, 2, 0, 1, 2, 1, 2, 0, 1, 0, 2, 2, 0, 0, 3, 0, 2, 2, 2, 1, 0, 1, 2, 0, 2, 2, 2, 0, 3, 3, 1, 0, 2, 0, 1, 2, 3, 3, 1, 2, 1, 3, 2, 2, 1, 1, 1, 3, 3, 3, 3, 0, 0, 0, 2, 2, 0, 3, 1, 3, 0, 1, 1, 3, 1, 1, 1, 1, 0, 1, 2, 2, 2, 1, 3, 1, 0, 2, 2, 1, 0, 0, 1, 0, 1, 1, 2, 0, 0, 0, 1, 0, 2, 3, 1, 2, 3, 2, 0, 3, 0, 0, 1, 1, 1, 3, 1, 1, 1, 0, 0, 0, 1, 3, 1, 1, 0, 2, 0, 0, 2, 2, 1, 3, 2, 2, 0, 0, 1, 2, 3, 0, 0, 3, 3, 3, 1, 2, 1, 2, 1, 0, 3, 1, 0, 0, 2, 2, 0, 2, 0, 2, 0, 1, 1, 1, 2, 1, 1, 2, 2, 3, 1, 0, 1, 0, 1, 0, 3, 1, 2, 0, 0, 0, 2, 1, 3, 0, 0, 1, 3, 1, 0, 0, 1, 0, 1, 2, 0, 2, 2, 2, 3, 0, 0, 0, 0, 1, 3, 2, 0, 1, 2, 0, 1, 0, 3, 1, 1, 1, 2, 1, 1, 1, 3, 0, 3, 3, 2, 1, 1, 1, 1, 0, 1, 3, 1, 3, 2, 2, 1, 3, 0, 2, 1, 1, 1, 0, 0, 2, 1, 1, 0, 2, 2, 3, 1, 2, 2, 1, 3, 2, 0, 0, 2, 2, 3, 3, 1, 1, 2, 1, 1, 1, 1, 2, 1, 0, 0, 1, 0, 1, 3, 3, 3, 2, 1, 1, 0, 2, 0, 0, 0, 1, 3, 0, 1, 3, 2, 1, 0, 2, 1, 3, 2, 1, 2, 0, 1, 0, 3, 2, 1, 3, 1, 0, 2, 2, 2, 0, 3, 0, 3, 2, 2, 1, 0, 2, 0, 2, 1, 2, 3, 2, 1, 0, 3, 1, 2, 2, 1, 3, 1, 0, 3, 1, 3, 1, 0, 3, 1, 1, 2, 2, 0, 0, 3, 2, 3, 3, 3, 1, 1, 2, 0, 3, 0, 2, 1, 2, 1, 3, 3, 0, 1, 1, 1, 2, 1, 0, 0, 0, 2, 1, 2, 0, 1, 2, 0, 1, 1, 3, 2, 1, 2, 3, 2, 0, 1, 2, 3, 0, 2, 3, 0, 3, 0, 3, 3, 2, 2, 3, 0, 2, 3, 1, 1, 0, 3, 0, 2, 1, 3, 0, 1, 0, 2, 2, 1, 1, 1, 1, 0, 0, 3, 0, 3, 2, 3, 1, 1, 3, 1, 3, 3, 1, 3, 3, 0, 3, 1, 0, 2, 3, 2, 2, 1, 1, 2, 2, 3, 1, 3, 1, 1, 3, 1, 2, 1, 2, 0, 1, 2, 2, 2, 0, 0, 1, 0, 3, 3, 1, 3, 1, 2, 0, 2, 1, 1, 0, 0, 1, 2, 3, 0, 2, 2, 1, 1, 1, 0, 0, 3, 2, 2, 2, 2, 1, 0, 2, 2, 0, 3, 1, 3, 0, 1, 2, 2, 3, 1, 2, 0, 3, 2, 2, 2, 2, 0, 3, 3, 1, 1, 2, 2, 0, 1, 2, 1, 3, 2, 1, 3, 1, 3, 2, 2, 2, 2, 3, 1, 1, 3, 2, 0, 0, 0, 3, 0, 0, 2, 3, 0, 3, 0, 1, 2, 0, 3, 2, 3, 3, 2, 1, 2, 1, 3, 2, 1, 0, 0, 1, 0, 2, 0, 0, 3, 0, 0, 2, 0, 2, 1, 1, 0, 0, 0, 1, 3, 1, 2, 1, 2, 2, 3, 1, 0, 0, 2, 2, 0, 3, 2, 3, 1, 0, 2, 2, 2, 3, 1, 2, 1, 2, 1, 0, 0, 2, 2, 1, 0, 1, 0, 1, 1, 0, 1, 0, 1, 1, 1, 1, 2, 0, 1, 3, 2, 1, 1, 1, 0, 1, 3, 2, 3, 1, 3, 1, 0, 1, 3, 3, 1, 0, 2, 3, 1, 1, 2, 0, 1, 2, 2, 3, 1, 2, 2, 0, 1, 2, 1, 2, 2, 2, 1, 3, 1, 2, 2, 0, 2, 1, 2, 0, 3, 1, 3, 1, 2, 0, 1, 0, 0, 2, 2, 2, 3, 1, 0, 2, 0, 1, 2, 2, 1, 1, 1, 3, 2, 1, 2, 2, 0, 2, 1, 1, 3, 0, 2, 2, 3, 2, 1, 1, 1, 0, 2, 2, 0, 3, 1, 1, 2, 3, 0, 1, 0, 0, 1, 1, 3, 2, 1, 0, 0, 0, 2, 1, 0, 2, 1, 1, 0, 3, 1, 2, 0, 0, 2, 0, 0, 1, 0, 1, 1, 0, 1, 1, 2, 1, 0, 3, 0, 2, 1, 1, 2, 3, 0, 0, 0, 1, 2, 1, 2, 3, 0, 0, 1, 0, 2, 2, 0, 3, 2, 0, 1, 1, 0, 3, 2, 3, 3, 1, 1, 3, 0, 1, 2, 1, 1, 0, 0, 1, 2, 3, 1, 0, 2, 0, 0, 1, 1, 0, 2, 2, 1, 0, 1, 2, 0, 1, 1, 1, 3, 2, 1, 2, 2, 2, 2, 3, 0, 0, 2, 0, 3, 3, 0, 1, 2, 0, 1, 3, 1, 3, 1, 0, 1, 3, 0, 2, 2, 2, 3, 3, 0, 0, 1, 2, 3, 1, 2, 1, 0, 3, 1, 0, 1, 2, 3, 0, 1, 2, 2, 1, 2, 1, 1, 1, 0, 3, 2, 1, 3, 2, 3, 2, 3, 0, 1, 0, 1, 3, 1, 1, 1, 1, 3, 2, 1, 0, 1, 3, 2, 0, 0, 2, 3, 1, 1, 3, 2, 0, 1, 0, 1, 2, 1, 1, 2, 3, 2, 1, 1, 0, 2, 3, 1, 2, 0, 0, 2, 2, 1, 3, 3, 0, 1, 1, 2, 1, 1, 0, 2, 1, 1, 1, 2, 2, 1, 3, 0, 1, 3, 3, 3, 1, 2, 0, 1, 2, 0, 2, 2, 0, 1, 1, 2, 1, 3, 3, 0, 2, 3, 2, 3, 3, 1, 2, 0, 0, 1, 0, 0, 1, 1, 2, 2, 2, 1, 2, 3, 1, 0, 0, 3, 1, 2, 3, 0, 1, 2, 2, 2, 2, 3, 2, 1, 0, 1, 1, 1, 0, 3, 0, 1, 1, 2, 3, 1, 0, 3, 2, 0, 0, 3, 1, 1, 2, 1, 2, 0, 2, 0, 2, 2, 3, 2, 3, 2, 2, 1, 0, 0, 0, 2, 0, 0, 0, 3, 3, 0, 0, 1, 0, 2, 1, 0, 3, 0, 0, 0, 2, 2, 3, 1, 0, 0, 1, 1, 0, 2, 2, 0, 1, 0, 3, 2, 1, 1, 1, 2, 2, 3, 2, 1, 0, 1, 2, 2, 2, 0, 2, 0, 3, 1, 1, 3, 1, 0, 2, 3, 0, 2, 2, 2, 2, 1, 0, 1, 0, 1, 1, 0, 2, 2, 3, 0, 0, 2, 1, 3, 0, 0, 0, 1, 3, 0, 3, 2, 1, 0, 3, 0, 1, 2, 0, 0, 0, 2, 0, 2, 0, 0, 0, 3, 0, 0, 2, 3, 0, 1, 1, 1, 1, 1, 3, 0, 0, 3, 1, 3, 0, 3, 3, 0, 1, 0, 1, 0, 1, 1, 0, 0, 0, 1, 3, 1, 3, 2, 1, 2, 0, 3, 1, 2, 0, 2, 2, 2, 1, 3, 0, 1, 2, 1, 2, 2, 2, 1, 2, 0, 1, 2, 3, 2, 2, 0, 1, 1, 1, 3, 1, 3, 1, 1, 0, 0, 1, 2, 0, 2, 2, 3, 1, 1, 2, 2, 3, 3, 2, 2, 0, 1, 0, 3, 1, 2, 3, 0, 3, 2, 1, 1, 2, 2, 0, 2, 1, 2, 0, 1, 1, 0, 0, 0, 3, 0, 3, 1, 1, 2, 0, 0, 2, 1, 0, 3, 2, 3, 1, 0, 1, 2, 2, 1, 1, 1, 0, 0, 1, 1, 0, 1, 3, 2, 0, 1, 2, 2, 2, 1, 1, 1, 0, 0, 0, 2, 1, 2, 3, 2, 2, 3, 2, 2, 2, 2, 2, 0, 3, 1, 2, 2, 1, 1, 1, 1, 0, 3, 0, 1, 2, 3, 2, 2, 3, 0, 2, 3, 1, 3, 2, 0, 1, 0, 2, 0, 2, 0, 2, 0, 0, 3, 3, 0, 2, 3, 1, 0, 1, 3, 2, 3, 2, 0, 1, 1, 3, 1, 2, 2, 2, 0, 2, 3, 1, 1, 1, 0, 3, 3, 1, 3, 1, 1, 2, 1, 1, 1, 1, 2, 1, 3, 1, 3, 2, 1, 0, 2, 2, 0, 3, 2, 0, 0, 1, 2, 2, 3, 0, 1, 0, 3, 1, 1, 0, 3, 2, 0, 2, 0, 1, 0, 1, 0, 2, 2, 0, 1, 0, 3, 0, 0, 3, 1, 2, 1, 3, 3, 0, 2, 0, 1, 2, 0, 0, 0, 1, 1, 2, 1, 0, 1, 1, 2, 1, 3, 0, 1, 3, 0, 2, 2, 2, 2, 1, 3, 3, 1, 2, 1, 0, 2, 1, 2, 2, 1, 0, 3, 2, 0, 2, 1, 2, 3, 1, 1, 2, 1, 2, 1, 2, 3, 1, 2, 0, 0, 1, 1, 2, 1, 1, 3, 0, 2, 0, 2, 1, 1, 2, 3, 1, 2, 1, 1, 2, 3, 2, 0, 2, 1, 0, 2, 3, 1, 1, 1, 2, 2, 3, 1, 1, 2, 0, 2, 0, 1, 2, 1, 3, 3, 3, 2, 1, 1, 2, 1, 1, 1, 0, 1, 0, 3, 2, 1, 3, 0, 1, 2, 2, 0, 1, 2, 1, 1, 3, 3, 1, 0, 1, 1, 2, 1, 1, 3, 2, 0, 1, 3, 1, 0, 3, 1, 3, 2, 0, 2, 3, 2, 0, 0, 2, 1, 1, 0, 3, 2, 3, 2, 3, 2, 1, 3, 1, 3, 1, 3, 1, 0, 1, 1, 3, 1, 0, 1, 1, 0, 3, 1, 1, 0, 1, 1, 1, 3, 0, 1, 2, 1, 2, 0, 2, 1, 1, 1, 0, 1, 2, 2, 0, 3, 1, 3, 2, 1, 3, 3, 0, 0, 3, 3, 2, 0, 3, 1, 1, 1, 2, 2, 3, 2, 1, 3, 0, 0, 2, 1, 0, 1, 0, 3, 0, 3, 2, 0, 0, 0, 0, 1, 0, 3, 3, 2, 0, 1, 2, 0, 0, 2, 1, 0, 1, 1, 2, 1, 1, 1, 1, 3, 3, 1, 2, 1, 3, 0, 1, 1, 1, 0, 2, 0, 2, 1, 1, 1, 3, 2, 2, 1, 1, 1, 1, 3, 1, 1, 2, 0, 1, 1, 2, 0, 1, 3, 3, 0, 3, 0, 0, 2, 0, 0, 0, 2, 3, 1, 0, 1, 1, 2, 2, 1, 2, 2, 2, 3, 2, 2, 3, 0, 1, 0, 3, 2, 1, 1, 1, 1, 0, 2, 2, 1, 2, 2, 0, 1, 1, 1, 2, 2, 1, 1, 2, 0, 1, 0, 1, 2, 3, 1, 3, 0, 3, 2, 2, 2, 1, 0, 2, 1, 2, 1, 0, 1, 3, 0, 2, 1, 3, 3, 0, 2, 1, 1, 2, 3, 1, 0, 1, 0, 2, 0, 1, 3, 2, 3, 2, 3, 3, 1, 0, 2, 3, 1, 1, 0, 1, 1, 3, 2, 3, 1, 2, 0, 2, 1, 3, 3, 0, 1, 3, 0, 1, 1, 1, 1, 1, 3, 3, 1, 2, 0, 1, 3, 0, 0, 2, 1, 1, 1, 2, 2, 2, 3, 0, 3, 0, 0, 2, 2, 3, 3, 2, 0, 1, 1, 1, 0, 2, 1, 3, 3, 1, 3, 0, 3, 2, 2, 1, 2, 3, 0, 2, 3, 2, 0, 0, 1, 0, 0, 3, 1, 0, 2, 0, 1, 1, 1, 1, 1, 0, 2, 0, 2, 2, 1, 2, 2, 1, 2, 1, 1, 2, 3, 2, 2, 2, 3, 0, 0, 0, 2, 1, 2, 3, 3, 3, 0, 2, 1, 0, 2, 2, 0, 2, 2, 2, 2, 2, 0, 3, 1, 0, 1, 2, 1, 3, 3, 2, 2, 2, 2, 0, 3, 3, 0, 1, 0, 0, 2, 1, 2, 1, 0, 0, 0, 3, 1, 2, 1, 0, 0, 2, 0, 3, 0, 2, 0, 2, 1, 1, 1, 2, 3, 1, 2, 1, 0, 2, 2, 0, 2, 1, 1, 0, 2, 3, 3, 1, 2, 1, 2, 0, 2, 1, 1, 2, 2, 1, 0, 1, 1, 1, 1, 1, 1, 2, 0, 3, 2, 0, 3, 0, 0, 3, 2, 1, 0, 0, 1, 1, 2, 0, 2, 1, 1, 1, 1, 0, 2, 0, 0, 1, 2, 3, 2, 1, 3, 0, 2, 1, 1, 1, 2, 2, 1, 3, 2, 1, 1, 1, 0, 1, 2, 1, 0, 3, 0, 2, 1, 1, 0, 3, 2, 0, 1, 0, 0, 3, 1, 1, 3, 1, 0, 3, 3, 3, 2, 2, 1, 2, 2, 2, 2, 0, 0, 2, 2, 1, 2, 2, 1, 3, 3, 1, 1, 3, 2, 3, 2, 0, 2, 0, 3, 1, 0, 1, 0, 1, 0, 2, 0, 1, 3, 0, 2, 0, 2, 1, 1, 3, 3, 3, 1, 1, 3, 1, 1, 2, 1, 0, 1, 3, 1, 0, 3, 3, 1, 0, 0, 3, 2, 0, 2, 1, 3, 1, 0, 0, 1, 3, 1, 1, 2, 0, 2, 1, 2, 0, 1, 1, 3, 3, 3, 2, 3, 0, 0, 2, 0, 2, 2, 2, 1, 1, 0, 1, 0, 2, 0, 3, 1, 3, 2, 2, 3, 3, 2, 2, 3, 1, 2, 1, 3, 0, 2, 2, 3, 1, 1, 1, 2, 2, 2, 0, 2, 1, 0, 1, 1, 0, 1, 2, 3, 3, 2, 2, 1, 3, 2, 0, 1, 1, 1, 2, 0, 2, 3, 0, 0, 2, 1, 3, 1, 1, 0, 3, 2, 2, 1, 3, 2, 0, 1, 3, 2, 2, 3, 1, 0, 3, 2, 0, 0, 2, 0, 3, 1, 0, 2, 1, 1, 0, 0, 0, 3, 1, 0, 1, 2, 3, 1, 2, 2, 1, 0, 2, 3, 3, 0, 1, 0, 1, 0, 1, 0, 0, 0, 2, 2, 1, 1, 0, 1, 1, 0, 0, 0, 3, 1, 2, 1, 3, 1, 2, 1, 3, 1, 2, 1, 0, 1, 0, 1, 2, 3, 2, 0, 1, 2, 0, 3, 3, 3, 1, 0, 3, 3, 3, 3, 1, 2, 2, 3, 0, 1, 2, 2, 2, 1, 2, 3, 2, 1, 3, 0, 1, 2, 1, 2, 0, 1, 2, 1, 1, 3, 2, 3, 1, 2, 2, 0, 1, 2, 3, 0, 0, 3, 1, 0, 2, 2, 1, 1, 3, 0, 3, 0, 3, 2, 2, 2, 2, 1, 2, 1, 0, 3, 0, 1, 1, 2, 3, 2, 3, 2, 0, 1, 0, 1, 1, 1, 0, 0, 2, 3, 0, 2, 0, 2, 3, 1, 2, 0, 0, 2, 1, 2, 0, 1, 1, 0, 2, 2, 0, 2, 3, 1, 0, 1, 1, 2, 2, 2, 2, 3, 1, 1, 2, 2, 0, 0, 0, 0, 0, 1, 0, 3, 0, 0, 0, 1, 0, 0, 2, 3, 0, 2, 1, 1, 2, 2, 0, 2, 0, 1, 0, 3, 1, 2, 1, 0, 3, 0, 1, 3, 0, 3, 3, 2, 0, 3, 0, 0, 1, 3, 3, 3, 1, 0, 3, 3, 1, 1, 1, 1, 0, 1, 3, 3, 1, 0, 1, 3, 2, 0, 2, 1, 1, 0, 1, 1, 2, 1, 3, 2, 1, 0, 3, 2, 0, 0, 0, 1, 2, 3, 1, 1, 0, 0, 0, 1, 0, 3, 1, 0, 3, 2, 3, 2, 0, 2, 2, 1, 2, 2, 3, 2, 2, 0, 1, 3, 1, 1, 2, 0, 3, 3, 0, 1, 1, 0, 1, 0, 2, 1, 1, 2, 0, 1, 2, 2, 0, 1, 0, 0, 1, 0, 1, 0, 0, 1, 1, 0, 3, 1, 0, 0, 3, 1, 1, 3, 0, 1, 2, 0, 3, 1, 1, 2, 3, 0, 1, 1, 3, 2, 0, 1, 0, 1, 3, 2, 0, 3, 3, 0, 1, 0, 1, 1, 1, 3, 2, 2, 1, 2, 1, 2, 2, 3, 3, 3, 3, 1, 2, 1, 0, 2, 1, 1, 0, 1, 1, 2, 3, 2, 3, 1, 3, 1, 2, 1, 3, 3, 2, 0, 0, 2, 3, 0, 2, 0, 0, 0, 0, 3, 3, 2, 2, 0, 0, 0, 0, 0, 0, 2, 2, 2, 3, 1, 0, 1, 2, 3, 2, 2, 1, 3, 0, 0, 3, 1, 3, 2, 3, 0, 2, 2, 1, 2, 2, 2, 3, 1, 2, 0, 1, 0, 1, 2, 1, 2, 2, 1, 0, 2, 1, 0, 0, 2, 1, 0, 1, 3, 0, 1, 2, 0, 2, 2, 3, 0, 3, 2, 3, 1, 0, 0, 0, 2, 0, 2, 0, 0, 1, 2, 0, 2, 1, 2, 3, 2, 2, 2, 0, 3, 3, 2, 1, 1, 1, 1, 1, 3, 2, 1, 3, 0, 3, 1, 1, 1, 2, 3, 1, 2, 0, 1, 1, 0, 3, 3, 3, 0, 2, 2, 0, 2, 1, 1, 1, 2, 2, 1, 0, 0, 1, 2, 2, 2, 3, 1, 0, 2, 0, 1, 2, 2, 0, 1, 0, 0, 1, 1, 3, 0, 3, 0, 3, 0, 1, 0, 2, 3, 2, 1, 3, 0, 2, 1, 0, 1, 2, 1, 0, 0, 1, 3, 3, 2, 0, 0, 3, 2, 1, 3, 1, 2, 3, 0, 3, 2, 3, 1, 1, 3, 0, 1, 3, 1, 1, 1, 2, 0, 1, 2, 1, 0, 2, 1, 1, 1, 1, 1, 0, 2, 0, 0, 1, 3, 2, 2, 2, 0, 2, 3, 1, 1, 3, 0, 0, 3, 3, 1, 1, 2, 0, 1, 2, 1, 1, 1, 1, 2, 1, 3, 3, 0, 1, 0, 2, 2, 2, 0, 3, 0, 3, 2, 1, 0, 0, 0, 0, 2, 1, 1, 1, 2, 2, 0, 3, 3, 2, 0, 2, 2, 3, 2, 2, 2, 1, 0, 1, 2, 0, 0, 1, 3, 2, 1, 1, 1, 2, 3, 2, 1, 1, 1, 2, 1, 0, 2, 0, 3, 0, 3, 1, 2, 3, 3, 3, 3, 1, 2, 1, 1, 2, 0, 1, 1, 3, 1, 3, 1, 1, 3, 3, 1, 1, 1, 0, 1, 1, 2, 1, 1, 3, 3, 3, 3, 0, 1, 2, 2, 2, 0, 3, 2, 0, 2, 1, 1, 3, 2, 1, 1, 1, 3, 1, 0, 2, 2, 3, 0, 0, 1, 2, 3, 1, 1, 0, 0, 1, 1, 2, 3, 1, 3, 2, 1, 2, 3, 0, 1, 2, 1, 2, 3, 3, 2, 0, 2, 0, 0, 3, 3, 0, 2, 2, 0, 1, 3, 2, 2, 1, 1, 2, 1, 1, 2, 2, 1, 0, 2, 0, 3, 0, 3, 3, 1, 1, 2, 1, 3, 3, 0, 1, 0, 1, 3, 0, 3, 1, 3, 0, 0, 2, 2, 0, 3, 2, 0, 0, 0, 0, 2, 1, 0, 2, 1, 3, 0, 2, 1, 3, 2, 0, 1, 3, 2, 2, 2, 0, 1, 0, 3, 1, 3, 2, 3, 2, 2, 0, 2, 2, 1, 0, 2, 0, 2, 3, 1, 2, 3, 2, 3, 1, 2, 1, 1, 1, 1, 0, 0, 0, 3, 2, 2, 2, 3, 1, 1, 0, 0, 2, 0, 1, 1, 1, 0, 3, 1, 1, 2, 3, 0, 2, 0, 2, 3, 0, 2, 0, 3, 3, 1, 1, 0, 1, 3, 2, 0, 2, 1, 2, 2, 0, 2, 1, 1, 1, 0, 1, 1, 2, 3, 1, 2, 2, 1, 2, 0, 2, 3, 3, 2, 2, 0, 1, 0, 3, 2, 3, 1, 0, 3, 2, 2, 2, 0, 3, 3, 1, 0, 3, 0, 3, 2, 1, 1, 2, 0, 0, 0, 1, 2, 1, 1, 1, 0, 2, 2, 1, 1, 1, 1, 2, 3, 2, 0, 0, 0, 0, 1, 2, 0, 3, 1, 0, 0, 0, 2, 1, 3, 2, 3, 0, 1, 2, 2, 2, 2, 3, 0, 2, 0, 1, 2, 3, 0, 0, 1, 1, 1, 2, 3, 1, 0, 0, 1, 0, 1, 2, 1, 2, 1, 2, 0, 0, 2, 0, 1, 0, 3, 3, 3, 3, 1, 3, 1, 3, 3, 0, 0, 1, 2, 3, 0, 0, 2, 1, 0, 2, 0, 1, 0, 1, 0, 3, 0, 2, 1, 1, 3, 3, 1, 0, 0, 0, 0, 2, 1, 3, 1, 2, 0, 3, 1, 3, 1, 3, 0, 2, 1, 1, 1, 0, 0, 1, 3, 1, 0, 0, 2, 3, 1, 2, 0, 0, 2, 2, 0, 1, 3, 0, 2, 1, 1, 2, 2, 2, 2, 2, 2, 0, 1, 1, 0, 3, 2, 1, 0, 0, 1, 0, 1, 1, 2, 1, 1, 1, 2, 2, 1, 3, 2, 3, 2, 2, 2, 1, 0, 1, 1, 3, 0, 0, 0, 2, 2, 1, 3, 1, 2, 2, 0, 0, 2, 0, 0, 1, 1, 0, 1, 0, 1, 2, 2, 0, 1, 2, 3, 1, 2, 3, 0, 2, 0, 1, 1, 0, 0, 3, 1, 3, 0, 0, 2, 1, 1, 3, 1, 0, 2, 3, 0, 0, 2, 3, 2, 2, 1, 1, 2, 3, 0, 2, 1, 0, 0, 2, 0, 1, 0, 0, 3, 1, 3, 1, 0, 0, 1, 2, 2, 1, 1, 1, 2, 2, 3, 1, 2, 1, 3, 2, 0, 0, 2, 1, 1, 1, 1, 1, 2, 2, 3, 1, 0, 0, 2, 2, 0, 1, 3, 1, 2, 2, 1, 0, 3, 1, 0, 2, 2, 2, 1, 3, 1, 3, 0, 1, 1, 3, 2, 1, 3, 0, 3, 2, 3, 2, 1, 2, 1, 1, 0, 0, 2, 1, 0, 2, 3, 2, 2, 2, 0, 0, 1, 3, 0, 1, 2, 2, 1, 0, 3, 0, 2, 3, 2, 2, 2, 3, 0, 0, 0, 0, 2, 1, 2, 0, 3, 0, 1, 1, 0, 1, 1, 2, 2, 3, 0, 0, 2, 2, 1, 1, 2, 1, 1, 2, 3, 1, 3, 2, 2, 3, 1, 3, 1, 0, 2, 1, 2, 2, 0, 0, 3, 0, 3, 0, 1, 0, 1, 0, 0, 1, 0, 3, 1, 2, 2, 1, 1, 2, 0, 1, 0, 3, 3, 1, 0, 3, 0, 0, 2, 0, 0, 0, 2, 1, 0, 3, 3, 0, 1, 2, 0, 2, 3, 1, 0, 1, 1, 0, 2, 0, 1, 2, 1, 3, 2, 3, 0, 1, 0, 0, 2, 2, 0, 0, 0, 0, 2, 2, 3, 3, 0, 0, 2, 1, 1, 1, 3, 0, 1, 2, 3, 2, 0, 1, 0, 3, 1, 1, 1, 1, 1, 2, 0, 3, 0, 0, 2, 2, 2, 1, 2, 1, 0, 1, 0, 3, 3, 1, 0, 2, 3, 2, 0, 2, 1, 0, 2, 1, 1, 0, 0, 1, 2, 3, 3, 0, 1, 2, 2, 3, 3, 3, 1, 1, 3, 0, 0, 3, 0, 2, 0, 1, 0, 0, 1, 0, 2, 1, 3, 1, 0, 2, 1, 1, 0, 3, 1, 2, 2, 0, 1, 2, 3, 2, 3, 2, 0, 3, 1, 3, 0, 3, 2, 0, 0, 0, 2, 1, 2, 1, 3, 0, 0, 0, 1, 1, 0, 1, 3, 3, 3, 0, 1, 1, 3, 2, 3, 3, 3, 2, 1, 0, 0, 3, 3, 3, 3, 0, 3, 1, 1, 0, 2, 0, 2, 3, 1, 1, 3, 2, 2, 3, 0, 2, 0, 2, 3, 1, 0, 1, 3, 1, 1, 2, 1, 3, 2, 3, 1, 1, 2, 2, 2, 1, 3, 1, 0, 2, 0, 3, 2, 1, 1, 3, 0, 2, 3, 0, 2, 3, 3, 1, 1, 3, 0, 2, 2, 0, 1, 1, 2, 1, 1, 1, 0, 0, 1, 3, 1, 1, 2, 2, 1, 0, 1, 1, 2, 0, 2, 0, 0, 2, 1, 1, 1, 1, 0, 1, 3, 0, 2, 2, 3, 0, 1, 0, 2, 1, 1, 2, 3, 1, 2, 3, 1, 1, 1, 1, 1, 1, 2, 1, 0, 0, 0, 1, 0, 3, 0, 2, 3, 0, 1, 1, 1, 3, 3, 1, 0, 2, 2, 0, 3, 0, 1, 0, 1, 1, 2, 1, 2, 0, 1, 1, 2, 0, 2, 0, 1, 2, 1, 0, 2, 2, 2, 0, 0, 1, 0, 2, 2, 1, 0, 0, 2, 0, 3, 3, 2, 2, 0, 1, 0, 1, 1, 3, 0, 2, 0, 2, 1, 3, 3, 3, 2, 1, 1, 3, 0, 3, 0, 2, 3, 1, 0, 3, 0, 1, 3, 0, 3, 1, 3, 0, 0, 0, 2, 1, 2, 2, 1, 3, 1, 3, 2, 0, 3, 2, 2, 3, 0, 2, 1, 0, 1, 3, 2, 3, 1, 1, 2, 1, 1, 1, 2, 1, 0, 2, 3, 1, 1, 3, 2, 3, 3, 1, 1, 0, 0, 1, 2, 1, 3, 0, 2, 1, 0, 2, 2, 0, 0, 0, 2, 3, 2, 2, 1, 2, 0, 0, 2, 1, 2, 2, 1, 1, 1, 1, 0, 0, 2, 0, 0, 2, 2, 2, 0, 3, 3, 2, 0, 1, 3, 1, 0, 2, 1, 2, 0, 1, 1, 0, 3, 1, 1, 3, 3, 1, 0, 2, 1, 2, 2, 2, 2, 3, 2, 1, 3, 2, 3, 0, 2, 0, 1, 3, 3, 2, 0, 2, 2, 1, 1, 3, 3, 0, 0, 1, 1, 1, 0, 1, 2, 3, 0, 1, 1, 1, 3, 2, 1, 3, 0, 1, 1, 2, 2, 0, 3, 1, 1, 0, 2, 2, 1, 0, 2, 1, 2, 2, 1, 0, 0, 1, 1, 1, 1, 3, 1, 3, 3, 3, 1, 2, 0, 2, 0, 3, 2, 1, 0, 1, 2, 3, 3, 0, 2, 1, 1, 2, 3, 1, 3, 1, 1, 0, 1, 0, 1, 1, 3, 0, 2, 2, 0, 1, 1, 0, 2, 1, 2, 2, 0, 3, 2, 2, 1, 1, 1, 2, 3, 0, 2, 0, 2, 3, 2, 1, 1, 1, 2, 0, 2, 3, 1, 0, 0, 2, 3, 3, 0, 1, 0, 1, 2, 2, 3, 0, 3, 1, 0, 2, 2, 1, 0, 0, 0, 2, 2, 1, 1, 3, 2, 1, 2, 0, 0, 3, 3, 2, 2, 2, 2, 1, 3, 0, 1, 1, 1, 0, 2, 1, 1, 1, 1, 0, 2, 1, 1, 0, 1, 3, 1, 2, 1, 0, 0, 3, 1, 0, 1, 2, 0, 1, 1, 0, 0, 2, 2, 1, 2, 2, 3, 1, 1, 2, 2, 3, 1, 2, 3, 3, 3, 1, 0, 0, 0, 1, 1, 1, 2, 1, 3, 2, 0, 0, 1, 3, 0, 0, 0, 3, 0, 1, 2, 0, 3, 1, 1, 1, 2, 3, 0, 2, 0, 2, 1, 3, 1, 2, 2, 1, 1, 0, 2, 1, 3, 1, 0, 0, 0, 1, 0, 0, 1, 1, 1, 2, 3, 1, 0, 1, 3, 1, 1, 0, 1, 1, 0, 3, 2, 2, 0, 1, 0, 2, 1, 0, 2, 2, 2, 3, 2, 3, 1, 1, 1, 1, 2, 1, 0, 0, 1, 1, 0, 3, 3, 1, 1, 0, 3, 2, 0, 2, 0, 0, 1, 1, 2, 0, 0, 0, 3, 1, 1, 2, 0, 1, 0, 3, 0, 3, 3, 2, 3, 1, 0, 3, 1, 3, 0, 2, 2, 2, 1, 3, 0, 1, 0, 3, 1, 3, 0, 3, 0, 2, 3, 1, 0, 1, 2, 3, 1, 3, 1, 0, 1, 3, 0, 0, 3, 0, 1, 1, 2, 1, 3, 0, 0, 2, 0, 2, 0, 0, 1, 2, 0, 0, 2, 0, 1, 3, 2, 3, 3, 3, 0, 3, 1, 1, 0, 2, 1, 2, 2, 1, 1, 1, 1, 1, 1, 2, 1, 0, 0, 0, 0, 2, 0, 3, 0, 3, 2, 2, 0, 2, 3, 1, 3, 2, 1, 3, 2, 1, 1, 2, 2, 2, 1, 3, 1, 0, 1, 2, 1, 2, 0, 2, 3, 1, 0, 1, 3, 2, 1, 1, 2, 2, 3, 1, 3, 1, 2, 3, 1, 1, 3, 2, 3, 2, 1, 3, 2, 1, 1, 3, 2, 3, 3, 1, 0, 1, 2, 2, 2, 2, 3, 0, 2, 1, 3, 1, 1, 2, 2, 2, 0, 0, 1, 1, 1, 1, 2, 0, 1, 3, 1, 3, 1, 3, 2, 0, 1, 2, 3, 3, 2, 1, 1, 2, 3, 1, 2, 0, 0, 2, 0, 3, 0, 3, 1, 1, 2, 0, 1, 2, 0, 0, 3, 3, 1, 2, 0, 1, 2, 2, 1, 1, 0, 1, 1, 0, 2, 3, 0, 3, 1, 2, 2, 1, 2, 0, 2, 0, 0, 1, 1, 2, 2, 1, 3, 2, 3, 1, 1, 3, 0, 1, 2, 1, 1, 1, 3, 1, 0, 3, 3, 2, 1, 2, 2, 1, 3, 3, 1, 2, 0, 1, 3, 0, 1, 1, 1, 2, 2, 1, 3, 1, 1, 3, 0, 3, 2, 2, 3, 3, 0, 1, 0, 1, 1, 1, 3, 2, 3, 3, 0, 3, 1, 0, 1, 0, 2, 1, 2, 1, 1, 0, 2, 1, 3, 3, 0, 3, 2, 1, 1, 1, 2, 3, 3, 2, 1, 2, 2, 1, 2, 1, 1, 0, 2, 2, 0, 1, 2, 1, 0, 3, 0, 1, 0, 3, 1, 1, 2, 0, 3, 0, 1, 3, 2, 0, 0, 0, 0, 1, 0, 0, 0, 0, 0, 1, 2, 3, 2, 2, 2, 2, 1, 2, 2, 1, 3, 3, 3, 2, 1, 2, 2, 0, 0, 2, 0, 0, 0, 2, 1, 3, 1, 2, 1, 0, 1, 2, 3, 1, 2, 2, 1, 0, 3, 0, 2, 0, 1, 0, 0, 2, 0, 0, 0, 2, 3, 1, 2, 2, 1, 0, 2, 1, 2, 0, 2, 1, 3, 0, 0, 0, 2, 2, 0, 0, 0, 3, 3, 3, 1, 2, 3, 0, 1, 2, 2, 1, 2, 0, 1, 3, 3, 0, 2, 2, 0, 2, 0, 3, 0, 0, 0, 2, 2, 2, 1, 0, 0, 1, 0, 1, 1, 2, 2, 2, 0, 1, 3, 3, 1, 1, 1, 2, 1, 3, 1, 1, 0, 3, 1, 1, 1, 3, 0, 1, 0, 2, 2, 2, 0, 0, 2, 1, 2, 3, 2, 0, 2, 1, 0, 1, 1, 1, 2, 0, 3, 3, 1, 0, 3, 0, 0, 0, 2, 2, 1, 2, 3, 0, 2, 2, 0, 2, 1, 3, 2, 0, 0, 1, 1, 0, 2, 0, 2, 0, 1, 2, 1, 1, 2, 2, 2, 1, 1, 0, 1, 0, 2, 3, 0, 3, 0, 1, 2, 1, 3, 1, 0, 2, 2, 1, 2, 2, 0, 1, 1, 3, 1, 1, 0, 0, 3, 0, 3, 1, 3, 0, 1, 1, 0, 1, 3, 1, 2, 1, 1, 2, 3, 3, 0, 3, 0, 1, 2, 3, 1, 2, 1, 1, 3, 1, 3, 0, 0, 0, 2, 2, 2, 0, 3, 2, 0, 0, 3, 2, 2, 1, 2, 2, 1, 2, 3, 1, 1, 1, 0, 0, 2, 2, 3, 2, 1, 2, 0, 0, 3, 0, 1, 3, 0, 2, 0, 1, 0, 0, 2, 3, 0, 3, 3, 1, 3, 0, 2, 0, 1, 2, 2, 1, 2, 2, 0, 1, 1, 2, 1, 0, 3, 2, 0, 0, 0, 1, 2, 0, 2, 0, 3, 2, 1, 3, 3, 0, 3, 2, 1, 1, 2, 2, 3, 3, 0, 1, 1, 1, 2, 1, 0, 1, 0, 0, 2, 3, 0, 3, 1, 0, 0, 0, 0, 3, 3, 1, 1, 3, 1, 1, 2, 1, 3, 2, 1, 2, 0, 1, 1, 2, 3, 1, 0, 2, 2, 2, 3, 2, 0, 3, 0, 1, 1, 0, 1, 0, 1, 0, 1, 1, 3, 0, 2, 0, 1, 0, 1, 1, 2, 1, 1, 1, 0, 1, 0, 3, 2, 2, 3, 1, 0, 3, 1, 1, 0, 1, 1, 1, 3, 2, 2, 1, 3, 0, 3, 2, 3, 0, 2, 1, 2, 3, 0, 2, 0, 0, 1, 1, 0, 0, 1, 1, 1, 1, 1, 2, 2, 3, 3, 0, 1, 1, 0, 1, 3, 0, 1, 3, 3, 0, 0, 1, 0, 2, 0, 2, 1, 2, 1, 1, 0, 1, 3, 3, 3, 2, 0, 3, 1, 1, 2, 1, 0, 3, 2, 2, 1, 2, 1, 3, 1, 0, 2, 0, 3, 2, 1, 2, 2, 1, 1, 1, 1, 2, 1, 2, 2, 2, 2, 0, 3, 3, 0, 1, 0, 1, 3, 1, 3, 2, 3, 0, 0, 1, 1, 0, 2, 2, 2, 3, 2, 3, 1, 1, 3, 0, 2, 1, 0, 3, 0, 1, 0, 2, 1, 1, 2, 0, 1, 1, 2, 2, 3, 1, 2, 3, 2, 2, 1, 3, 2, 1, 1, 1, 0, 1, 3, 3, 1, 2, 2, 0, 0, 2, 0, 1, 3, 3, 1, 1, 1, 2, 3, 3, 0, 2, 2, 2, 1, 0, 3, 1, 1, 1, 1, 0, 0, 1, 1, 1, 2, 2, 0, 2, 0, 2, 2, 2, 1, 0, 1, 0, 2, 2, 0, 3, 0, 2, 3, 1, 0, 2, 2, 1, 2, 0, 3, 2, 3, 2, 1, 3, 1, 0, 2, 3, 0, 1, 0, 3, 3, 3, 3, 3, 2, 1, 2, 1, 2, 3, 2, 0, 1, 1, 0, 2, 0, 3, 0, 2, 2, 2, 2, 3, 1, 1, 1, 2, 3, 1, 2, 2, 0, 2, 0, 1, 0, 2, 3, 3, 0, 1, 2, 1, 1, 1, 1, 1, 3, 0, 2, 1, 1, 1, 0, 3, 0, 0, 0, 0, 2, 3, 2, 0, 2, 1, 3, 1, 2, 2, 3, 2, 0, 1, 0, 1, 0, 1, 3, 2, 1, 0, 1, 0, 1, 0, 2, 2, 1, 0, 1, 1, 0, 2, 1, 3, 3, 0, 2, 0, 1, 2, 3, 3, 2, 0, 1, 0, 1, 1, 1, 0, 2, 1, 3, 1, 3, 1, 2, 1, 3, 0, 0, 1, 3, 3, 3, 1, 0, 0, 0, 0, 1, 2, 0, 1, 3, 0, 2, 0, 0, 1, 1, 0, 1, 1, 0, 2, 2, 0, 1, 0, 1, 1, 1, 3, 1, 0, 1, 1, 3, 3, 1, 1, 2, 3, 1, 2, 3, 2, 2, 2, 1, 3, 3, 1, 0, 1, 1, 3, 2, 1, 0, 0, 3, 2, 2, 1, 3, 1, 2, 0, 2, 1, 1, 0, 0, 1, 1, 1, 2, 2, 2, 2, 2, 0, 2, 3, 2, 2, 3, 1, 0, 3, 2, 1, 0, 1, 2, 1, 2, 3, 3, 1, 1, 2, 1, 0, 1, 3, 2, 2, 1, 3, 0, 1, 1, 0, 2, 2, 1, 3, 3, 0, 1, 3, 2, 0, 3, 1, 3, 0, 2, 0, 1, 1, 3, 2, 3, 1, 1, 1, 1, 3, 1, 1, 3, 0, 3, 0, 0, 1, 3, 2, 1, 3, 0, 0, 2, 3, 2, 0, 1, 0, 1, 1, 1, 1, 0, 1, 0, 3, 1, 0, 2, 1, 1, 0, 0, 1, 3, 1, 3, 1, 2, 0, 1, 0, 0, 2, 3, 1, 1, 1, 2, 2, 3, 0, 1, 1, 3, 0, 0, 2, 1, 3, 0, 1, 1, 3, 1, 2, 2, 1, 0, 1, 2, 3, 0, 1, 0, 3, 0, 1, 1, 0, 0, 1, 0, 2, 2, 1, 0, 1, 1, 2, 0, 2, 2, 1, 0, 1, 1, 3, 0, 0, 1, 1, 0, 0, 3, 2, 1, 1, 1, 1, 1, 0, 0, 1, 1, 1, 2, 0, 3, 2, 2, 0, 2, 0, 1, 1, 0, 1, 0, 3, 1, 2, 3, 1, 1, 3, 2, 3, 1, 2, 0, 2, 0, 0, 1, 1, 1, 2, 1, 0, 1, 1, 3, 1, 3, 2, 2, 1, 2, 0, 2, 0, 1, 1, 0, 3, 0, 2, 2, 1, 0, 2, 3, 2, 3, 0, 3, 1, 1, 1, 2, 2, 0, 1, 1, 2, 1, 3, 1, 0, 0, 1, 2, 3, 3, 1, 1, 1, 2, 3, 0, 2, 0, 3, 2, 0, 3, 0, 0, 1, 0, 1, 0, 2, 1, 3, 2, 1, 1, 1, 1, 1, 3, 2, 0, 0, 3, 1, 1, 2, 0, 3, 1, 0, 1, 1, 3, 3, 3, 1, 3, 2, 0, 1, 2, 3, 0, 1, 2, 3, 0, 0, 3, 2, 0, 2, 2, 0, 0, 2, 2, 3, 0, 1, 1, 1, 0, 2, 0, 0, 0, 0, 1, 2, 1, 0, 1, 1, 0, 1, 1, 3, 1, 3, 0, 3, 2, 0, 2, 1, 1, 2, 1, 1, 2, 0, 3, 3, 0, 2, 1, 0, 3, 2, 0, 1, 2, 0, 0, 1, 2, 3, 1, 1, 2, 2, 0, 2, 2, 0, 0, 1, 1, 0, 3, 0, 3, 2, 2, 2, 2, 1, 2, 0, 2, 1, 1, 3, 0, 2, 1, 1, 0, 1, 1, 2, 1, 3, 3, 0, 0, 2, 1, 3, 1, 1, 2, 3, 1, 2, 3, 3, 3, 0, 0, 1, 1, 0, 2, 1, 1, 0, 2, 2, 3, 2, 0, 1, 2, 1, 0, 0, 3, 3, 2, 0, 2, 0, 3, 0, 2, 1, 2, 1, 2, 2, 1, 2, 2, 1, 0, 0, 2, 0, 3, 1, 2, 3, 0, 0, 2, 2, 3, 1, 2, 0, 0, 2, 1, 1, 3, 1, 0, 1, 1, 0, 1, 0, 0, 0, 2, 0, 3, 2, 3, 1, 3, 1, 2, 3, 1, 0, 1, 1, 0, 0, 1, 0, 3, 1, 2, 0, 1, 1, 2, 0, 3, 2, 1, 2, 0, 3, 2, 0, 3, 3, 2, 1, 0, 3, 2, 2, 0, 2, 1, 0, 2, 1, 1, 2, 1, 1, 2, 2, 2, 0, 3, 0, 3, 0, 3, 0, 2, 2, 1, 2, 0, 2, 0, 1, 3, 3, 1, 1, 0, 1, 1, 1, 2, 0, 0, 3, 3, 2, 1, 3, 1, 3, 0, 1, 1, 1, 3, 3, 1, 0, 0, 1, 3, 3, 0, 2, 2, 1, 2, 1, 3, 2, 1, 0, 3, 2, 0, 2, 3, 2, 1, 2, 0, 0, 1, 0, 2, 1, 1, 3, 0, 1, 0, 1, 2, 3, 0, 1, 1, 0, 1, 2, 1, 3, 0, 1, 3, 2, 1, 1, 2, 0, 0, 1, 0, 2, 2, 0, 2, 1, 0, 3, 1, 2, 2, 2, 3, 3, 0, 1, 0, 2, 1, 1, 0, 2, 0, 0, 1, 2, 2, 0, 1, 0, 3, 1, 0, 3, 0, 2, 3, 3, 0, 1, 0, 2, 2, 2, 3, 3, 3, 2, 1, 2, 2, 1, 2, 1, 2, 2, 2, 2, 0, 0, 1, 1, 3, 0, 2, 2, 3, 0, 1, 1, 0, 1, 0, 3, 3, 2, 0, 2, 1, 1, 3, 0, 2, 1, 0, 2, 1, 2, 0, 2, 3, 2, 1, 3, 2, 2, 1, 2, 2, 1, 0, 0, 1, 3, 1, 2, 1, 2, 3, 1, 1, 2, 0, 2, 0, 3, 0, 3, 2, 1, 2, 0, 2, 1, 2, 2, 0, 1, 2, 3, 3, 3, 0, 3, 1, 2, 1, 2, 3, 1, 1, 2, 3, 2, 0, 0, 1, 2, 0, 0, 0, 0, 1, 1, 1, 1, 3, 2, 2, 0, 1, 3, 1, 1, 2, 3, 1, 0, 0, 3, 0, 0, 1, 2, 2, 3, 2, 1, 3, 0, 0, 3, 3, 1, 1, 1, 0, 3, 2, 3, 2, 1, 1, 1, 0, 0, 3, 3, 1, 0, 0, 0, 1, 3, 2, 1, 2, 2, 1, 2, 2, 0, 0, 0, 2, 2, 1, 1, 0, 1, 0, 3, 0, 1, 2, 1, 2, 2, 2, 1, 0, 1, 1, 3, 2, 2, 0, 2, 0, 3, 2, 1, 1, 0, 1, 1, 1, 2, 1, 2, 1, 2, 1, 0, 0, 3, 2, 1, 3, 3, 0, 1, 3, 2, 1, 1, 0, 0, 3, 2, 1, 2, 2, 2, 2, 1, 2, 2, 1, 3, 0, 1, 0, 1, 2, 0, 0, 2, 1, 3, 0, 3, 1, 2, 1, 2, 1, 2, 1, 1, 1, 3, 3, 1, 3, 2, 2, 1, 1, 0, 1, 3, 3, 3, 1, 0, 2, 1, 3, 0, 0, 0, 1, 3, 1, 0, 1, 3, 0, 0, 3, 3, 3, 3, 1, 1, 0, 0, 2, 2, 1, 1, 0, 3, 1, 0, 3, 3, 2, 1, 1, 1, 1, 3, 0, 0, 2, 1, 3, 1, 1, 1, 0, 3, 3, 2, 1, 1, 0, 1, 2, 0, 0, 2, 1, 3, 1, 0, 3, 3, 3, 1, 2, 2, 2, 0, 2, 1, 2, 2, 0, 2, 2, 1, 0, 2, 1, 3, 3, 3, 1, 1, 1, 3, 0, 2, 0, 2, 1, 1, 3, 1, 3, 2, 2, 1, 2, 2, 1, 0, 3, 0, 2, 2, 2, 3, 0, 3, 1, 3, 2, 0, 2, 2, 2, 0, 1, 1, 2, 1, 1, 2, 0, 0, 3, 1, 0, 1, 1, 0, 1, 2, 1, 1, 0, 3, 1, 0, 3, 0, 2, 3, 0, 0, 3, 2, 3, 1, 2, 3, 0, 1, 1, 1, 3, 1, 3, 2, 1, 0, 3, 2, 2, 1, 1, 3, 1, 2, 1, 1, 2, 3, 3, 2, 2, 0, 0, 0, 1, 0, 0, 2, 2, 1, 3, 1, 2, 1, 0, 1, 1, 2, 3, 0, 0, 1, 2, 2, 2, 3, 1, 2, 0, 1, 3, 1, 2, 0, 3, 0, 0, 1, 0, 3, 1, 1, 1, 0, 2, 0, 3, 0, 3, 1, 2, 2, 1, 0, 0, 3, 0, 2, 0, 1, 0, 2, 3, 1, 3, 2, 1, 2, 0, 2, 0, 1, 1, 0, 3, 1, 3, 2, 1, 1, 3, 2, 0, 3, 1, 1, 2, 0, 0, 2, 2, 1, 0, 0, 0, 2, 2, 0, 2, 0, 3, 1, 3, 1, 1, 3, 3, 1, 2, 2, 2, 3, 0, 0, 3, 2, 1, 2, 3, 1, 1, 0, 0, 1, 2, 1, 1, 3, 0, 2, 2, 3, 2, 2, 1, 2, 1, 2, 0, 1, 1, 1, 0, 3, 1, 2, 2, 2, 3, 2, 3, 2, 2, 0, 2, 2, 2, 2, 2, 2, 1, 2, 0, 1, 2, 3, 1, 1, 2, 1, 1, 0, 0, 1, 0, 2, 0, 2, 2, 0, 0, 0, 1, 1, 1, 3, 0, 1, 2, 0, 0, 0, 1, 2, 3, 2, 0, 3, 3, 1, 3, 2, 2, 1, 2, 1, 1, 0, 3, 3, 2, 1, 3, 0, 2, 2, 2, 1, 3, 2, 0, 3, 1, 3, 2, 3, 3, 0, 2, 2, 1, 2, 3, 3, 1, 1, 2, 0, 0, 2, 3, 3, 3, 0, 2, 2, 1, 1, 1, 2, 2, 1, 0, 0, 2, 1, 1, 2, 2, 2, 1, 1, 1, 2, 1, 0, 3, 1, 1, 3, 2, 2, 2, 3, 3, 0, 1, 2, 2, 0, 0, 3, 3, 0, 0, 0, 1, 0, 2, 2, 3, 3, 1, 3, 2, 1, 1, 2, 2, 2, 2, 1, 1, 3, 0, 1, 2, 1, 1, 0, 2, 1, 0, 3, 3, 1, 1, 1, 1, 3, 3, 0, 1, 1, 1, 1, 3, 3, 0, 1, 2, 2, 0, 1, 1, 1, 2, 1, 3, 3, 2, 1, 0, 2, 3, 0, 1, 1, 1, 1, 1, 3, 2, 2, 2, 2, 1, 3, 2, 1, 1, 2, 2, 2, 2, 1, 3, 1, 1, 1, 0, 2, 1, 3, 1, 3, 2, 0, 2, 0, 2, 1, 2, 3, 1, 1, 3, 1, 3, 0, 2, 3, 2, 3, 3, 2, 3, 1, 3, 1, 0, 0, 2, 3, 0, 2, 2, 1, 3, 1, 2, 1, 1, 1, 0, 3, 1, 1, 3, 2, 2, 3, 2, 1, 3, 0, 3, 2, 2, 0, 0, 3, 2, 0, 2, 2, 2, 3, 1, 1, 1, 2, 1, 1, 3, 0, 1, 3, 2, 1, 2, 3, 1, 1, 0, 1, 2, 1, 0, 0, 2, 1, 3, 2, 0, 1, 3, 1, 1, 0, 2, 1, 0, 2, 1, 3, 2, 1, 3, 0, 0, 1, 0, 0, 0, 3, 2, 2, 3, 2, 3, 0, 0, 2, 3, 2, 1, 1, 2, 1, 0, 3, 1, 1, 0, 2, 2, 0, 1, 0, 0, 2, 2, 1, 1, 3, 3, 0, 2, 2, 2, 1, 2, 2, 0, 1, 2, 0, 0, 2, 3, 0, 2, 1, 1, 2, 2, 3, 2, 1, 2, 0, 2, 2, 3, 1, 0, 0, 1, 1, 1, 1, 1, 0, 2, 2, 1, 1, 0, 3, 1, 0, 2, 0, 2, 1, 1, 0, 2, 1, 1, 2, 0, 3, 2, 1, 1, 2, 0, 3, 2, 2, 0, 0, 1, 3, 2, 1, 2, 1, 0, 1, 2, 2, 1, 2, 0, 3, 2, 1, 2, 1, 1, 1, 0, 3, 1, 0, 3, 2, 2, 1, 2, 0, 2, 0, 2, 0, 0, 1, 1, 0, 2, 0, 0, 3, 3, 2, 2, 2, 3, 3, 1, 3, 0, 0, 1, 1, 1, 1, 1, 3, 1, 1, 3, 1, 2, 2, 1, 2, 1, 1, 2, 1, 1, 0, 3, 1, 1, 3, 1, 3, 2, 0, 2, 1, 0, 0, 1, 1, 0, 0, 2, 1, 1, 2, 1, 1, 3, 0, 2, 2, 3, 0, 1, 0, 1, 2, 2, 0, 3, 0, 0, 0, 1, 1, 0, 2, 0, 0, 2, 0, 0, 2, 3, 0, 1, 1, 1, 2, 3, 3, 0, 1, 2, 2, 2, 0, 0, 1, 2, 0, 0, 0, 2, 0, 1, 0, 0, 1, 1, 1, 0, 2, 1, 0, 2, 2, 1, 2, 2, 2, 2, 0, 3, 2, 2, 3, 1, 1, 2, 3, 1, 3, 2, 0, 2, 1, 2, 0, 1, 1, 1, 3, 2, 0, 1, 0, 0, 1, 2, 0, 2, 2, 3, 2, 0, 0, 3, 3, 3, 2, 2, 3, 3, 2, 1, 0, 2, 1, 2, 3, 1, 2, 1, 1, 2, 0, 0, 3, 1, 0, 1, 3, 1, 0, 0, 0, 0, 3, 1, 1, 1, 1, 2, 0, 3, 0, 1, 1, 0, 3, 0, 2, 0, 0, 2, 2, 3, 2, 3, 1, 2, 1, 1, 1, 2, 2, 3, 2, 0, 0, 2, 3, 0, 1, 3, 1, 3, 1, 0, 3, 1, 1, 1, 2, 3, 2, 3, 2, 0, 1, 0, 2, 2, 1, 0, 3, 3, 1, 2, 3, 0, 2, 2, 2, 2, 0, 3, 0, 3, 0, 1, 0, 2, 3, 0, 1, 2, 2, 3, 0, 0, 0, 0, 2, 3, 1, 2, 2, 2, 1, 3, 1, 0, 3, 1, 3, 3, 2, 3, 2, 3, 2, 0, 0, 3, 2, 1, 0, 2, 1, 3, 0, 1, 0, 1, 3, 3, 1, 0, 2, 1, 1, 0, 0, 2, 2, 3, 0, 1, 0, 2, 2, 1, 1, 2, 2, 3, 2, 0, 3, 3, 3, 0, 3, 3, 2, 2, 1, 1, 1, 0, 0, 1, 2, 2, 1, 1, 3, 1, 1, 0, 3, 2, 2, 3, 0, 0, 1, 0, 3, 1, 1, 1, 1, 2, 3, 3, 2, 0, 3, 1, 2, 1, 1, 2, 1, 0, 2, 2, 2, 1, 3, 2, 2, 0, 2, 0, 2, 0, 0, 3, 1, 1, 0, 1, 1, 2, 3, 2, 2, 3, 3, 0, 1, 1, 1, 2, 3, 2, 3, 1, 0, 1, 1, 1, 0, 0, 2, 3, 2, 0, 2, 0, 1, 2, 3, 1, 1, 1, 3, 2, 2, 0, 2, 0, 1, 3, 2, 2, 2, 2, 0, 1, 2, 2, 0, 0, 0, 2, 0, 3, 0, 3, 1, 2, 0, 1, 0, 2, 2, 1, 1, 1, 3, 3, 0, 0, 1, 0, 1, 2, 3, 0, 1, 0, 2, 2, 0, 0, 1, 1, 2, 2, 0, 1, 2, 0, 2, 3, 0, 0, 2, 3, 3, 0, 2, 2, 3, 1, 1, 1, 3, 2, 0, 1, 0, 2, 3, 3, 1, 0, 0, 3, 2, 1, 0, 2, 3, 2, 1, 2, 3, 2, 3, 0, 2, 0, 0, 3, 0, 3, 1, 1, 1, 0, 0, 2, 1, 2, 2, 2, 0, 0, 2, 2, 0, 0, 3, 3, 3, 3, 0, 3, 1, 1, 0, 2, 0, 1, 3, 3, 1, 3, 3, 0, 0, 1, 2, 2, 2, 1, 2, 3, 2, 0, 2, 2, 1, 2, 0, 1, 1, 3, 3, 1, 1, 3, 1, 1, 3, 0, 1, 1, 1, 0, 1, 2, 0, 0, 0, 1, 1, 1, 0, 2, 1, 1, 0, 3, 1, 0, 1, 2, 3, 0, 2, 2, 2, 3, 0, 0, 0, 2, 0, 1, 3, 1, 2, 0, 0, 2, 1, 0, 3, 0, 2, 1, 0, 2, 2, 2, 2, 1, 2, 2, 3, 1, 2, 2, 1, 3, 0, 1, 1, 2, 2, 0, 0, 1, 3, 2, 3, 1, 2, 2, 1, 1, 1, 2, 3, 2, 2, 3, 0, 0, 1, 1, 0, 2, 3, 1, 1, 3, 3, 0, 2, 1, 2, 1, 1, 2, 1, 1, 1, 1, 2, 1, 2, 3, 0, 1, 3, 2, 1, 2, 2, 1, 1, 2, 0, 2, 1, 3, 1, 1, 1, 1, 0, 2, 3, 1, 3, 0, 1, 3, 0, 0, 3, 0, 1, 1, 0, 2, 1, 3, 2, 1, 1, 3, 2, 0, 0, 2, 0, 2, 1, 0, 1, 2, 2, 0, 1, 0, 3, 0, 1, 3, 0, 1, 1, 1, 0, 1, 3, 3, 0, 1, 1, 2, 0, 1, 0, 2, 2, 0, 1, 3, 1, 1, 2, 2, 1, 2, 1, 0, 0, 3, 3, 1, 1, 3, 0, 0, 1, 2, 1, 2, 1, 3, 2, 1, 1, 2, 3, 2, 0, 1, 1, 0, 0, 2, 2, 1, 2, 2, 2, 1, 3, 2, 0, 2, 1, 0, 2, 2, 1, 2, 3, 3, 2, 3, 0, 1, 1, 1, 0, 2, 1, 1, 1, 3, 1, 0, 1, 0, 1, 3, 3, 1, 0, 0, 3, 1, 2, 3, 2, 3, 0, 0, 0, 3, 3, 3, 1, 2, 2, 0, 1, 0, 2, 1, 2, 2, 3, 3, 1, 0, 0, 3, 3, 3, 0, 0, 1, 3, 1, 1, 0, 1, 2, 2, 2, 1, 3, 2, 2, 1, 3, 2, 1, 0, 3, 0, 1, 2, 3, 1, 3, 1, 2, 3, 1, 1, 3, 3, 1, 1, 1, 0, 0, 2, 0, 0, 2, 2, 0, 1, 0, 3, 1, 3, 0, 1, 1, 0, 0, 2, 3, 0, 0, 1, 0, 0, 1, 1, 1, 0, 1, 3, 3, 2, 1, 2, 2, 2, 2, 3, 3, 1, 3, 3, 0, 0, 1, 3, 0, 1, 0, 2, 1, 0, 3, 0, 0, 0, 0, 0, 0, 0, 3, 1, 2, 1, 1, 1, 1, 0, 2, 0, 1, 2, 3, 1, 1, 2, 2, 0, 2, 0, 1, 1, 1, 0, 2, 3, 2, 2, 0, 0, 0, 2, 0, 1, 2, 1, 2, 0, 0, 3, 3, 0, 0, 2, 3, 0, 1, 2, 3, 3, 2, 2, 2, 1, 3, 2, 3, 3, 2, 3, 2, 1, 2, 1, 1, 2, 1, 0, 3, 3, 1, 2, 2, 2, 0, 1, 3, 3, 3, 0, 2, 1, 3, 1, 1, 2, 2, 0, 0, 3, 3, 1, 1, 2, 1, 1, 0, 0, 1, 0, 1, 1, 2, 3, 1, 0, 0, 0, 1, 1, 1, 0, 2, 2, 2, 1, 3, 0, 3, 1, 2, 3, 2, 0, 1, 3, 0, 2, 0, 1, 1, 2, 1, 0, 1, 0, 1, 2, 0, 2, 3, 1, 1, 0, 2, 3, 3, 0, 0, 2, 2, 0, 2, 3, 3, 2, 1, 0, 1, 1, 2, 0, 1, 1, 2, 1, 1, 3, 2, 1, 0, 2, 0, 1, 2, 0, 3, 0, 1, 1, 0, 2, 1, 0, 1, 3, 2, 2, 1, 3, 1, 0, 2, 2, 0, 1, 2, 1, 0, 3, 0, 3, 2, 1, 1, 1, 2, 0, 3, 1, 1, 2, 2, 2, 0, 1, 0, 1, 0, 1, 1, 0, 0, 3, 2, 1, 2, 0, 1, 1, 2, 0, 2, 1, 2, 2, 0, 3, 1, 3, 1, 1, 2, 1, 1, 0, 3, 1, 0, 1, 0, 1, 2, 2, 1, 3, 0, 2, 3, 1, 3, 1, 1, 3, 3, 2, 1, 1, 0, 1, 2, 0, 0, 0, 2, 2, 2, 0, 0, 0, 1, 1, 3, 1, 3, 0, 0, 1, 2, 2, 1, 0, 3, 2, 1, 1, 1, 3, 1, 2, 2, 2, 3, 0, 1, 2, 3, 3, 2, 2, 2, 1, 3, 0, 3, 3, 2, 0, 1, 1, 2, 1, 3, 2, 3, 2, 2, 2, 3, 1, 2, 2, 3, 0, 1, 1, 3, 1, 1, 1, 3, 3, 0, 3, 3, 0, 2, 2, 2, 0, 2, 1, 3, 2, 0, 1, 0, 3, 3, 2, 1, 0, 2, 3, 3, 0, 0, 1, 1, 1, 2, 1, 3, 0, 2, 3, 1, 0, 1, 0, 1, 1, 0, 1, 3, 2, 2, 3, 0, 1, 2, 3, 0, 1, 1, 2, 2, 0, 2, 1, 2, 1, 1, 2, 2, 3, 1, 0, 1, 1, 2, 2, 0, 0, 2, 0, 3, 3, 1, 3, 0, 1, 0, 0, 3, 1, 0, 2, 1, 2, 0, 1, 0, 1, 2, 3, 2, 3, 1, 2, 2, 1, 1, 2, 3, 1, 3, 1, 2, 0, 0, 2, 2, 3, 1, 1, 2, 2, 2, 1, 1, 2, 1, 2, 0, 1, 0, 2, 3, 0, 0, 1, 3, 3, 2, 3, 3, 1, 3, 2, 0, 1, 1, 2, 2, 2, 2, 0, 1, 0, 1, 2, 2, 0, 1, 0, 1, 2, 3, 1, 0, 0, 1, 3, 1, 3, 0, 1, 1, 1, 2, 0, 0, 2, 2, 1, 2, 1, 0, 2, 1, 0, 3, 2, 1, 0, 2, 2, 0, 3, 2, 2, 2, 1, 2, 1, 1, 0, 1, 2, 3, 0, 3, 3, 2, 1, 2, 1, 2, 3, 3, 1, 2, 0, 0, 1, 1, 0, 3, 1, 2, 1, 0, 1, 0, 1, 2, 2, 1, 2, 1, 1, 2, 2, 3, 0, 0, 2, 3, 3, 3, 1, 1, 0, 0, 2, 0, 2, 1, 1, 2, 2, 1, 0, 2, 0, 2, 2, 0, 2, 2, 3, 3, 0, 3, 3, 0, 2, 3, 1, 3, 0, 0, 0, 0, 1, 1, 1, 1, 2, 2, 0, 3, 0, 1, 3, 1, 0, 2, 3, 0, 0, 2, 1, 3, 2, 0, 1, 2, 3, 1, 1, 0, 1, 1, 3, 0, 3, 1, 3, 1, 1, 1, 1, 1, 2, 2, 2, 1, 2, 0, 0, 2, 3, 3, 1, 3, 3, 0, 0, 2, 1, 0, 2, 3, 3, 3, 0, 2, 3, 0, 1, 2, 0, 1, 3, 1, 0, 1, 1, 2, 2, 2, 1, 0, 2, 2, 3, 2, 0, 0, 0, 0, 2, 0, 2, 3, 2, 1, 2, 3, 0, 1, 2, 0, 0, 3, 3, 0, 2, 0, 1, 1, 0, 3, 0, 0, 0, 2, 2, 3, 1, 3, 2, 2, 0, 1, 2, 2, 0, 1, 0, 3, 3, 1, 2, 2, 1, 0, 1, 0, 0, 2, 2, 1, 0, 1, 2, 0, 2, 0, 3, 1, 1, 2, 3, 0, 2, 3, 1, 1, 1, 3, 3, 3, 1, 1, 2, 2, 2, 1, 1, 2, 3, 1, 1, 2, 2, 1, 3, 1, 1, 1, 3, 3, 2, 1, 3, 3, 0, 2, 2, 3, 0, 0, 1, 3, 2, 0, 2, 2, 2, 0, 0, 1, 3, 0, 2, 0, 1, 1, 2, 1, 2, 3, 3, 1, 3, 1, 0, 2, 0, 1, 0, 2, 0, 1, 2, 2, 1, 1, 1, 2, 3, 0, 3, 3, 0, 0, 1, 0, 2, 2, 3, 0, 1, 3, 2, 0, 1, 2, 1, 2, 2, 2, 2, 1, 3, 2, 2, 1, 3, 1, 1, 0, 2, 2, 1, 1, 1, 0, 1, 3, 2, 2, 1, 1, 0, 2, 1, 1, 0, 3, 2, 1, 3, 0, 1, 3, 1, 2, 2, 1, 1, 2, 2, 1, 0, 3, 3, 0, 2, 2, 1, 1, 2, 0, 1, 1, 1, 2, 2, 0, 3, 2, 3, 3, 0, 1, 2, 3, 0, 0, 0, 0, 3, 3, 3, 0, 0, 1, 1, 1, 3, 3, 2, 1, 3, 3, 1, 3, 1, 0, 0, 1, 3, 2, 1, 1, 0, 1, 0, 0, 0, 1, 0, 3, 1, 3, 1, 3, 2, 2, 1, 2, 3, 3, 1, 2, 0, 1, 2, 0, 1, 2, 1, 1, 0, 3, 2, 2, 0, 0, 1, 1, 0, 0, 0, 2, 1, 1, 3, 0, 3, 0, 2, 0, 3, 2, 2, 1, 1, 1, 1, 3, 1, 2, 0, 2, 1, 0, 2, 2, 2, 2, 0, 0, 1, 2, 0, 0, 2, 2, 0, 3, 2, 0, 1, 3, 0, 2, 2, 0, 3, 0, 0, 3, 1, 1, 3, 0, 2, 2, 1, 3, 2, 3, 1, 2, 2, 0, 0, 1, 1, 0, 3, 1, 1, 2, 3, 3, 3, 2, 0, 1, 2, 1, 1, 2, 1, 1, 3, 1, 0, 2, 1, 0, 3, 1, 0, 0, 1, 2, 2, 0, 3, 1, 2, 0, 2, 1, 2, 1, 3, 3, 2, 3, 3, 0, 2, 3, 1, 0, 3, 2, 0, 3, 0, 3, 1, 2, 3, 1, 1, 1, 2, 3, 3, 1, 2, 0, 2, 0, 2, 3, 2, 2, 1, 2, 0, 1, 3, 1, 1, 2, 1, 1, 2, 1, 1, 1, 2, 1, 1, 0, 1, 1, 3, 1, 3, 0, 2, 0, 0, 2, 3, 1, 2, 2, 3, 1, 1, 2, 0, 1, 3, 3, 3, 0, 3, 1, 0, 2, 0, 2, 1, 1, 1, 1, 2, 1, 1, 2, 3, 2, 3, 1, 0, 3, 3, 1, 2, 2, 0, 1, 2, 2, 2, 3, 2, 0, 1, 2, 1, 3, 2, 2, 2, 0, 3, 3, 0, 2, 0, 3, 3, 2, 2, 2, 1, 1, 2, 1, 0, 1, 2, 3, 2, 2, 3, 1, 2, 0, 0, 1, 1, 1, 0, 2, 1, 0, 2, 1, 1, 2, 2, 0, 1, 0, 1, 1, 2, 0, 2, 0, 2, 1, 3, 3, 1, 3, 3, 2, 3, 0, 2, 2, 1, 2, 2, 2, 2, 2, 3, 0, 3, 0, 2, 1, 2, 0, 2, 3, 0, 1, 3, 2, 2, 0, 2, 3, 1, 0, 0, 2, 3, 2, 0, 0, 3, 1, 1, 1, 3, 3, 2, 2, 0, 1, 0, 1, 3, 1, 1, 1, 1, 1, 1, 0, 1, 3, 2, 3, 0, 3, 0, 0, 0, 2, 1, 1, 1, 0, 1, 1, 3, 2, 0, 0, 1, 0, 1, 0, 3, 3, 0, 3, 3, 3, 3, 1, 3, 0, 2, 0, 1, 0, 1, 3, 1, 3, 1, 2, 1, 2, 3, 3, 1, 3, 0, 0, 3, 3, 0, 0, 0, 0, 2, 1, 3, 3, 3, 0, 3, 3, 0, 3, 3, 0, 1, 1, 2, 0, 0, 1, 1, 3, 0, 2, 0, 2, 0, 1, 1, 2, 0, 0, 1, 1, 2, 2, 1, 1, 0, 1, 1, 2, 0, 2, 3, 0, 1, 0, 3, 3, 0, 2, 3, 0, 0, 0, 3, 2, 0, 1, 3, 3, 1, 2, 3, 1, 3, 2, 1, 1, 1, 0, 2, 0, 1, 3, 0, 1, 0, 1, 1, 3, 1, 2, 1, 2, 1, 2, 2, 0, 1, 1, 3, 1, 1, 0, 3, 3, 1, 2, 1, 0, 1, 0, 0, 0, 1, 1, 1, 0, 2, 3, 2, 1, 3, 1, 3, 1, 1, 2, 1, 1, 2, 3, 1, 3, 2, 0, 3, 1, 3, 2, 1, 0, 3, 0, 1, 2, 2, 0, 3, 0, 1, 2, 2, 0, 0, 1, 3, 0, 0, 3, 3, 0, 0, 2, 2, 0, 0, 3, 3, 1, 0, 0, 2, 0, 0, 1, 2, 1, 1, 2, 0, 0, 1, 2, 2, 0, 0, 1, 2, 0, 2, 3, 1, 1, 3, 1, 1, 3, 3, 1, 0, 1, 0, 1, 0, 0, 3, 0, 2, 1, 2, 0, 1, 0, 3, 2, 1, 0, 1, 0, 3, 1, 1, 0, 0, 2, 2, 2, 2, 0, 2, 1, 0, 2, 0, 0, 1, 0, 0, 0, 2, 0, 0, 1, 2, 3, 2, 1, 2, 1, 0, 3, 0, 3, 1, 0, 3, 1, 2, 3, 0, 1, 2, 2, 1, 0, 2, 2, 1, 0, 2, 3, 1, 2, 1, 0, 3, 3, 3, 0, 1, 1, 0, 0, 2, 0, 3, 3, 2, 1, 3, 2, 1, 0, 1, 3, 2, 0, 1, 0, 1, 1, 0, 1, 3, 0, 0, 3, 0, 2, 0, 2, 3, 1, 2, 2, 3, 1, 1, 2, 2, 1, 0, 2, 0, 0, 2, 1, 1, 1, 2, 2, 3, 3, 2, 0, 1, 3, 1, 2, 2, 3, 2, 2, 0, 1, 3, 0, 1, 0, 3, 1, 1, 1, 1, 2, 1, 3, 2, 2, 1, 1, 1, 2, 2, 1, 1, 0, 0, 1, 3, 0, 1, 2, 1, 0, 3, 1, 0, 2, 0, 1, 0, 2, 1, 1, 0, 1, 2, 1, 1, 2, 1, 2, 1, 3, 3, 0, 1, 1, 2, 0, 0, 0, 2, 3, 1, 2, 2, 3, 1, 1, 1, 1, 0, 3, 2, 0, 2, 3, 3, 3, 1, 0, 0, 0, 1, 3, 1, 0, 1, 1, 2, 0, 3, 0, 3, 0, 1, 3, 3, 1, 1, 1, 0, 1, 3, 3, 2, 1, 2, 1, 3, 2, 1, 1, 2, 1, 1, 0, 1, 0, 1, 0, 1, 0, 0, 0, 2, 2, 2, 3, 1, 1, 1, 3, 1, 1, 0, 3, 1, 0, 3, 2, 0, 1, 1, 1, 3, 1, 2, 2, 3, 0, 1, 0, 1, 3, 1, 1, 3, 2, 3, 1, 3, 2, 0, 1, 1, 3, 1, 1, 3, 0, 3, 2, 3, 2, 3, 1, 3, 0, 1, 0, 2, 2, 2, 0, 1, 0, 2, 0, 2, 2, 1, 0, 3, 1, 3, 1, 3, 0, 1, 1, 2, 0, 2, 2, 2, 1, 3, 2, 1, 1, 0, 0, 1, 2, 3, 0, 0, 0, 1, 1, 0, 3, 3, 2, 3, 3, 2, 1, 1, 0, 2, 0, 2, 2, 0, 3, 1, 1, 1, 2, 1, 1, 2, 0, 1, 3, 0, 1, 0, 1, 2, 0, 1, 1, 1, 1, 1, 2, 2, 3, 1, 1, 1, 3, 0, 0, 2, 2, 0, 0, 2, 1, 1, 0, 3, 1, 3, 2, 3, 2, 2, 1, 1, 2, 3, 0, 0, 2, 3, 1, 3, 3, 1, 1, 1, 3, 1, 0, 2, 3, 2, 2, 3, 0, 2, 1, 0, 1, 3, 1, 2, 1, 1, 1, 2, 2, 3, 1, 0, 1, 1, 0, 2, 2, 1, 1, 3, 1, 1, 0, 3, 0, 1, 0, 2, 0, 2, 2, 2, 1, 0, 1, 0, 3, 0, 0, 1, 1, 1, 1, 1, 1, 1, 0, 0, 1, 1, 2, 1, 1, 1, 1, 3, 2, 2, 3, 1, 1, 2, 2, 0, 3, 1, 0, 0, 1, 3, 2, 2, 0, 1, 1, 0, 0, 0, 1, 0, 1, 3, 0, 3, 2, 3, 1, 0, 3, 2, 1, 2, 0, 1, 0, 0, 1, 1, 0, 1, 3, 1, 3, 2, 3, 3, 2, 1, 1, 0, 2, 0, 2, 1, 3, 1, 2, 2, 0, 0, 0, 0, 2, 1, 1, 2, 2, 0, 0, 0, 2, 0, 2, 0, 1, 1, 2, 1, 0, 1, 2, 3, 1, 3, 0, 1, 0, 0, 1, 1, 2, 2, 2, 2, 0, 0, 0, 3, 2, 1, 2, 0, 2, 0, 0, 2, 2, 0, 1, 0, 3, 0, 2, 2, 0, 1, 0, 1, 2, 2, 3, 0, 0, 2, 0, 0, 3, 1, 2, 3, 1, 1, 0, 2, 3, 1, 0, 1, 1, 1, 0, 3, 0, 1, 2, 3, 0, 0, 2, 3, 1, 1, 1, 2, 1, 1, 2, 1, 0, 3, 0, 1, 2, 1, 2, 1, 2, 2, 3, 1, 2, 1, 2, 3, 1, 1, 1, 3, 3, 1, 0, 2, 2, 0, 1, 0, 0, 2, 3, 2, 1, 2, 1, 3, 2, 3, 0, 0, 2, 0, 1, 0, 1, 1, 1, 0, 3, 2, 2, 1, 3, 3, 1, 3, 0, 1, 0, 0, 2, 1, 3, 0, 0, 0, 0, 1, 3, 1, 3, 1, 0, 0, 2, 1, 1, 1, 3, 2, 1, 3, 2, 0, 0, 3, 1, 1, 3, 1, 1, 1, 3, 3, 2, 1, 2, 0, 2, 3, 1, 1, 3, 3, 3, 0, 2, 0, 2, 2, 0, 0, 1, 2, 1, 1, 1, 1, 0, 0, 3, 0, 0, 1, 2, 2, 2, 2, 0, 0, 0, 1, 1, 3, 2, 1, 1, 0, 0, 1, 0, 0, 1, 2, 0, 1, 0, 0, 2, 2, 2, 3, 1, 1, 1, 0, 1, 1, 3, 0, 1, 0, 1, 3, 3, 1, 2, 2, 3, 1, 2, 0, 0, 0, 3, 2, 1, 3, 3, 1, 1, 0, 1, 1, 1, 2, 1, 1, 1, 3, 3, 1, 2, 2, 2, 1, 1, 3, 2, 2, 1, 0, 2, 2, 3, 2, 2, 0, 1, 0, 3, 1, 1, 3, 3, 0, 0, 2, 0, 0, 2, 1, 2, 2, 1, 0, 2, 3, 2, 1, 3, 3, 2, 0, 1, 0, 3, 2, 0, 2, 0, 1, 2, 3, 1, 1, 3, 2, 1, 0, 2, 0, 0, 3, 1, 2, 3, 2, 3, 1, 0, 1, 2, 0, 0, 2, 1, 0, 3, 0, 1, 1, 2, 2, 1, 2, 3, 2, 3, 1, 0, 3, 1, 2, 0, 2, 2, 1, 2, 1, 2, 0, 2, 1, 1, 3, 0, 1, 2, 3, 3, 2, 1, 3, 3, 0, 0, 3, 0, 2, 2, 2, 2, 2, 0, 2, 1, 2, 3, 3, 2, 2, 0, 1, 2, 2, 1, 1, 2, 3, 0, 2, 2, 1, 1, 1, 1, 0, 0, 3, 2, 3, 1, 2, 0, 2, 1, 3, 0, 2, 2, 1, 0, 0, 1, 0, 0, 3, 2, 2, 1, 0, 2, 0, 3, 0, 2, 0, 2, 0, 1, 2, 0, 3, 2, 3, 3, 0, 1, 1, 2, 1, 0, 2, 2, 1, 0, 1, 1, 0, 0, 2, 0, 0, 1, 2, 2, 0, 2, 2, 0, 0, 0, 1, 2, 1, 0, 3, 2, 1, 3, 1, 0, 2, 1, 1, 2, 1, 2, 2, 3, 2, 0, 1, 2, 0, 0, 1, 2, 1, 1, 2, 2, 2, 2, 0, 1, 3, 0, 0, 2, 0, 0, 1, 3, 2, 3, 1, 2, 3, 3, 1, 2, 1, 2, 2, 0, 1, 1, 2, 3, 1, 0, 3, 2, 2, 2, 3, 1, 1, 0, 1, 2, 0, 3, 1, 3, 2, 3, 3, 0, 2, 0, 2, 2, 3, 3, 2, 0, 0, 3, 3, 2, 3, 2, 3, 2, 1, 3, 2, 3, 3, 1, 3, 0, 1, 2, 1, 0, 1, 2, 0, 3, 0, 0, 3, 1, 1, 1, 1, 2, 3, 0, 3, 2, 1, 1, 1, 0, 3, 2, 3, 1, 1, 2, 2, 1, 2, 2, 1, 2, 3, 2, 0, 0, 3, 2, 1, 3, 0, 0, 0, 1, 2, 3, 2, 1, 0, 2, 0, 0, 0, 2, 2, 2, 2, 1, 2, 0, 1, 3, 0, 3, 1, 2, 1, 0, 2, 2, 0, 0, 1, 3, 2, 0, 3, 3, 2, 3, 3, 1, 2, 3, 1, 3, 3, 1, 3, 1, 2, 1, 0, 0, 1, 2, 1, 0, 0, 0, 0, 1, 1, 1, 0, 1, 1, 3, 2, 0, 0, 0, 2, 2, 0, 1, 1, 1, 2, 1, 0, 1, 2, 3, 3, 3, 2, 2, 0, 2, 3, 1, 1, 2, 0, 2, 3, 2, 0, 2, 2, 1, 2, 1, 1, 1, 0, 3, 1, 1, 0, 3, 1, 0, 2, 3, 0, 1, 0, 2, 2, 1, 0, 1, 2, 0, 1, 3, 1, 0, 1, 0, 3, 1, 1, 1, 1, 1, 0, 0, 0, 3, 0, 0, 1, 0, 2, 1, 3, 2, 0, 1, 3, 2, 2, 0, 3, 1, 0, 1, 2, 2, 2, 1, 1, 3, 3, 3, 3, 1, 3, 2, 3, 3, 1, 3, 1, 2, 2, 0, 3, 1, 1, 0, 1, 0, 2, 0, 2, 1, 2, 2, 0, 0, 2, 0, 3, 1, 0, 1, 1, 3, 1, 0, 1, 3, 3, 1, 2, 3, 2, 0, 2, 3, 1, 0, 0, 1, 0, 1, 0, 2, 3, 1, 0, 1, 2, 0, 2, 3, 0, 0, 0, 3, 2, 0, 1, 0, 1, 1, 0, 3, 2, 3, 0, 3, 1, 0, 1, 1, 2, 2, 1, 0, 0, 3, 3, 2, 0, 1, 3, 1, 0, 2, 2, 1, 3, 2, 0, 3, 1, 1, 0, 0, 2, 1, 3, 2, 2, 2, 3, 1, 2, 0, 1, 3, 0, 3, 1, 3, 0, 3, 0, 0, 2, 0, 3, 0, 0, 1, 2, 3, 0, 1, 1, 0, 1, 2, 1, 1, 3, 1, 1, 0, 0, 0, 0, 1, 2, 2, 2, 1, 2, 2, 0, 3, 1, 1, 1, 2, 1, 3, 0, 0, 2, 0, 3, 2, 2, 2, 2, 0, 2, 3, 1, 1, 0, 1, 1, 1, 1, 2, 1, 2, 1, 3, 1, 0, 2, 0, 0, 3, 2, 2, 3, 0, 1, 1, 0, 0, 1, 3, 1, 2, 0, 3, 3, 2, 0, 2, 1, 1, 1, 0, 1, 3, 1, 3, 0, 0, 0, 0, 2, 1, 0, 1, 2, 1, 3, 1, 0, 1, 3, 2, 0, 3, 1, 1, 0, 2, 2, 2, 2, 3, 3, 0, 1, 3, 0, 0, 3, 2, 2, 0, 2, 1, 3, 3, 2, 3, 1, 3, 2, 2, 1, 2, 2, 3, 3, 1, 3, 0, 2, 3, 3, 1, 1, 1, 2, 0, 2, 0, 1, 0, 1, 1, 1, 2, 0, 2, 2, 1, 2, 0, 2, 0, 0, 0, 3, 1, 0, 1, 0, 2, 1, 1, 2, 2, 1, 3, 0, 2, 3, 2, 1, 1, 0, 2, 0, 3, 3, 3, 3, 0, 1, 1, 0, 1, 3, 1, 1, 3, 3, 3, 0, 2, 2, 3, 2, 3, 0, 3, 1, 1, 2, 0, 3, 2, 1, 0, 1, 3, 2, 1, 2, 3, 2, 3, 3, 3, 1, 1, 2, 1, 2, 3, 2, 2, 0, 1, 0, 1, 2, 3, 2, 2, 1, 1, 3, 2, 1, 1, 1, 1, 1, 1, 2, 1, 1, 2, 0, 1, 2, 1, 2, 3, 1, 1, 2, 1, 1, 0, 2, 3, 3, 1, 0, 1, 3, 0, 2, 1, 0, 2, 1, 1, 3, 0, 1, 1, 1, 0, 2, 0, 1, 2, 2, 2, 2, 3, 1, 3, 2, 0, 1, 2, 0, 0, 1, 3, 1, 1, 3, 0, 0, 1, 2, 2, 1, 0, 0, 3, 2, 0, 1, 2, 3, 2, 3, 0, 0, 1, 2, 0, 1, 1, 0, 0, 2, 2, 0, 1, 2, 1, 1, 1, 2, 1, 1, 2, 0, 0, 3, 2, 1, 3, 3, 1, 2, 0, 2, 1, 3, 3, 3, 1, 3, 1, 1, 1, 3, 2, 1, 1, 1, 2, 3, 1, 1, 0, 1, 0, 0, 3, 0, 1, 2, 2, 2, 3, 0, 1, 0, 0, 2, 0, 2, 2, 0, 3, 0, 1, 2, 1, 1, 0, 3, 2, 2, 2, 0, 0, 0, 2, 0, 0, 0, 3, 2, 0, 0, 2, 1, 3, 1, 1, 3, 3, 1, 2, 1, 2, 0, 0, 2, 0, 1, 3, 3, 3, 1, 3, 1, 2, 0, 0, 2, 1, 1, 2, 3, 3, 0, 3, 3, 3, 1, 2, 2, 1, 2, 0, 3, 0, 0, 3, 1, 2, 0, 0, 2, 2, 0, 3, 0, 3, 3, 3, 2, 1, 1, 2, 1, 0, 1, 3, 1, 3, 1, 2, 1, 2, 1, 0, 1, 3, 0, 2, 2, 3, 0, 1, 2, 2, 0, 1, 3, 1, 3, 0, 2, 1, 0, 0, 3, 3, 0, 1, 2, 0, 2, 2, 2, 2, 1, 3, 1, 3, 2, 3, 1, 1, 3, 1, 0, 1, 1, 2, 2, 3, 0, 1, 1, 2, 1, 0, 3, 1, 2, 2, 0, 3, 1, 1, 1, 0, 3, 1, 3, 2, 1, 0, 2, 1, 3, 0, 3, 2, 0, 2, 1, 1, 2, 3, 1, 3, 2, 1, 2, 2, 0, 0, 3, 0, 1, 2, 0, 1, 3, 3, 3, 0, 0, 2, 0, 3, 0, 3, 0, 3, 3, 0, 2, 3, 3, 3, 0, 3, 0, 2, 1, 1, 0, 0, 0, 3, 3, 2, 1, 2, 2, 3, 0, 0, 2, 1, 3, 0, 3, 1, 2, 0, 1, 0, 1, 2, 0, 0, 0, 0, 3, 0, 1, 3, 0, 1, 3, 3, 1, 0, 0, 1, 0, 2, 1, 3, 1, 2, 3, 2, 2, 0, 0, 0, 0, 1, 3, 1, 1, 3, 2, 0, 0, 1, 2, 1, 3, 0, 3, 3, 3, 3, 1, 3, 1, 2, 1, 0, 1, 2, 1, 0, 3, 2, 1, 2, 3, 1, 2, 0, 2, 0, 1, 2, 1, 0, 0, 2, 0, 2, 3, 0, 2, 2, 1, 3, 0, 1, 1, 0, 1, 2, 2, 1, 2, 1, 0, 3, 2, 1, 1, 2, 1, 1, 1, 1, 2, 0, 2, 2, 0, 1, 1, 2, 0, 3, 2, 0, 2, 1, 2, 0, 2, 1, 0, 1, 2, 2, 3, 0, 1, 2, 1, 1, 1, 0, 3, 1, 0, 1, 1, 2, 1, 2, 2, 2, 0, 0, 3, 2, 0, 1, 2, 1, 2, 0, 2, 0, 3, 2, 2, 1, 3, 0, 2, 2, 3, 0, 0, 1, 3, 2, 2, 3, 0, 3, 0, 2, 2, 0, 1, 1, 1, 2, 0, 0, 3, 0, 1, 0, 3, 0, 0, 1, 2, 2, 0, 1, 0, 0, 0, 1, 2, 0, 2, 3, 1, 1, 3, 3, 2, 1, 3, 3, 2, 0, 3, 0, 2, 0, 1, 0, 0, 2, 0, 3, 1, 1, 0, 0, 0, 1, 2, 3, 2, 1, 2, 0, 0, 0, 0, 0, 1, 3, 2, 3, 3, 1, 0, 3, 2, 3, 3, 2, 0, 1, 0, 0, 2, 0, 1, 0, 2, 3, 3, 2, 2, 2, 0, 0, 1, 1, 1, 1, 0, 3, 0, 1, 2, 1, 3, 3, 2, 2, 1, 1, 3, 0, 0, 1, 0, 1, 1, 2, 2, 1, 3, 0, 2, 2, 1, 0, 0, 2, 2, 2, 0, 2, 1, 2, 3, 3, 1, 1, 2, 0, 2, 3, 2, 0, 2, 1, 2, 0, 1, 0, 2, 2, 3, 2, 3, 1, 2, 2, 2, 2, 2, 0, 2, 1, 3, 3, 2, 0, 0, 2, 0, 3, 2, 0, 0, 0, 0, 3, 2, 0, 0, 1, 1, 1, 1, 2, 1, 0, 1, 3, 0, 3, 2, 2, 2, 1, 2, 2, 0, 3, 3, 0, 0, 1, 1, 2, 3, 1, 3, 1, 3, 2, 1, 0, 2, 3, 2, 1, 0, 1, 3, 1, 2, 1, 2, 1, 0, 0, 1, 1, 2, 1, 3, 0, 0, 1, 2, 1, 1, 2, 0, 1, 0, 0, 0, 0, 1, 1, 1, 1, 1, 3, 2, 0, 1, 0, 2, 2, 0, 1, 3, 1, 1, 1, 1, 1, 1, 1, 3, 1, 0, 1, 3, 0, 2, 0, 2, 3, 1, 2, 2, 0, 3, 0, 1, 2, 0, 1, 3, 2, 3, 0, 1, 1, 0, 2, 2, 2, 1, 0, 0, 1, 2, 2, 0, 0, 1, 1, 2, 1, 3, 1, 3, 1, 1, 3, 0, 3, 1, 2, 3, 0, 0, 1, 3, 2, 1, 1, 2, 3, 3, 0, 0, 2, 0, 3, 1, 1, 0, 0, 0, 0, 2, 2, 2, 3, 0, 3, 3, 1, 0, 1, 2, 3, 3, 1, 1, 0, 0, 1, 3, 1, 3, 0, 3, 1, 0, 2, 2, 1, 1, 3, 0, 3, 1, 2, 2, 3, 0, 3, 0, 2, 1, 0, 2, 0, 2, 2, 2, 3, 3, 1, 2, 0, 3, 0, 3, 2, 1, 0, 3, 2, 1, 0, 0, 1, 0, 2, 1, 1, 3, 2, 2, 3, 1, 1, 2, 0, 2, 1, 1, 2, 1, 0, 3, 1, 2, 0, 1, 0, 3, 2, 1, 1, 1, 1, 3, 3, 3, 2, 2, 2, 0, 0, 0, 1, 1, 0, 0, 2, 0, 1, 0, 0, 0, 2, 2, 0, 0, 0, 0, 0, 1, 2, 2, 1, 2, 3, 0, 2, 2, 1, 1, 1, 0, 0, 1, 1, 1, 2, 0, 3, 0, 1, 0, 2, 3, 0, 0, 2, 1, 2, 3, 3, 2, 2, 3, 2, 1, 0, 0, 1, 2, 0, 1, 0, 2, 0, 3, 3, 0, 0, 3, 2, 3, 3, 1, 0, 0, 0, 3, 0, 1, 2, 2, 2, 2, 2, 2, 3, 2, 0, 1, 1, 0, 2, 2, 1, 0, 1, 1, 3, 1, 0, 2, 2, 0, 2, 1, 2, 3, 0, 0, 0, 0, 3, 1, 1, 1, 1, 0, 3, 0, 1, 0, 2, 3, 2, 2, 0, 3, 2, 1, 3, 0, 3, 2, 3, 1, 1, 2, 1, 1, 3, 1, 2, 2, 1, 2, 3, 2, 3, 1, 0, 1, 2, 2, 3, 3, 0, 3, 0, 2, 1, 1, 1, 2, 2, 0, 2, 1, 2, 2, 1, 1, 0, 0, 3, 2, 0, 1, 3, 0, 3, 3, 3, 0, 3, 1, 2, 0, 1, 3, 1, 1, 1, 1, 0, 1, 2, 1, 1, 0, 1, 3, 0, 2, 1, 1, 3, 1, 1, 3, 1, 1, 3, 2, 0, 3, 2, 2, 3, 1, 2, 2, 1, 1, 0, 3, 1, 0, 3, 0, 0, 2, 0, 0, 2, 0, 2, 2, 3, 0, 1, 0, 0, 3, 0, 0, 1, 0, 3, 2, 1, 2, 2, 0, 1, 1, 0, 0, 3, 1, 2, 3, 1, 2, 1, 0, 2, 2, 3, 2, 3, 1, 1, 1, 3, 2, 0, 2, 2, 0, 3, 3, 1, 1, 1, 1, 2, 0, 2, 2, 1, 0, 3, 1, 1, 2, 0, 1, 0, 1, 2, 0, 0, 3, 3, 3, 2, 0, 2, 1, 1, 2, 3, 2, 2, 3, 2, 2, 1, 0, 2, 2, 0, 2, 3, 1, 0, 1, 1, 1, 2, 1, 1, 1, 2, 0, 1, 0, 1, 1, 0, 2, 3, 3, 3, 3, 0, 0, 3, 1, 0, 2, 1, 0, 3, 3, 3, 3, 1, 2, 1, 0, 3, 0, 3, 2, 1, 0, 1, 1, 2, 3, 1, 1, 2, 1, 1, 1, 2, 0, 0, 0, 3, 2, 0, 2, 3, 2, 2, 3, 2, 1, 1, 1, 1, 2, 1, 0, 3, 1, 2, 1, 3, 2, 2, 0, 3, 0, 2, 3, 2, 2, 0, 0, 1, 1, 2, 0, 1, 0, 0, 3, 1, 0, 1, 2, 1, 2, 1, 0, 3, 0, 2, 2, 2, 1, 3, 3, 2, 1, 1, 2, 3, 2, 1, 1, 1, 1, 3, 2, 0, 1, 1, 2, 2, 1, 2, 2, 2, 2, 2, 0, 1, 3, 3, 2, 2, 2, 2, 3, 3, 1, 0, 2, 1, 2, 2, 2, 1, 0, 2, 2, 0, 1, 1, 3, 2, 3, 2, 2, 1, 2, 3, 2, 3, 1, 3, 0, 2, 1, 2, 0, 3, 2, 2, 1, 2, 1, 1, 1, 0, 2, 2, 2, 3, 1, 3, 1, 3, 3, 1, 3, 3, 0, 2, 3, 3, 3, 1, 0, 2, 0, 0, 1, 2, 1, 0, 3, 2, 3, 0, 2, 2, 0, 0, 0, 1, 0, 2, 0, 1, 1, 2, 3, 2, 1, 0, 1, 2, 1, 3, 0, 1, 2, 2, 0, 1, 3, 0, 3, 1, 3, 2, 0, 2, 0, 2, 1, 0, 2, 1, 0, 2, 1, 2, 1, 1, 2, 0, 0, 2, 2, 1, 1, 2, 1, 3, 2, 1, 1, 2, 3, 3, 1, 2, 2, 0, 0, 0, 1, 2, 1, 3, 1, 1, 3, 0, 1, 1, 1, 3, 0, 1, 0, 0, 2, 0, 1, 1, 3, 0, 2, 1, 3, 2, 2, 0, 2, 1, 0, 2, 3, 1, 3, 3, 3, 2, 1, 0, 1, 3, 1, 2, 1, 0, 1, 0, 1, 2, 1, 0, 1, 1, 0, 1, 0, 1, 3, 0, 2, 1, 0, 1, 3, 1, 1, 3, 1, 2, 0, 2, 0, 2, 1, 1, 3, 1, 0, 1, 2, 2, 2, 2, 2, 1, 0, 2, 0, 2, 2, 1, 2, 3, 1, 0, 3, 0, 2, 0, 1, 2, 1, 0, 0, 2, 2, 1, 1, 1, 0, 3, 1, 2, 2, 3, 0, 2, 0, 3, 1, 2, 1, 1, 1, 0, 1, 0, 1, 3, 0, 1, 0, 0, 1, 0, 1, 0, 1, 0, 0, 0, 1, 3, 1, 3, 1, 1, 1, 2, 2, 2, 2, 3, 0, 0, 1, 3, 0, 2, 2, 1, 3, 0, 0, 0, 3, 1, 0, 1, 2, 0, 0, 1, 1, 1, 1, 2, 0, 0, 2, 2, 3, 2, 1, 3, 0, 2, 0, 2, 3, 2, 0, 1, 1, 2, 2, 1, 2, 0, 0, 3, 1, 1, 3, 2, 3, 3, 0, 0, 3, 0, 1, 3, 1, 0, 3, 2, 1, 3, 2, 2, 0, 2, 2, 1, 0, 2, 0, 0, 0, 1, 3, 3, 2, 1, 0, 3, 3, 1, 2, 2, 0, 2, 0, 0, 3, 1, 1, 1, 1, 2, 1, 3, 2, 3, 0, 2, 3, 1, 3, 0, 2, 3, 1, 0, 3, 0, 3, 3, 3, 1, 2, 2, 2, 1, 0, 1, 3, 2, 0, 0, 1, 0, 0, 2, 2, 0, 1, 1, 0, 2, 2, 1, 2, 0, 1, 1, 1, 0, 2, 2, 3, 1, 3, 0, 1, 3, 2, 0, 1, 3, 1, 1, 3, 1, 2, 3, 0, 1, 1, 1, 0, 0, 0, 1, 1, 1, 0, 0, 3, 0, 2, 1, 2, 1, 0, 1, 0, 3, 3, 0, 3, 1, 2, 3, 3, 2, 1, 0, 3, 0, 1, 0, 1, 0, 0, 2, 2, 1, 0, 0, 1, 1, 1, 2, 2, 2, 0, 1, 3, 2, 0, 1, 2, 3, 1, 0, 0, 1, 3, 1, 3, 1, 0, 1, 1, 2, 1, 3, 1, 0, 3, 2, 3, 2, 2, 1, 1, 2, 1, 0, 2, 3, 1, 3, 1, 1, 3, 0, 3, 3, 1, 0, 2, 1, 0, 0, 2, 1, 3, 1, 2, 3, 0, 0, 2, 1, 2, 1, 0, 2, 2, 1, 1, 1, 1, 2, 0, 0, 0, 1, 1, 2, 3, 0, 2, 2, 1, 3, 0, 0, 0, 1, 0, 3, 3, 1, 0, 2, 0, 1, 2, 3, 1, 1, 0, 2, 1, 0, 2, 0, 3, 2, 1, 2, 2, 2, 0, 1, 1, 0, 1, 3, 3, 0, 0, 3, 2, 2, 3, 2, 1, 2, 1, 2, 3, 3, 0, 0, 0, 3, 2, 1, 3, 3, 1, 0, 2, 1, 1, 3, 2, 1, 3, 0, 1, 2, 2, 2, 0, 1, 1, 2, 0, 2, 2, 2, 0, 1, 1, 3, 3, 0, 0, 0, 1, 3, 1, 3, 0, 0, 0, 0, 2, 1, 3, 2, 2, 0, 3, 2, 1, 1, 3, 1, 1, 1, 2, 3, 1, 1, 0, 3, 3, 2, 2, 0, 1, 0, 2, 1, 2, 1, 1, 1, 1, 3, 0, 2, 0, 1, 2, 1, 1, 2, 1, 2, 3, 1, 1, 0, 2, 0, 0, 2, 0, 2, 2, 1, 3, 2, 1, 1, 1, 1, 0, 1, 0, 0, 2, 1, 3, 3, 2, 0, 0, 2, 0, 3, 2, 2, 2, 0, 0, 2, 1, 3, 3, 3, 0, 2, 0, 1, 1, 2, 1, 0, 1, 3, 0, 2, 1, 1, 2, 3, 2, 3, 2, 1, 0, 1, 1, 3, 1, 1, 3, 3, 2, 1, 2, 2, 2, 0, 0, 1, 0, 2, 3, 0, 2, 3, 2, 1, 0, 1, 0, 1, 0, 1, 1, 0, 0, 0, 3, 0, 2, 1, 2, 0, 1, 3, 1, 1, 1, 0, 2, 0, 3, 3, 1, 1, 1, 0, 0, 1, 2, 2, 1, 1, 3, 3, 1, 1, 1, 0, 0, 3, 1, 3, 0, 0, 2, 1, 2, 3, 0, 2, 2, 1, 1, 0, 3, 1, 1, 0, 1, 3, 0, 2, 1, 0, 2, 2, 3, 0, 3, 1, 2, 1, 2, 2, 2, 1, 0, 1, 1, 2, 1, 1, 1, 0, 0, 2, 3, 3, 2, 2, 3, 2, 1, 3, 2, 1, 1, 0, 2, 3, 1, 0, 3, 2, 2, 0, 1, 1, 0, 0, 0, 3, 1, 1, 0, 3, 0, 0, 2, 2, 0, 2, 1, 1, 2, 2, 2, 2, 2, 3, 3, 2, 2, 3, 3, 0, 1, 2, 0, 0, 1, 0, 1, 0, 2, 1, 2, 1, 1, 2, 0, 3, 2, 1, 1, 0, 2, 0, 0, 0, 1, 2, 3, 2, 1, 2, 0, 1, 0, 0, 2, 2, 3, 2, 2, 0, 1, 0, 3, 1, 1, 0, 0, 2, 0, 1, 0, 1, 2, 3, 2, 1, 2, 2, 0, 0, 2, 2, 3, 0, 3, 0, 2, 1, 0, 1, 0, 3, 1, 0, 0, 0, 1, 1, 1, 0, 3, 3, 1, 0, 0, 2, 3, 3, 3, 0, 1, 2, 2, 2, 2, 1, 2, 3, 2, 3, 1, 0, 1, 1, 0, 0, 0, 3, 2, 3, 1, 2, 1, 3, 1, 2, 0, 1, 1, 3, 1, 3, 1, 0, 2, 3, 0, 1, 1, 1, 1, 2, 2, 1, 0, 2, 1, 0, 1, 2, 3, 1, 0, 1, 2, 1, 1, 0, 1, 1, 1, 0, 1, 1, 0, 1, 1, 1, 1, 0, 1, 1, 2, 3, 3, 0, 3, 2, 3, 1, 2, 3, 2, 0, 3, 3, 3, 0, 3, 0, 2, 1, 3, 2, 0, 3, 1, 2, 2, 0, 0, 0, 1, 0, 2, 1, 3, 1, 3, 3, 1, 0, 1, 1, 2, 0, 0, 1, 1, 1, 1, 1, 3, 1, 1, 1, 2, 3, 1, 2, 3, 2, 3, 1, 1, 1, 1, 3, 1, 0, 2, 3, 0, 2, 2, 1, 2, 2, 0, 0, 1, 1, 3, 1, 0, 0, 0, 3, 2, 0, 2, 1, 0, 2, 1, 3, 2, 2, 1, 2, 2, 2, 1, 2, 1, 1, 3, 2, 3, 3, 3, 3, 1, 0, 0, 3, 1, 3, 2, 1, 3, 2, 2, 2, 0, 3, 0, 2, 3, 3, 1, 2, 1, 0, 3, 2, 1, 2, 2, 1, 2, 0, 0, 2, 1, 1, 2, 3, 2, 3, 2, 2, 0, 3, 2, 0, 2, 3, 1, 1, 1, 1, 0, 0, 2, 3, 3, 3, 0, 1, 3, 3, 1, 1, 2, 2, 2, 0, 0, 1, 1, 1, 1, 1, 2, 3, 0, 3, 0, 0, 2, 3, 2, 2, 0, 3, 1, 0, 2, 1, 1, 1, 0, 2, 0, 1, 0, 1, 2, 0, 2, 1, 0, 0, 2, 0, 1, 1, 1, 1, 1, 1, 0, 3, 0, 2, 3, 1, 0, 2, 2, 2, 2, 1, 2, 2, 0, 1, 0, 1, 3, 0, 1, 3, 3, 3, 3, 1, 1, 2, 0, 2, 1, 2, 2, 2, 0, 0, 0, 1, 0, 3, 1, 2, 0, 3, 1, 0, 0, 1, 2, 0, 2, 3, 3, 1, 2, 2, 1, 1, 1, 3, 3, 1, 0, 2, 2, 1, 0, 2, 1, 2, 0, 1, 3, 3, 3, 1, 2, 3, 1, 2, 0, 3, 0, 0, 0, 3, 0, 2, 1, 1, 3, 2, 1, 3, 0, 2, 1, 3, 0, 2, 2, 2, 2, 2, 3, 3, 3, 0, 0, 0, 3, 1, 3, 0, 3, 2, 2, 0, 0, 2, 2, 2, 2, 3, 1, 2, 0, 2, 0, 3, 2, 3, 2, 2, 1, 0, 0, 3, 0, 0, 2, 2, 3, 3, 2, 1, 0, 3, 1, 0, 1, 3, 3, 3, 3, 2, 1, 1, 3, 2, 3, 1, 0, 2, 2, 0, 2, 3, 0, 2, 2, 1, 1, 2, 1, 2, 1, 0, 0, 1, 1, 0, 2, 2, 1, 2, 2, 0, 1, 3, 2, 2, 0, 1, 3, 3, 0, 1, 3, 1, 1, 1, 2, 3, 0, 2, 0, 2, 3, 0, 2, 2, 2, 2, 3, 1, 2, 1, 3, 3, 3, 1, 2, 1, 1, 1, 0, 0, 0, 1, 3, 2, 0, 0, 3, 1, 1, 0, 2, 2, 3, 0, 1, 1, 1, 2, 0, 0, 3, 3, 3, 3, 1, 0, 3, 0, 1, 1, 2, 1, 1, 2, 1, 1, 0, 1, 0, 2, 2, 2, 1, 2, 0, 0, 1, 1, 2, 0, 3, 3, 2, 0, 1, 3, 2, 1, 1, 3, 3, 0, 1, 0, 0, 2, 2, 2, 2, 3, 1, 2, 2, 0, 0, 2, 1, 0, 1, 3, 2, 3, 1, 3, 3, 3, 1, 1, 0, 1, 1, 1, 0, 0, 1, 3, 1, 3, 2, 2, 1, 2, 2, 1, 0, 3, 1, 1, 1, 0, 3, 0, 0, 0, 2, 0, 1, 2, 2, 3, 2, 2, 2, 0, 1, 1, 2, 1, 2, 1, 2, 1, 2, 0, 0, 1, 1, 0, 2, 2, 0, 1, 2, 1, 3, 0, 3, 3, 0, 2, 0, 2, 0, 2, 0, 0, 1, 1, 0, 1, 1, 1, 2, 2, 0, 2, 1, 2, 1, 2, 0, 1, 0, 1, 1, 0, 0, 2, 1, 1, 1, 2, 2, 1, 1, 3, 1, 1, 3, 1, 0, 0, 2, 2, 2, 2, 3, 2, 1, 1, 3, 2, 1, 1, 2, 0, 3, 3, 2, 2, 1, 2, 1, 0, 0, 0, 0, 0, 1, 1, 1, 1, 1, 0, 1, 1, 1, 1, 3, 0, 3, 0, 0, 0, 0, 2, 0, 2, 0, 3, 1, 0, 0, 1, 1, 0, 1, 3, 2, 0, 1, 3, 2, 2, 3, 0, 2, 3, 0, 0, 2, 1, 3, 2, 0, 0, 3, 1, 2, 3, 0, 1, 2, 2, 1, 1, 1, 1, 3, 0, 2, 2, 1, 2, 1, 2, 2, 3, 2, 2, 1, 1, 0, 2, 2, 0, 1, 3, 1, 2, 1, 2, 1, 3, 1, 1, 1, 1, 0, 0, 1, 0, 3, 1, 1, 2, 1, 2, 1, 2, 0, 0, 3, 2, 3, 1, 2, 0, 2, 3, 0, 0, 3, 0, 3, 2, 3, 2, 2, 0, 1, 3, 1, 2, 0, 2, 0, 2, 2, 3, 2, 2, 2, 1, 2, 3, 0, 2, 1, 2, 0, 1, 1, 0, 0, 2, 3, 1, 1, 3, 1, 1, 2, 2, 1, 2, 2, 2, 1, 2, 1, 0, 2, 0, 1, 3, 2, 1, 2, 1, 3, 1, 0, 1, 1, 3, 2, 3, 2, 2, 0, 1, 3, 3, 3, 1, 1, 1, 2, 1, 3, 3, 2, 1, 1, 3, 0, 1, 3, 0, 0, 3, 3, 0, 1, 0, 2, 0, 2, 1, 1, 3, 2, 3, 3, 2, 1, 1, 2, 0, 1, 0, 2, 3, 3, 3, 0, 2, 3, 2, 2, 0, 0, 2, 1, 2, 2, 1, 0, 3, 2, 1, 3, 1, 2, 0, 3, 0, 2, 1, 0, 1, 0, 1, 1, 1, 2, 3, 1, 1, 1, 1, 3, 1, 0, 2, 2, 3, 0, 2, 2, 1, 2, 3, 0, 2, 2, 3, 0, 2, 0, 1, 1, 0, 1, 0, 2, 0, 3, 1, 1, 2, 2, 1, 1, 2, 1, 0, 3, 3, 1, 2, 0, 3, 0, 2, 0, 1, 3, 3, 2, 1, 1, 3, 0, 2, 1, 1, 3, 1, 0, 1, 0, 0, 2, 3, 1, 0, 1, 3, 1, 3, 2, 3, 2, 3, 0, 0, 0, 0, 1, 1, 0, 1, 2, 2, 0, 2, 3, 3, 1, 2, 0, 2, 3, 0, 2, 1, 2, 1, 2, 1, 3, 2, 0, 2, 1, 1, 2, 0, 3, 0, 0, 3, 3, 3, 0, 1, 0, 2, 2, 2, 0, 0, 2, 2, 3, 2, 1, 2, 0, 2, 1, 1, 0, 2, 2, 1, 3, 1, 2, 2, 0, 3, 1, 1, 1, 3, 2, 0, 1, 1, 0, 0, 1, 0, 3, 0, 0, 3, 1, 2, 1, 2, 0, 2, 2, 2, 3, 2, 1, 0, 1, 2, 1, 3, 2, 0, 0, 2, 0, 2, 0, 0, 1, 2, 2, 3, 2, 1, 1, 0, 0, 3, 0, 3, 1, 3, 1, 2, 1, 3, 3, 1, 2, 1, 0, 3, 2, 0, 1, 0, 2, 2, 0, 2, 0, 1, 0, 0, 1, 0, 1, 1, 0, 3, 0, 1, 1, 1, 1, 0, 2, 1, 1, 3, 2, 1, 2, 1, 2, 0, 1, 0, 3, 2, 2, 0, 1, 1, 2, 3, 0, 1, 2, 2, 2, 1, 1, 1, 2, 1, 3, 1, 0, 0, 1, 2, 1, 3, 1, 1, 1, 1, 3, 0, 2, 3, 2, 1, 2, 2, 1, 0, 2, 0, 0, 0, 0, 1, 0, 2, 2, 2, 1, 1, 3, 3, 2, 3, 2, 1, 2, 2, 3, 0, 0, 0, 1, 0, 3, 3, 1, 0, 3, 0, 2, 1, 2, 0, 2, 1, 1, 2, 1, 1, 2, 3, 1, 2, 2, 3, 1, 3, 1, 1, 3, 2, 2, 0, 1, 1, 0, 1, 3, 2, 2, 2, 0, 0, 3, 1, 1, 3, 0, 1, 3, 1, 2, 2, 1, 3, 0, 3, 3, 1, 1, 1, 1, 2, 0, 0, 0, 3, 0, 3, 0, 1, 3, 3, 2, 2, 1, 2, 1, 3, 1, 2, 1, 0, 0, 1, 0, 0, 0, 3, 2, 3, 1, 2, 3, 1, 0, 2, 0, 1, 2, 0, 3, 2, 1, 0, 2, 3, 2, 2, 0, 2, 1, 0, 3, 1, 1, 0, 0, 1, 1, 0, 2, 0, 1, 0, 2, 2, 0, 1, 0, 0, 0, 0, 0, 0, 1, 1, 0, 0, 2, 1, 1, 0, 0, 3, 2, 0, 3, 2, 3, 2, 2, 0, 0, 0, 1, 0, 2, 2, 2, 0, 0, 0, 1, 2, 0, 0, 3, 0, 2, 3, 0, 1, 1, 3, 2, 3, 1, 0, 2, 3, 1, 2, 1, 1, 2, 1, 1, 1, 1, 2, 1, 2, 2, 3, 1, 0, 3, 1, 0, 2, 2, 0, 1, 1, 1, 1, 0, 1, 1, 3, 3, 1, 2, 3, 1, 3, 2, 0, 0, 0, 0, 1, 1, 1, 1, 0, 1, 0, 3, 1, 2, 0, 2, 2, 0, 1, 0, 1, 1, 2, 3, 3, 1, 3, 0, 0, 3, 1, 0, 0, 1, 0, 0, 0, 2, 2, 1, 2, 3, 2, 2, 1, 2, 2, 0, 0, 0, 2, 0, 2, 1, 1, 3, 1, 1, 0, 1, 2, 0, 0, 1, 2, 1, 3, 3, 1, 0, 0, 3, 1, 2, 1, 1, 1, 0, 0, 0, 0, 0, 0, 1, 1, 0, 3, 0, 0, 0, 0, 2, 2, 2, 0, 0, 2, 2, 2, 1, 0, 0, 0, 1, 1, 0, 2, 3, 1, 0, 0, 1, 3, 3, 1, 2, 0, 2, 2, 2, 0, 0, 1, 1, 3, 3, 1, 3, 3, 2, 0, 0, 0, 2, 3, 3, 1, 1, 0, 2, 3, 0, 0, 0, 1, 1, 1, 3, 2, 1, 2, 1, 1, 0, 3, 1, 2, 0, 0, 0, 2, 0, 3, 3, 3, 0, 1, 0, 1, 1, 3, 1, 1, 1, 3, 3, 2, 1, 3, 0, 3, 0, 1, 1, 2, 2, 3, 1, 2, 1, 2, 0, 2, 3, 3, 0, 1, 3, 1, 0, 1, 0, 1, 1, 3, 0, 1, 0, 2, 0, 3, 0, 2, 2, 3, 0, 0, 0, 3, 0, 2, 0, 1, 3, 2, 2, 1, 0, 2, 1, 2, 3, 2, 3, 3, 1, 1, 1, 1, 1, 3, 2, 0, 3, 0, 0, 0, 3, 2, 1, 1, 3, 2, 1, 3, 3, 0, 0, 2, 1, 1, 1, 2, 0, 2, 0, 3, 0, 2, 1, 3, 1, 1, 1, 2, 2, 0, 1, 0, 1, 3, 0, 2, 0, 1, 2, 0, 0, 1, 1, 3, 2, 0, 3, 0, 1, 2, 0, 0, 0, 0, 3, 3, 1, 2, 1, 0, 3, 1, 2, 1, 0, 1, 0, 1, 2, 1, 3, 3, 0, 1, 1, 2, 1, 3, 3, 0, 1, 1, 1, 3, 3, 1, 1, 3, 0, 2, 1, 0, 2, 1, 1, 1, 1, 1, 1, 2, 2, 3, 3, 3, 2, 1, 1, 1, 0, 3, 1, 1, 3, 1, 1, 2, 2, 3, 2, 1, 1, 2, 2, 1, 3, 3, 3, 1, 1, 1, 2, 0, 1, 2, 1, 1, 1, 1, 0, 1, 1, 1, 2, 1, 0, 0, 3, 2, 0, 0, 3, 3, 2, 3, 0, 2, 1, 2, 0, 0, 0, 1, 2, 2, 1, 1, 0, 1, 1, 0, 2, 0, 1, 2, 1, 3, 1, 0, 0, 2, 0, 1, 0, 1, 1, 2, 0, 2, 0, 0, 1, 2, 0, 0, 2, 3, 2, 0, 0, 1, 3, 2, 2, 3, 1, 0, 2, 2, 1, 2, 0, 2, 1, 1, 1, 0, 1, 2, 1, 0, 2, 1, 0, 0, 0, 1, 1, 2, 2, 2, 0, 1, 0, 3, 0, 1, 0, 2, 2, 3, 2, 3, 3, 2, 3, 2, 3, 0, 2, 1, 1, 1, 2, 2, 3, 0, 2, 3, 1, 0, 3, 3, 2, 1, 2, 1, 1, 3, 2, 2, 0, 2, 0, 0, 2, 0, 3, 1, 2, 2, 1, 2, 2, 1, 0, 0, 0, 1, 1, 1, 1, 2, 3, 1, 2, 2, 1, 0, 3, 1, 1, 2, 3, 0, 1, 2, 1, 3, 1, 2, 3, 1, 3, 2, 0, 1, 3, 3, 3, 1, 0, 1, 1, 2, 2, 0, 0, 2, 1, 1, 0, 0, 1, 1, 0, 1, 1, 1, 2, 1, 1, 0, 3, 1, 3, 3, 2, 0, 2, 1, 2, 3, 2, 3, 3, 2, 1, 3, 0, 3, 1, 2, 2, 0, 0, 3, 1, 0, 1, 2, 0, 3, 1, 1, 3, 0, 0, 3, 3, 2, 2, 0, 0, 3, 2, 3, 0, 1, 3, 1, 2, 1, 1, 1, 0, 3, 0, 3, 3, 1, 2, 1, 3, 1, 1, 0, 2, 2, 0, 3, 3, 3, 3, 1, 3, 2, 2, 3, 0, 0, 1, 3, 1, 3, 0, 3, 2, 2, 1, 2, 1, 0, 3, 3, 2, 2, 1, 0, 2, 3, 1, 1, 0, 3, 1, 0, 2, 0, 0, 0, 0, 2, 2, 2, 2, 0, 1, 1, 1, 0, 0, 0, 3, 2, 2, 3, 0, 0, 2, 0, 1, 0, 3, 1, 1, 2, 2, 1, 1, 1, 3, 3, 1, 3, 0, 1, 1, 2, 2, 2, 1, 3, 3, 1, 2, 3, 3, 0, 2, 0, 3, 2, 3, 0, 2, 2, 3, 1, 3, 1, 2, 3, 0, 0, 2, 1, 2, 2, 2, 1, 1, 1, 0, 0, 1, 3, 2, 2, 1, 0, 2, 0, 1, 0, 0, 2, 1, 1, 2, 0, 0, 0, 3, 3, 2, 2, 0, 2, 1, 0, 3, 3, 1, 0, 2, 2, 0, 1, 0, 3, 3, 1, 1, 2, 1, 1, 1, 0, 2, 2, 3, 3, 1, 1, 2, 2, 2, 0, 0, 0, 1, 0, 1, 0, 3, 2, 1, 2, 3, 1, 1, 3, 2, 2, 1, 3, 2, 1, 1, 0, 2, 0, 3, 2, 1, 0, 3, 0, 0, 2, 1, 0, 3, 3, 1, 0, 0, 1, 0, 2, 0, 3, 2, 2, 2, 0, 0, 1, 1, 1, 2, 2, 1, 2, 1, 0, 0, 3, 3, 3, 1, 0, 2, 0, 3, 1, 2, 1, 3, 1, 3, 1, 1, 1, 1, 3, 2, 2, 2, 2, 1, 0, 3, 1, 1, 0, 0, 1, 0, 0, 2, 1, 1, 2, 1, 1, 1, 2, 3, 0, 2, 1, 2, 0, 1, 1, 2, 0, 0, 2, 1, 0, 0, 1, 1, 0, 3, 2, 1, 3, 3, 2, 2, 3, 3, 3, 3, 1, 0, 1, 3, 3, 0, 3, 0, 2, 2, 2, 1, 1, 0, 0, 1, 1, 3, 0, 1, 0, 1, 2, 2, 3, 2, 2, 3, 0, 0, 2, 1, 1, 3, 3, 0, 1, 2, 3, 0, 2, 2, 1, 3, 2, 0, 2, 1, 2, 2, 1, 3, 0, 2, 0, 0, 1, 2, 3, 0, 0, 2, 0, 2, 1, 1, 1, 2, 1, 0, 2, 0, 1, 3, 3, 2, 2, 0, 1, 1, 3, 2, 3, 0, 0, 3, 0, 2, 2, 2, 3, 2, 2, 1, 1, 0, 1, 2, 0, 2, 1, 2, 2, 2, 2, 1, 0, 1, 1, 2, 3, 3, 2, 0, 0, 2, 1, 1, 0, 0, 2, 2, 1, 3, 3, 0, 1, 1, 2, 2, 0, 1, 0, 1, 0, 1, 3, 2, 1, 2, 3, 2, 0, 0, 0, 0, 2, 1, 2, 1, 3, 0, 1, 2, 0, 1, 1, 3, 0, 1, 1, 0, 2, 2, 2, 2, 2, 0, 1, 0, 3, 1, 0, 3, 0, 2, 1, 0, 3, 2, 2, 0, 1, 0, 0, 3, 0, 3, 1, 1, 1, 1, 0, 3, 2, 0, 0, 0, 2, 1, 1, 1, 2, 1, 0, 1, 1, 2, 2, 1, 2, 1, 0, 1, 1, 2, 0, 2, 2, 1, 2, 1, 3, 2, 1, 3, 1, 3, 2, 1, 0, 2, 1, 2, 3, 3, 0, 1, 2, 0, 2, 2, 3, 2, 1, 2, 1, 1, 2, 0, 1, 2, 3, 1, 2, 1, 0, 3, 2, 3, 0, 1, 2, 2, 0, 2, 2, 1, 3, 3, 1, 1, 2, 0, 2, 3, 3, 1, 2, 1, 1, 2, 2, 2, 3, 2, 2, 1, 3, 1, 2, 1, 2, 1, 1, 1, 1, 0, 2, 0, 1, 0, 0, 1, 3, 2, 2, 3, 2, 0, 0, 2, 3, 0, 2, 2, 0, 2, 2, 2, 0, 2, 1, 1, 1, 0, 1, 3, 1, 0, 1, 2, 2, 2, 0, 3, 2, 1, 0, 2, 1, 1, 2, 2, 3, 1, 0, 2, 1, 3, 2, 2, 1, 2, 3, 1, 1, 3, 1, 1, 2, 0, 1, 3, 0, 2, 3, 1, 3, 0, 2, 3, 3, 2, 1, 1, 1, 2, 1, 1, 1, 0, 1, 3, 1, 1, 0, 2, 1, 1, 1, 2, 1, 1, 1, 3, 1, 0, 0, 3, 1, 0, 2, 2, 2, 1, 1, 1, 3, 3, 0, 0, 0, 1, 1, 1, 2, 1, 2, 1, 2, 0, 1, 0, 1, 3, 2, 2, 0, 0, 0, 2, 2, 2, 3, 2, 0, 2, 1, 2, 2, 2, 0, 1, 3, 3, 0, 1, 1, 0, 1, 0, 0, 2, 3, 1, 2, 3, 1, 1, 1, 1, 1, 2, 0, 3, 1, 2, 3, 3, 2, 0, 1, 2, 3, 0, 1, 0, 2, 1, 1, 0, 1, 3, 2, 3, 1, 2, 2, 1, 0, 0, 2, 2, 0, 2, 0, 3, 3, 2, 0, 1, 0, 1, 1, 1, 2, 3, 0, 3, 2, 2, 2, 2, 3, 1, 3, 2, 0, 2, 3, 1, 1, 2, 2, 0, 0, 3, 3, 2, 1, 0, 0, 2, 3, 0, 2, 3, 3, 3, 2, 1, 0, 1, 3, 0, 2, 0, 0, 1, 1, 3, 0, 2, 3, 1, 2, 1, 2, 3, 1, 1, 2, 2, 1, 1, 0, 3, 2, 1, 1, 2, 1, 1, 1, 2, 2, 2, 2, 0, 3, 0, 0, 2, 2, 2, 1, 3, 0, 2, 2, 1, 3, 2, 1, 0, 1, 0, 0, 1, 1, 3, 2, 2, 0, 2, 3, 2, 1, 3, 0, 2, 2, 0, 2, 0, 2, 0, 2, 2, 3, 1, 3, 3, 3, 3, 2, 2, 1, 2, 1, 1, 1, 2, 2, 0, 2, 1, 1, 0, 2, 2, 3, 2, 1, 1, 3, 0, 2, 2, 2, 2, 2, 0, 2, 2, 0, 3, 1, 0, 0, 1, 2, 0, 3, 2, 2, 1, 1, 0, 2, 0, 1, 0, 2, 0, 2, 2, 1, 2, 2, 2, 3, 1, 3, 0, 3, 2, 0, 3, 3, 2, 1, 3, 0, 1, 3, 2, 3, 3, 0, 2, 1, 1, 0, 3, 1, 3, 0, 1, 3, 1, 0, 1, 2, 3, 1, 1, 1, 0, 1, 1, 3, 0, 3, 3, 0, 1, 0, 0, 1, 0, 2, 0, 0, 0, 0, 0, 1, 3, 3, 2, 1, 1, 1, 0, 2, 1, 2, 1, 0, 2, 1, 1, 1, 1, 1, 0, 3, 1, 3, 2, 1, 3, 0, 3, 3, 0, 2, 0, 2, 2, 2, 1, 1, 0, 1, 0, 2, 1, 0, 2, 2, 1, 3, 2, 0, 2, 0, 2, 3, 2, 3, 2, 1, 1, 1, 3, 3, 2, 3, 1, 0, 1, 1, 2, 1, 2, 1, 1, 0, 1, 1, 1, 3, 2, 1, 1, 3, 3, 2, 3, 0, 2, 2, 0, 0, 1, 0, 0, 2, 3, 3, 0, 1, 1, 0, 2, 1, 2, 1, 3, 1, 0, 2, 0, 3, 1, 0, 0, 2, 0, 2, 0, 1, 2, 1, 1, 2, 3, 3, 0, 1, 2, 0, 1, 3, 3, 3, 3, 1, 1, 3, 2, 0, 0, 0, 0, 0, 2, 0, 1, 2, 0, 0, 1, 2, 2, 2, 2, 0, 1, 2, 2, 1, 0, 1, 0, 2, 2, 2, 1, 3, 3, 1, 0, 2, 1, 3, 0, 2, 1, 2, 0, 3, 1, 3, 2, 1, 0, 0, 2, 0, 2, 3, 1, 0, 1, 2, 1, 1, 2, 0, 0, 2, 0, 3, 3, 1, 3, 2, 3, 3, 2, 1, 2, 3, 0, 1, 1, 2, 3, 0, 2, 2, 2, 2, 3, 2, 1, 0, 2, 1, 1, 3, 0, 1, 0, 3, 0, 1, 1, 3, 2, 1, 0, 1, 0, 0, 1, 1, 0, 2, 0, 0, 3, 0, 0, 0, 2, 1, 0, 0, 1, 2, 1, 3, 2, 2, 3, 0, 0, 1, 0, 3, 2, 3, 1, 0, 2, 2, 1, 1, 0, 3, 1, 2, 2, 0, 0, 3, 3, 0, 2, 2, 2, 0, 0, 0, 0, 2, 3, 0, 1, 2, 3, 2, 0, 3, 1, 1, 1, 3, 1, 3, 2, 2, 0, 0, 0, 2, 3, 3, 0, 0, 2, 2, 1, 2, 2, 0, 1, 1, 1, 0, 0, 1, 1, 0, 3, 3, 1, 0, 0, 2, 3, 1, 0, 0, 2, 1, 0, 3, 2, 2, 3, 3, 3, 2, 1, 2, 0, 3, 3, 2, 1, 0, 0, 2, 2, 2, 1, 2, 3, 2, 0, 1, 1, 3, 2, 1, 2, 1, 1, 2, 3, 2, 3, 1, 0, 1, 0, 2, 1, 3, 0, 1, 0, 1, 1, 3, 0, 1, 1, 2, 2, 3, 1, 3, 3, 1, 1, 0, 2, 2, 1, 1, 0, 1, 0, 3, 1, 1, 3, 2, 3, 2, 3, 1, 3, 1, 1, 1, 3, 0, 2, 2, 0, 1, 2, 3, 1, 1, 2, 3, 2, 1, 1, 2, 2, 2, 3, 1, 1, 1, 1, 3, 1, 1, 1, 1, 0, 0, 0, 3, 1, 1, 1, 0, 2, 3, 0, 1, 0, 2, 0, 0, 3, 1, 2, 3, 0, 1, 0, 1, 2, 1, 3, 1, 1, 1, 1, 0, 1, 0, 2, 0, 3, 2, 3, 1, 2, 1, 1, 3, 1, 0, 1, 1, 2, 2, 1, 1, 1, 0, 1, 0, 2, 0, 2, 2, 1, 3, 2, 0, 0, 1, 1, 2, 1, 0, 2, 1, 2, 2, 1, 0, 3, 1, 1, 3, 3, 3, 3, 0, 0, 1, 0, 2, 1, 1, 0, 0, 0, 2, 1, 0, 0, 1, 3, 1, 1, 1, 0, 0, 0, 2, 1, 3, 1, 1, 2, 1, 1, 0, 2, 1, 0, 3, 2, 2, 1, 2, 2, 3, 2, 0, 1, 1, 3, 0, 2, 3, 3, 1, 0, 2, 0, 2, 1, 3, 2, 0, 2, 2, 1, 2, 3, 0, 1, 0, 3, 3, 2, 1, 1, 1, 3, 0, 3, 2, 3, 1, 3, 1, 2, 0, 0, 1, 1, 1, 3, 1, 0, 2, 3, 2, 3, 0, 2, 3, 1, 0, 3, 3, 2, 0, 0, 0, 2, 1, 2, 0, 3, 2, 1, 1, 1, 1, 0, 2, 1, 0, 3, 1, 3, 0, 1, 2, 0, 2, 1, 1, 0, 1, 0, 1, 3, 0, 1, 2, 3, 2, 1, 2, 1, 2, 2, 3, 1, 0, 2, 2, 0, 3, 1, 3, 2, 0, 1, 0, 1, 3, 3, 0, 1, 1, 3, 1, 1, 2, 2, 0, 2, 2, 1, 0, 0, 2, 3, 2, 1, 1, 3, 3, 1, 1, 1, 1, 0, 0, 1, 3, 0, 2, 2, 1, 2, 1, 3, 1, 3, 3, 0, 0, 2, 0, 2, 1, 3, 1, 1, 2, 3, 3, 0, 3, 2, 2, 1, 3, 3, 0, 2, 3, 0, 2, 1, 1, 1, 3, 1, 0, 1, 1, 0, 2, 1, 1, 0, 2, 1, 3, 0, 1, 1, 0, 2, 3, 2, 1, 2, 0, 2, 1, 2, 0, 2, 1, 3, 0, 3, 3, 3, 2, 1, 1, 0, 2, 1, 0, 1, 1, 0, 0, 0, 0, 3, 1, 1, 0, 0, 2, 3, 2, 2, 1, 3, 3, 0, 2, 1, 1, 1, 2, 0, 1, 3, 1, 1, 1, 2, 0, 1, 2, 1, 0, 2, 0, 1, 1, 3, 2, 3, 2, 1, 2, 1, 1, 1, 2, 0, 3, 0, 1, 0, 0, 2, 0, 1, 0, 2, 3, 1, 1, 2, 3, 1, 0, 1, 2, 1, 3, 1, 1, 3, 3, 1, 1, 1, 3, 2, 1, 0, 1, 0, 2, 2, 0, 2, 1, 2, 2, 2, 0, 0, 1, 0, 0, 2, 2, 1, 2, 3, 0, 2, 2, 0, 1, 1, 3, 1, 0, 1, 2, 2, 0, 1, 2, 2, 1, 0, 1, 2, 0, 2, 1, 2, 0, 2, 1, 0, 3, 1, 1, 3, 1, 2, 2, 3, 0, 1, 1, 2, 3, 2, 1, 1, 3, 2, 2, 1, 2, 3, 1, 1, 2, 1, 2, 3, 1, 1, 1, 3, 0, 0, 0, 1, 0, 1, 0, 1, 1, 2, 3, 0, 1, 0, 3, 0, 0, 1, 0, 0, 0, 1, 0, 3, 2, 0, 1, 3, 1, 0, 0, 0, 0, 1, 2, 1, 0, 2, 1, 2, 0, 0, 2, 1, 1, 1, 1, 0, 2, 3, 1, 3, 2, 0, 2, 1, 2, 0, 2, 1, 1, 0, 0, 1, 2, 0, 0, 1, 0, 0, 2, 2, 3, 1, 2, 1, 3, 3, 1, 2, 3, 3, 1, 3, 3, 0, 0, 3, 0, 2, 0, 0, 0, 0, 1, 1, 0, 2, 2, 3, 1, 2, 1, 2, 1, 2, 3, 1, 1, 0, 2, 2, 1, 0, 1, 1, 3, 3, 0, 1, 2, 1, 3, 1, 2, 3, 0, 1, 3, 2, 0, 1, 1, 2, 0, 0, 1, 1, 0, 0, 2, 1, 0, 1, 1, 0, 3, 0, 2, 2, 1, 3, 1, 2, 1, 1, 2, 2, 1, 0, 0, 1, 1, 1, 1, 2, 3, 2, 0, 1, 1, 1, 2, 2, 0, 2, 3, 0, 2, 2, 0, 2, 3, 2, 0, 0, 1, 0, 0, 3, 2, 3, 2, 1, 3, 0, 2, 2, 0, 0, 2, 2, 2, 1, 1, 1, 3, 0, 0, 0, 2, 2, 1, 2, 1, 1, 2, 1, 3, 2, 0, 3, 3, 2, 0, 2, 2, 1, 0, 1, 1, 1, 2, 2, 1, 1, 1, 3, 3, 3, 1, 0, 1, 0, 0, 3, 0, 1, 1, 0, 1, 2, 2, 3, 0, 2, 1, 2, 1, 1, 0, 3, 2, 1, 1, 0, 0, 1, 0, 1, 0, 2, 0, 0, 2, 1, 0, 1, 0, 3, 3, 1, 2, 2, 3, 2, 1, 2, 3, 3, 0, 2, 0, 3, 3, 0, 2, 0, 1, 3, 0, 1, 2, 1, 2, 3, 0, 1, 2, 3, 1, 2, 1, 0, 2, 0, 1, 1, 2, 0, 1, 1, 2, 0, 0, 0, 3, 1, 2, 0, 2, 0, 0, 1, 0, 1, 1, 1, 1, 0, 0, 0, 3, 3, 1, 1, 1, 1, 0, 3, 1, 1, 0, 0, 3, 2, 2, 1, 0, 3, 0, 0, 2, 3, 1, 1, 2, 1, 1, 1, 3, 1, 1, 3, 1, 1, 0, 1, 2, 2, 1, 2, 0, 0, 2, 1, 1, 3, 1, 1, 0, 0, 0, 0, 2, 3, 1, 0, 0, 0, 2, 1, 0, 0, 0, 3, 2, 1, 0, 3, 2, 0, 0, 1, 1, 1, 3, 0, 0, 0, 1, 2, 1, 0, 2, 2, 3, 3, 0, 3, 0, 1, 0, 0, 1, 3, 3, 2, 3, 0, 3, 1, 3, 0, 0, 2, 1, 3, 2, 1, 1, 0, 2, 2, 1, 0, 1, 3, 3, 2, 2, 0, 3, 3, 2, 0, 2, 0, 1, 1, 1, 0, 3, 2, 3, 3, 1, 1, 0, 1, 3, 0, 3, 2, 1, 1, 1, 2, 2, 1, 1, 2, 1, 1, 1, 2, 3, 0, 1, 3, 2, 0, 2, 1, 0, 1, 2, 1, 0, 1, 1, 1, 2, 1, 2, 2, 1, 1, 2, 2, 0, 2, 1, 1, 2, 1, 3, 1, 1, 0, 0, 1, 2, 1, 0, 2, 1, 0, 3, 3, 1, 3, 1, 0, 0, 2, 2, 3, 1, 0, 3, 1, 2, 2, 2, 2, 0, 1, 1, 1, 2, 1, 1, 0, 0, 2, 1, 1, 2, 1, 0, 0, 3, 1, 1, 0, 0, 0, 2, 1, 0, 0, 2, 0, 3, 2, 3, 0, 3, 1, 2, 1, 2, 0, 0, 3, 0, 0, 2, 1, 0, 1, 1, 1, 1, 2, 0, 1, 0, 3, 0, 1, 2, 0, 3, 1, 2, 3, 0, 2, 2, 1, 1, 1, 1, 3, 0, 2, 0, 0, 0, 2, 0, 2, 2, 1, 1, 0, 0, 3, 1, 0, 0, 3, 2, 0, 1, 0, 0, 3, 2, 3, 0, 3, 1, 3, 2, 3, 0, 1, 2, 0, 2, 1, 0, 2, 0, 1, 2, 1, 1, 2, 1, 0, 1, 2, 3, 1, 3, 2, 2, 1, 1, 1, 0, 2, 3, 1, 2, 2, 1, 0, 0, 1, 3, 0, 0, 1, 0, 2, 3, 0, 1, 0, 1, 3, 2, 2, 2, 0, 0, 0, 2, 0, 1, 3, 2, 2, 2, 0, 1, 0, 3, 0, 0, 1, 2, 3, 1, 2, 3, 0, 1, 3, 1, 2, 3, 3, 3, 1, 1, 0, 0, 1, 2, 2, 1, 0, 0, 2, 3, 0, 1, 3, 1, 2, 3, 2, 2, 1, 1, 2, 3, 1, 1, 2, 3, 3, 0, 3, 3, 2, 0, 2, 2, 1, 3, 0, 0, 0, 1, 0, 1, 2, 0, 1, 0, 2, 3, 0, 2, 0, 1, 2, 1, 0, 2, 0, 2, 2, 0, 2, 3, 2, 1, 1, 2, 3, 1, 0, 2, 1, 2, 0, 0, 1, 1, 1, 1, 1, 3, 1, 2, 0, 1, 1, 1, 2, 3, 3, 3, 0, 2, 3, 3, 0, 1, 2, 3, 2, 2, 0, 3, 1, 1, 1, 2, 1, 2, 0, 0, 0, 0, 3, 1, 3, 2, 2, 1, 3, 3, 0, 1, 2, 1, 2, 3, 0, 1, 0, 1, 1, 1, 1, 3, 2, 0, 2, 0, 0, 1, 2, 2, 1, 1, 3, 1, 2, 3, 2, 1, 0, 1, 0, 3, 2, 0, 0, 3, 3, 0, 1, 0, 0, 1, 1, 3, 0, 2, 2, 0, 0, 1, 2, 1, 0, 1, 3, 1, 2, 3, 3, 2, 3, 2, 3, 0, 1, 0, 0, 2, 2, 1, 0, 1, 1, 1, 2, 1, 1, 2, 1, 1, 1, 3, 2, 2, 2, 0, 0, 2, 1, 3, 0, 0, 0, 1, 1, 1, 1, 0, 1, 0, 2, 0, 1, 1, 2, 3, 2, 0, 2, 3, 0, 2, 0, 3, 2, 1, 0, 0, 1, 2, 2, 1, 2, 1, 2, 0, 1, 1, 3, 1, 2, 2, 3, 3, 0, 0, 1, 0, 3, 2, 3, 3, 3, 2, 1, 1, 0, 3, 0, 2, 2, 0, 2, 2, 1, 0, 2, 0, 2, 3, 3, 2, 0, 1, 1, 1, 2, 1, 3, 0, 0, 2, 0, 1, 3, 1, 2, 3, 1, 2, 2, 0, 0, 2, 1, 1, 1, 1, 2, 1, 1, 1, 0, 2, 0, 1, 1, 0, 0, 0, 1, 1, 1, 2, 1, 0, 0, 0, 1, 1, 3, 1, 0, 2, 2, 2, 1, 3, 1, 3, 2, 2, 2, 3, 1, 0, 2, 3, 1, 3, 3, 1, 1, 1, 2, 2, 2, 0, 3, 3, 1, 3, 3, 1, 3, 3, 3, 0, 2, 1, 2, 1, 0, 2, 2, 0, 1, 0, 1, 2, 0, 1, 1, 0, 1, 1, 3, 2, 0, 2, 0, 0, 1, 3, 3, 1, 2, 3, 0, 2, 0, 0, 1, 0, 3, 0, 1, 1, 3, 1, 3, 0, 1, 1, 1, 3, 2, 2, 1, 0, 2, 3, 1, 3, 0, 0, 0, 1, 0, 3, 3, 0, 0, 1, 0, 1, 0, 1, 2, 1, 0, 0, 0, 3, 3, 2, 0, 1, 1, 1, 0, 0, 2, 2, 1, 2, 3, 2, 2, 0, 1, 1, 2, 0, 2, 3, 2, 1, 2, 3, 3, 0, 0, 1, 0, 2, 3, 1, 1, 2, 2, 2, 3, 3, 1, 2, 0, 1, 1, 2, 0, 1, 1, 1, 0, 2, 1, 2, 0, 2, 1, 3, 3, 3, 2, 3, 0, 1, 2, 3, 1, 0, 2, 0, 0, 0, 1, 0, 3, 0, 3, 1, 3, 3, 2, 3, 2, 2, 2, 0, 1, 1, 0, 2, 1, 1, 3, 2, 3, 3, 1, 2, 0, 0, 2, 1, 3, 2, 0, 2, 2, 2, 1, 0, 2, 3, 3, 0, 1, 0, 1, 3, 0, 0, 3, 3, 1, 1, 3, 3, 1, 1, 2, 2, 1, 1, 1, 1, 1, 2, 2, 0, 3, 1, 0, 3, 1, 1, 0, 0, 0, 1, 0, 3, 0, 2, 1, 2, 1, 1, 3, 1, 1, 2, 3, 1, 2, 1, 1, 1, 3, 2, 1, 3, 2, 2, 2, 3, 0, 0, 1, 2, 1, 1, 0, 0, 2, 3, 1, 0, 0, 0, 2, 1, 2, 1, 3, 3, 3, 3, 1, 1, 3, 0, 3, 3, 1, 1, 0, 0, 1, 3, 1, 1, 0, 2, 1, 1, 1, 3, 2, 1, 1, 1, 0, 1, 1, 1, 1, 2, 0, 2, 2, 2, 0, 3, 0, 3, 2, 0, 3, 1, 1, 2, 0, 0, 2, 0, 0, 1, 3, 2, 1, 1, 0, 2, 1, 1, 2, 0, 1, 0, 3, 0, 3, 2, 1, 1, 1, 1, 1, 3, 0, 0, 2, 1, 0, 0, 0, 3, 2, 1, 1, 0, 2, 1, 0, 2, 1, 3, 0, 0, 1, 2, 1, 0, 2, 2, 3, 3, 0, 2, 2, 2, 1, 1, 2, 0, 2, 2, 3, 2, 3, 0, 1, 0, 1, 0, 1, 1, 0, 2, 1, 1, 2, 1, 0, 1, 1, 2, 0, 0, 1, 1, 1, 0, 0, 2, 1, 0, 3, 1, 0, 3, 1, 1, 1, 1, 3, 2, 0, 0, 1, 1, 0, 0, 2, 2, 0, 3, 1, 0, 1, 3, 1, 2, 0, 0, 0, 0, 2, 1, 3, 3, 3, 0, 0, 3, 2, 2, 0, 1, 2, 1, 0, 2, 2, 1, 2, 0, 2, 3, 1, 3, 1, 0, 0, 1, 0, 2, 1, 1, 2, 0, 1, 2, 1, 3, 1, 2, 0, 1, 0, 1, 2, 0, 1, 3, 0, 1, 3, 0, 2, 1, 3, 0, 3, 3, 1, 0, 0, 0, 1, 3, 2, 1, 0, 2, 2, 2, 2, 1, 2, 2, 1, 1, 1, 2, 0, 1, 3, 3, 1, 1, 2, 0, 0, 3, 3, 1, 3, 0, 1, 2, 0, 3, 1, 3, 1, 0, 3, 1, 2, 1, 1, 3, 0, 3, 0, 3, 1, 1, 1, 3, 3, 3, 0, 1, 1, 2, 3, 2, 2, 1, 0, 3, 1, 1, 1, 0, 0, 1, 0, 3, 2, 0, 1, 0, 3, 2, 3, 3, 3, 1, 2, 1, 2, 1, 0, 2, 3, 2, 0, 0, 3, 1, 1, 1, 0, 2, 1, 1, 3, 1, 0, 2, 1, 3, 1, 0, 2, 0, 0, 1, 2, 0, 3, 0, 3, 1, 1, 2, 1, 0, 1, 3, 2, 2, 0, 2, 0, 1, 3, 2, 2, 2, 0, 2, 3, 3, 3, 2, 0, 2, 3, 0, 2, 1, 1, 2, 2, 0, 3, 1, 2, 1, 1, 0, 1, 1, 0, 3, 2, 1, 2, 2, 0, 3, 2, 2, 1, 2, 2, 1, 2, 0, 3, 2, 2, 1, 0, 3, 2, 1, 1, 0, 1, 2, 1, 2, 2, 2, 2, 1, 3, 0, 2, 1, 2, 0, 1, 0, 2, 3, 0, 0, 1, 0, 1, 0, 3, 0, 3, 0, 1, 3, 3, 2, 1, 2, 0, 0, 1, 2, 2, 2, 3, 0, 3, 1, 1, 3, 2, 2, 2, 3, 0, 0, 1, 0, 0, 3, 2, 2, 1, 0, 2, 0, 2, 1, 3, 0, 1, 1, 1, 3, 0, 3, 3, 1, 0, 2, 2, 0, 0, 1, 3, 2, 3, 0, 2, 1, 0, 3, 1, 1, 3, 2, 3, 0, 2, 1, 2, 0, 3, 1, 2, 2, 0, 0, 3, 0, 2, 0, 0, 3, 2, 2, 1, 2, 0, 0, 0, 1, 0, 1, 0, 2, 1, 0, 2, 1, 0, 2, 2, 2, 1, 2, 2, 2, 2, 1, 2, 1, 0, 1, 1, 2, 1, 0, 0, 2, 1, 3, 0, 2, 3, 0, 3, 1, 0, 3, 0, 2, 2, 3, 0, 1, 1, 2, 3, 3, 1, 1, 0, 1, 2, 1, 3, 0, 2, 2, 1, 1, 1, 2, 1, 0, 1, 0, 1, 1, 1, 2, 1, 3, 0, 2, 0, 1, 1, 0, 0, 2, 1, 0, 0, 2, 1, 2, 2, 2, 1, 2, 2, 1, 0, 2, 0, 0, 3, 2, 2, 2, 3, 3, 3, 3, 1, 0, 2, 2, 2, 2, 1, 0, 0, 0, 1, 0, 3, 1, 1, 3, 0, 0, 0, 1, 2, 0, 1, 3, 0, 1, 0, 3, 3, 1, 2, 0, 2, 2, 3, 3, 0, 1, 2, 1, 0, 0, 1, 1, 2, 1, 1, 2, 0, 3, 3, 3, 1, 2, 0, 2, 3, 3, 0, 1, 1, 2, 2, 0, 2, 2, 2, 1, 1, 1, 2, 3, 2, 2, 0, 3, 3, 1, 3, 3, 1, 0, 0, 0, 2, 0, 0, 1, 1, 0, 0, 0, 1, 1, 3, 0, 0, 0, 2, 2, 0, 3, 3, 3, 0, 1, 1, 1, 0, 1, 2, 2, 0, 0, 2, 2, 3, 2, 1, 3, 3, 3, 3, 3, 3, 2, 1, 3, 3, 0, 0, 1, 3, 1, 3, 3, 0, 0, 0, 3, 1, 3, 2, 1, 2, 2, 0, 1, 1, 0, 1, 3, 3, 0, 3, 3, 0, 0, 1, 2, 2, 2, 1, 2, 2, 0, 3, 1, 3, 1, 0, 2, 2, 1, 1, 1, 2, 1, 3, 3, 3, 1, 3, 1, 1, 3, 1, 1, 2, 0, 2, 0, 3, 0, 2, 0, 3, 1, 0, 1, 3, 3, 2, 3, 1, 0, 0, 2, 0, 2, 1, 2, 2, 2, 1, 0, 1, 2, 2, 1, 1, 0, 2, 0, 0, 3, 0, 0, 2, 2, 0, 2, 3, 2, 3, 3, 2, 1, 3, 3, 3, 1, 1, 0, 1, 1, 0, 2, 1, 3, 1, 0, 0, 1, 1, 3, 1, 2, 1, 2, 3, 2, 1, 3, 2, 3, 2, 2, 2, 1, 1, 2, 1, 1, 1, 2, 1, 2, 2, 0, 1, 0, 2, 2, 2, 1, 2, 3, 2, 2, 1, 1, 2, 0, 1, 2, 2, 0, 0, 0, 3, 2, 2, 3, 2, 0, 1, 2, 2, 0, 3, 1, 0, 0, 1, 3, 0, 2, 3, 2, 0, 2, 0, 3, 3, 2, 0, 0, 1, 1, 2, 0, 1, 3, 1, 2, 1, 1, 1, 2, 3, 1, 3, 2, 2, 3, 2, 3, 0, 1, 2, 1, 0, 0, 0, 2, 1, 1, 0, 2, 0, 1, 0, 0, 1, 0, 1, 1, 0, 0, 1, 0, 3, 0, 1, 1, 2, 0, 0, 1, 1, 2, 0, 3, 1, 2, 0, 0, 0, 3, 0, 2, 3, 3, 1, 3, 1, 1, 1, 2, 2, 3, 1, 1, 1, 2, 1, 1, 1, 3, 2, 3, 1, 3, 1, 1, 3, 1, 3, 1, 0, 3, 2, 2, 0, 1, 0, 1, 1, 1, 1, 1, 0, 2, 0, 1, 2, 1, 2, 2, 1, 0, 3, 3, 1, 1, 1, 1, 2, 3, 2, 2, 0, 0, 2, 0, 2, 0, 0, 2, 0, 2, 3, 0, 2, 1, 3, 2, 0, 0, 0, 2, 0, 1, 3, 2, 2, 2, 0, 3, 1, 1, 0, 3, 0, 1, 3, 3, 2, 0, 1, 3, 1, 1, 0, 1, 3, 2, 0, 1, 1, 3, 1, 1, 3, 0, 3, 1, 0, 2, 2, 3, 1, 2, 2, 2, 0, 2, 1, 2, 1, 3, 1, 1, 1, 2, 1, 2, 1, 3, 0, 2, 2, 2, 1, 0, 0, 1, 2, 0, 2, 3, 1, 1, 2, 2, 3, 0, 2, 3, 0, 2, 0, 0, 1, 1, 0, 1, 2, 2, 1, 0, 3, 0, 2, 3, 2, 3, 2, 3, 1, 2, 2, 2, 2, 1, 1, 2, 3, 1, 1, 2, 3, 3, 3, 1, 1, 1, 1, 1, 0, 0, 1, 0, 3, 1, 1, 2, 2, 0, 1, 1, 0, 3, 1, 3, 0, 3, 0, 1, 1, 2, 2, 1, 2, 0, 2, 0, 2, 2, 0, 3, 3, 0, 3, 3, 2, 0, 1, 2, 0, 1, 0, 1, 2, 1, 1, 2, 1, 0, 0, 0, 0, 2, 1, 0, 1, 1, 2, 2, 0, 2, 1, 2, 2, 3, 2, 0, 0, 0, 0, 0, 0, 1, 1, 0, 1, 0, 3, 1, 1, 1, 2, 1, 3, 3, 3, 2, 3, 3, 2, 1, 0, 1, 1, 3, 0, 2, 2, 1, 2, 2, 1, 1, 0, 0, 1, 1, 0, 0, 0, 1, 2, 1, 0, 1, 2, 2, 0, 0, 3, 0, 1, 1, 2, 2, 1, 2, 3, 1, 0, 3, 0, 3, 3, 1, 3, 3, 3, 1, 2, 0, 1, 2, 1, 3, 1, 1, 2, 0, 1, 2, 2, 3, 1, 0, 2, 1, 1, 2, 2, 2, 3, 0, 2, 2, 2, 2, 3, 2, 1, 2, 2, 1, 2, 0, 0, 0, 1, 1, 2, 0, 0, 3, 2, 3, 2, 0, 3, 0, 0, 2, 0, 0, 1, 2, 2, 1, 0, 0, 2, 1, 3, 2, 1, 0, 2, 2, 2, 1, 1, 0, 1, 1, 0, 3, 3, 2, 1, 0, 2, 0, 0, 2, 1, 2, 0, 2, 2, 0, 2, 1, 2, 0, 1, 2, 3, 0, 3, 1, 3, 0, 3, 1, 1, 3, 1, 1, 3, 3, 1, 2, 2, 1, 1, 1, 3, 0, 2, 0, 3, 2, 1, 2, 2, 0, 0, 0, 1, 3, 3, 2, 1, 0, 1, 1, 2, 1, 3, 1, 2, 0, 2, 3, 2, 0, 3, 3, 3, 1, 3, 0, 0, 2, 2, 1, 2, 2, 2, 0, 2, 0, 3, 1, 3, 2, 1, 1, 1, 0, 1, 2, 3, 2, 3, 1, 3, 1, 0, 2, 1, 2, 1, 0, 3, 1, 0, 3, 3, 0, 1, 0, 3, 0, 1, 0, 1, 2, 3, 1, 2, 2, 3, 3, 3, 0, 0, 3, 0, 0, 2, 1, 0, 2, 2, 2, 0, 2, 0, 3, 1, 1, 0, 3, 1, 3, 2, 3, 1, 3, 2, 2, 2, 2, 1, 2, 2, 2, 0, 1, 2, 0, 3, 0, 3, 1, 0, 1, 3, 0, 3, 1, 1, 2, 0, 1, 0, 1, 3, 1, 3, 0, 1, 0, 0, 2, 1, 0, 3, 3, 2, 2, 1, 3, 2, 1, 1, 0, 0, 0, 2, 1, 2, 3, 3, 1, 1, 0, 1, 0, 1, 3, 2, 2, 1, 0, 3, 2, 3, 2, 1, 0, 0, 3, 0, 3, 2, 0, 0, 1, 0, 3, 1, 3, 0, 1, 1, 1, 1, 2, 3, 0, 1, 2, 2, 3, 2, 1, 1, 2, 3, 3, 2, 3, 1, 1, 3, 0, 1, 0, 0, 3, 3, 2, 1, 3, 1, 2, 1, 2, 2, 3, 1, 2, 0, 2, 0, 2, 2, 3, 1, 0, 1, 1, 3, 2, 0, 0, 2, 2, 2, 1, 2, 1, 1, 0, 1, 0, 2, 0, 0, 1, 1, 2, 2, 1, 0, 3, 1, 2, 3, 0, 2, 2, 2, 2, 1, 1, 2, 2, 1, 2, 3, 0, 1, 3, 2, 1, 1, 2, 2, 3, 2, 2, 0, 3, 1, 1, 0, 0, 1, 1, 3, 2, 1, 3, 0, 2, 0, 1, 2, 1, 0, 2, 1, 0, 0, 0, 1, 1, 3, 0, 1, 0, 0, 1, 3, 3, 3, 1, 0, 2, 2, 2, 1, 2, 1, 1, 2, 2, 1, 2, 1, 1, 2, 3, 0, 0, 2, 1, 0, 0, 0, 1, 2, 0, 0, 0, 1, 0, 1, 1, 2, 0, 1, 0, 1, 1, 1, 3, 2, 1, 1, 2, 2, 0, 0, 3, 0, 2, 0, 0, 0, 2, 2, 1, 2, 1, 2, 2, 3, 1, 0, 3, 2, 0, 0, 1, 3, 0, 0, 0, 1, 1, 1, 3, 3, 0, 2, 2, 1, 1, 0, 0, 1, 0, 0, 1, 2, 0, 0, 3, 3, 1, 1, 1, 2, 2, 2, 3, 2, 2, 2, 2, 2, 1, 2, 1, 3, 0, 0, 3, 1, 3, 2, 2, 1, 3, 0, 3, 2, 1, 0, 1, 2, 1, 1, 3, 1, 1, 1, 2, 2, 2, 1, 1, 1, 1, 1, 2, 2, 0, 2, 1, 1, 2, 3, 3, 3, 3, 1, 3, 1, 0, 1, 1, 0, 3, 2, 0, 2, 0, 3, 3, 3, 0, 1, 1, 2, 2, 1, 1, 1, 3, 1, 0, 1, 3, 1, 0, 0, 1, 1, 2, 1, 3, 3, 0, 3, 1, 0, 1, 1, 0, 0, 1, 0, 2, 3, 2, 3, 1, 0, 3, 1, 1, 0, 2, 0, 1, 3, 0, 1, 1, 2, 0, 2, 2, 1, 2, 3, 3, 3, 1, 3, 1, 0, 3, 3, 2, 1, 0, 1, 2, 3, 2, 2, 1, 1, 1, 2, 1, 3, 1, 0, 1, 0, 0, 2, 2, 1, 3, 3, 0, 1, 1, 2, 3, 1, 0, 2, 1, 3, 1, 3, 2, 1, 0, 1, 3, 0, 0, 3, 1, 3, 3, 2, 0, 1, 2, 0, 1, 3, 1, 3, 3, 0, 1, 1, 2, 2, 0, 1, 0, 1, 3, 2, 3, 1, 2, 1, 1, 3, 1, 1, 0, 0, 0, 0, 1, 2, 0, 0, 3, 2, 0, 2, 2, 1, 1, 2, 0, 3, 2, 1, 1, 2, 0, 1, 2, 3, 0, 3, 1, 1, 1, 1, 2, 3, 0, 1, 2, 0, 1, 1, 2, 1, 1, 1, 2, 2, 2, 0, 1, 2, 3, 0, 0, 0, 1, 1, 0, 3, 0, 1, 3, 0, 0, 0, 1, 1, 2, 0, 0, 3, 2, 0, 0, 2, 3, 2, 1, 1, 1, 1, 3, 1, 3, 1, 3, 0, 0, 2, 1, 2, 2, 2, 1, 1, 1, 2, 0, 2, 0, 0, 0, 2, 0, 1, 3, 2, 0, 3, 0, 2, 0, 1, 0, 2, 2, 2, 1, 2, 2, 2, 3, 0, 1, 3, 0, 0, 0, 2, 0, 3, 2, 1, 1, 3, 2, 3, 0, 2, 1, 0, 3, 0, 2, 2, 1, 0, 2, 2, 0, 0, 3, 0, 2, 3, 2, 2, 1, 3, 1, 1, 3, 3, 1, 3, 1, 0, 1, 2, 1, 3, 1, 2, 1, 2, 1, 3, 0, 0, 3, 2, 3, 1, 0, 1, 1, 0, 1, 1, 0, 0, 2, 1, 1, 1, 2, 1, 2, 3, 0, 3, 1, 2, 1, 1, 2, 1, 1, 2, 3, 2, 2, 2, 0, 0, 2, 1, 1, 2, 2, 0, 3, 0, 0, 0, 2, 3, 1, 3, 0, 1, 0, 0, 0, 1, 0, 1, 3, 2, 2, 0, 1, 0, 3, 1, 1, 2, 0, 1, 0, 1, 1, 3, 2, 0, 0, 2, 2, 1, 2, 3, 1, 3, 0, 0, 2, 2, 0, 1, 0, 0, 2, 3, 1, 3, 2, 3, 3, 3, 1, 0, 2, 3, 0, 2, 1, 1, 3, 0, 1, 3, 2, 3, 3, 1, 0, 0, 0, 1, 1, 0, 0, 1, 2, 3, 3, 3, 0, 0, 2, 0, 2, 1, 0, 1, 1, 0, 3, 3, 0, 2, 3, 1, 3, 1, 2, 2, 0, 2, 2, 2, 0, 2, 1, 0, 3, 0, 0, 2, 0, 2, 2, 3, 0, 0, 0, 2, 3, 0, 0, 3, 1, 0, 2, 3, 2, 1, 3, 3, 2, 0, 0, 0, 0, 1, 0, 1, 0, 1, 3, 2, 1, 1, 1, 2, 3, 2, 0, 1, 1, 1, 3, 1, 2, 0, 1, 0, 3, 2, 1, 0, 3, 1, 1, 1, 0, 2, 1, 2, 1, 1, 3, 0, 0, 0, 1, 0, 1, 2, 3, 0, 1, 0, 1, 2, 0, 2, 1, 3, 2, 1, 0, 0, 2, 2, 2, 2, 1, 3, 1, 3, 2, 2, 0, 0, 1, 0, 0, 3, 1, 1, 1, 0, 3, 3, 2, 1, 2, 1, 2, 0, 3, 1, 1, 0, 3, 2, 3, 3, 3, 0, 3, 3, 0, 2, 2, 2, 0, 3, 2, 3, 2, 0, 1, 1, 3, 1, 1, 2, 1, 1, 1, 0, 2, 1, 2, 2, 2, 2, 0, 3, 0, 1, 1, 2, 2, 0, 1, 3, 1, 2, 0, 0, 2, 2, 1, 3, 2, 0, 1, 0, 1, 0, 3, 1, 2, 1, 1, 0, 3, 1, 0, 1, 3, 0, 0, 0, 1, 0, 2, 0, 3, 2, 2, 1, 2, 0, 1, 0, 2, 1, 3, 0, 1, 0, 0, 1, 2, 0, 3, 0, 3, 0, 3, 2, 1, 3, 1, 3, 3, 3, 2, 3, 2, 1, 0, 2, 3, 0, 2, 1, 1, 1, 2, 1, 1, 2, 1, 1, 3, 1, 0, 3, 1, 2, 1, 3, 1, 0, 1, 0, 0, 1, 1, 2, 0, 1, 0, 2, 0, 2, 2, 0, 1, 1, 0, 3, 0, 1, 3, 0, 3, 0, 1, 0, 1, 2, 3, 3, 2, 0, 3, 0, 3, 0, 0, 2, 2, 1, 1, 0, 2, 3, 2, 1, 0, 1, 3, 0, 1, 2, 3, 1, 2, 2, 1, 3, 1, 2, 1, 3, 2, 3, 2, 1, 0, 1, 3, 0, 3, 1, 0, 3, 0, 0, 1, 3, 2, 3, 0, 1, 0, 3, 0, 0, 1, 0, 0, 2, 1, 2, 2, 0, 2, 1, 3, 3, 3, 2, 1, 1, 2, 2, 2, 0, 3, 1, 1, 1, 0, 2, 1, 1, 0, 1, 2, 2, 1, 0, 3, 2, 0, 2, 3, 3, 1, 3, 2, 3, 1, 0, 2, 0, 1, 1, 1, 3, 3, 3, 1, 0, 0, 3, 3, 2, 2, 1, 1, 2, 2, 0, 1, 0, 3, 0, 1, 3, 3, 1, 2, 2, 0, 1, 0, 1, 2, 3, 1, 1, 1, 2, 0, 2, 3, 0, 1, 2, 1, 3, 3, 0, 1, 2, 3, 2, 1, 2, 0, 2, 3, 3, 0, 3, 0, 2, 2, 0, 0, 2, 2, 2, 0, 2, 0, 0, 1, 2, 3, 0, 3, 0, 0, 0, 0, 1, 2, 0, 2, 0, 2, 0, 2, 0, 2, 0, 1, 1, 1, 1, 3, 2, 3, 2, 0, 1, 1, 0, 1, 3, 2, 3, 0, 1, 1, 1, 0, 0, 2, 0, 2, 1, 2, 3, 2, 1, 0, 0, 3, 0, 2, 3, 0, 1, 3, 3, 0, 2, 1, 0, 0, 3, 2, 2, 2, 0, 1, 0, 0, 1, 1, 0, 2, 2, 2, 0, 2, 2, 2, 2, 2, 1, 3, 1, 0, 1, 3, 1, 3, 1, 1, 2, 1, 3, 0, 2, 3, 1, 1, 1, 3, 2, 1, 2, 0, 1, 1, 1, 2, 2, 0, 0, 1, 0, 1, 1, 1, 1, 0, 2, 1, 2, 0, 2, 2, 2, 3, 3, 1, 3, 3, 2, 3, 1, 1, 0, 2, 2, 3, 1, 1, 0, 0, 0, 2, 2, 1, 2, 3, 0, 1, 1, 0, 2, 0, 0, 3, 2, 1, 2, 2, 2, 2, 1, 2, 1, 2, 1, 2, 0, 0, 1, 1, 0, 1, 1, 2, 3, 1, 2, 3, 3, 1, 2, 1, 0, 3, 3, 2, 3, 1, 0, 2, 3, 1, 2, 3, 3, 1, 3, 1, 1, 2, 0, 1, 1, 0, 0, 0, 1, 2, 3, 1, 3, 2, 2, 2, 3, 1, 0, 2, 2, 2, 0, 2, 3, 1, 1, 2, 2, 1, 1, 1, 3, 2, 1, 1, 3, 1, 0, 2, 2, 2, 3, 3, 0, 3, 0, 1, 1, 2, 3, 1, 1, 0, 0, 1, 0, 3, 2, 2, 2, 2, 1, 0, 1, 2, 1, 0, 3, 2, 3, 2, 3, 3, 1, 3, 3, 2, 3, 1, 3, 1, 3, 0, 3, 1, 3, 0, 3, 0, 0, 0, 1, 2, 1, 0, 0, 1, 1, 1, 2, 0, 3, 3, 0, 0, 0, 1, 2, 3, 2, 2, 2, 3, 2, 1, 0, 2, 1, 1, 2, 1, 0, 3, 3, 3, 0, 3, 3, 0, 3, 0, 0, 0, 3, 2, 1, 1, 2, 1, 0, 3, 1, 1, 2, 2, 1, 1, 2, 2, 3, 1, 2, 0, 3, 0, 3, 2, 3, 3, 2, 2, 2, 0, 0, 3, 2, 2, 1, 0, 0, 1, 2, 0, 3, 2, 1, 0, 1, 1, 1, 2, 1, 3, 1, 2, 1, 1, 0, 2, 0, 0, 2, 1, 3, 1, 0, 1, 1, 2, 1, 3, 3, 2, 2, 0, 3, 0, 0, 3, 1, 0, 3, 2, 0, 2, 1, 1, 0, 2, 0, 3, 3, 3, 2, 2, 3, 3, 0, 1, 1, 3, 3, 3, 3, 0, 1, 1, 2, 0, 0, 1, 1, 0, 2, 1, 2, 1, 1, 0, 0, 1, 1, 2, 0, 2, 3, 2, 3, 0, 1, 1, 2, 0, 2, 2, 0, 0, 3, 1, 1, 3, 3, 2, 3, 0, 1, 3, 2, 2, 1, 1, 2, 1, 3, 3, 1, 3, 1, 3, 0, 1, 2, 2, 3, 1, 1, 3, 1, 1, 0, 3, 1, 3, 1, 2, 1, 3, 3, 3, 1, 1, 2, 0, 1, 0, 1, 2, 1, 3, 0, 2, 2, 0, 2, 3, 2, 1, 1, 3, 1, 1, 3, 2, 1, 1, 2, 2, 2, 0, 3, 3, 0, 1, 1, 1, 3, 0, 3, 1, 3, 0, 0, 2, 0, 0, 3, 3, 2, 1, 2, 0, 2, 2, 2, 0, 1, 3, 0, 2, 1, 3, 0, 2, 2, 2, 3, 2, 2, 1, 3, 1, 3, 1, 2, 2, 1, 1, 0, 0, 1, 3, 0, 0, 0, 2, 0, 0, 0, 1, 1, 3, 0, 3, 2, 0, 2, 3, 2, 0, 0, 0, 1, 3, 3, 2, 3, 0, 0, 0, 1, 0, 2, 0, 1, 3, 2, 2, 1, 3, 1, 1, 1, 3, 0, 0, 3, 0, 2, 2, 1, 2, 1, 3, 1, 1, 3, 0, 0, 0, 3, 3, 2, 2, 1, 1, 2, 2, 1, 0, 0, 1, 2, 1, 1, 1, 3, 0, 0, 2, 3, 3, 0, 3, 0, 2, 1, 3, 0, 3, 0, 3, 3, 1, 2, 3, 1, 1, 2, 2, 1, 3, 2, 3, 2, 1, 0, 3, 3, 1, 2, 0, 3, 0, 2, 2, 2, 2, 0, 1, 3, 1, 2, 1, 1, 0, 2, 1, 1, 1, 2, 3, 1, 0, 1, 1, 1, 2, 1, 0, 0, 2, 1, 0, 1, 2, 1, 0, 3, 0, 0, 0, 0, 3, 3, 3, 1, 0, 2, 2, 1, 1, 1, 1, 3, 2, 0, 0, 0, 2, 0, 1, 1, 0, 1, 1, 0, 0, 1, 1, 2, 2, 1, 3, 0, 2, 3, 0, 0, 2, 1, 1, 2, 0, 3, 0, 2, 1, 2, 0, 1, 3, 1, 1, 2, 0, 1, 0, 1, 1, 3, 1, 1, 2, 1, 2, 2, 3, 1, 0, 0, 1, 0, 2, 0, 1, 3, 1, 0, 0, 0, 3, 2, 2, 0, 3, 1, 1, 1, 3, 1, 1, 2, 2, 2, 1, 3, 0, 3, 0, 1, 3, 3, 2, 2, 3, 0, 1, 0, 1, 0, 1, 2, 0, 2, 0, 3, 1, 0, 1, 2, 0, 1, 3, 0, 1, 1, 3, 2, 1, 1, 1, 2, 1, 3, 0, 2, 0, 1, 3, 1, 0, 2, 1, 1, 1, 2, 2, 1, 1, 1, 1, 0, 0, 1, 1, 3, 1, 0, 3, 1, 1, 2, 0, 0, 1, 0, 1, 0, 1, 3, 0, 2, 1, 1, 1, 1, 2, 1, 1, 2, 1, 2, 1, 2, 1, 1, 2, 2, 1, 3, 0, 3, 1, 0, 2, 2, 1, 0, 1, 1, 1, 3, 3, 2, 3, 0, 0, 0, 2, 2, 0, 0, 2, 2, 3, 0, 1, 2, 3, 1, 1, 3, 1, 3, 3, 1, 0, 0, 2, 1, 3, 3, 1, 1, 2, 2, 1, 3, 3, 2, 3, 3, 2, 3, 1, 0, 2, 1, 3, 0, 3, 0, 2, 3, 2, 3, 1, 1, 2, 2, 1, 0, 1, 0, 2, 3, 2, 2, 1, 1, 3, 3, 2, 1, 1, 1, 1, 2, 3, 3, 1, 1, 1, 0, 2, 1, 1, 1, 1, 2, 2, 3, 0, 2, 0, 0, 2, 2, 2, 2, 3, 3, 3, 1, 0, 0, 3, 3, 1, 2, 1, 2, 0, 0, 1, 0, 3, 3, 0, 3, 0, 0, 0, 1, 2, 0, 1, 0, 1, 1, 3, 2, 1, 1, 0, 0, 1, 2, 3, 1, 0, 1, 1, 1, 3, 2, 3, 3, 1, 1, 2, 1, 2, 1, 1, 2, 1, 0, 0, 3, 1, 0, 0, 3, 2, 1, 1, 3, 0, 3, 2, 1, 2, 2, 2, 0, 1, 0, 2, 0, 2, 3, 1, 1, 1, 2, 1, 1, 1, 3, 0, 0, 2, 1, 2, 0, 1, 1, 0, 2, 2, 1, 2, 2, 0, 1, 3, 2, 2, 3, 1, 1, 0, 0, 1, 1, 2, 0, 3, 2, 1, 0, 0, 2, 2, 1, 1, 0, 3, 1, 1, 0, 1, 2, 3, 3, 1, 2, 3, 0, 2, 0, 1, 3, 1, 3, 3, 3, 0, 3, 0, 0, 3, 1, 0, 2, 1, 0, 0, 3, 1, 2, 0, 0, 1, 0, 1, 0, 1, 1, 1, 2, 2, 0, 2, 0, 1, 0, 2, 2, 2, 2, 2, 0, 3, 0, 0, 1, 0, 1, 2, 3, 3, 1, 1, 0, 1, 2, 1, 3, 2, 2, 2, 3, 2, 0, 3, 1, 2, 2, 2, 1, 3, 0, 2, 0, 2, 1, 0, 1, 2, 2, 0, 2, 1, 3, 3, 1, 2, 0, 2, 1, 0, 1, 3, 2, 2, 1, 3, 0, 3, 3, 1, 3, 1, 1, 2, 3, 2, 0, 1, 1, 2, 1, 1, 0, 1, 3, 2, 3, 0, 2, 0, 0, 0, 0, 3, 0, 0, 3, 0, 0, 1, 1, 0, 0, 1, 2, 2, 3, 3, 3, 2, 1, 3, 2, 1, 0, 1, 1, 1, 0, 3, 0, 2, 1, 0, 1, 3, 3, 0, 0, 1, 1, 0, 2, 3, 2, 0, 1, 2, 0, 3, 0, 3, 1, 3, 0, 0, 0, 0, 0, 0, 3, 1, 0, 1, 3, 1, 3, 3, 2, 2, 2, 3, 2, 0, 0, 3, 3, 0, 2, 2, 2, 1, 1, 0, 2, 1, 2, 0, 2, 2, 1, 3, 3, 0, 1, 3, 1, 1, 3, 1, 0, 1, 1, 3, 2, 3, 2, 1, 2, 1, 0, 1, 3, 1, 2, 3, 0, 1, 2, 1, 1, 1, 2, 0, 1, 3, 1, 2, 0, 0, 0, 0, 0, 0, 3, 2, 3, 2, 1, 1, 1, 2, 2, 3, 1, 0, 3, 2, 3, 0, 1, 1, 1, 1, 1, 0, 2, 2, 0, 0, 1, 3, 0, 2, 2, 3, 2, 1, 2, 1, 0, 1, 0, 0, 0, 3, 3, 0, 0, 0, 1, 3, 0, 0, 2, 2, 2, 3, 1, 1, 2, 2, 1, 2, 2, 0, 1, 0, 3, 0, 1, 2, 3, 1, 1, 2, 0, 3, 3, 0, 0, 2, 1, 1, 2, 2, 2, 2, 3, 3, 2, 1, 3, 1, 3, 3, 0, 3, 1, 2, 3, 3, 2, 1, 3, 3, 1, 3, 1, 3, 2, 3, 2, 3, 2, 1, 0, 1, 1, 0, 1, 2, 3, 0, 1, 2, 1, 0, 2, 2, 0, 2, 2, 0, 0, 0, 0, 0, 2, 2, 0, 0, 1, 2, 1, 2, 1, 0, 1, 3, 1, 2, 0, 1, 1, 0, 3, 3, 0, 1, 2, 0, 0, 1, 2, 2, 3, 1, 0, 2, 0, 3, 1, 1, 3, 2, 0, 2, 3, 0, 2, 1, 1, 1, 0, 0, 3, 0, 0, 2, 0, 0, 2, 0, 2, 2, 1, 3, 2, 1, 2, 2, 0, 1, 0, 0, 3, 1, 1, 1, 3, 3, 1, 1, 0, 2, 2, 1, 0, 3, 0, 2, 3, 1, 3, 2, 1, 1, 2, 1, 0, 0, 1, 3, 2, 0, 1, 0, 0, 2, 3, 2, 3, 0, 2, 1, 2, 0, 1, 1, 3, 3, 1, 2, 2, 1, 1, 1, 2, 2, 3, 1, 0, 3, 0, 0, 2, 0, 2, 1, 1, 0, 2, 2, 2, 0, 1, 3, 2, 1, 1, 2, 1, 1, 3, 2, 1, 0, 2, 3, 3, 3, 2, 3, 2, 3, 2, 2, 3, 0, 0, 1, 2, 2, 1, 2, 1, 0, 3, 0, 2, 2, 2, 1, 0, 1, 3, 2, 0, 3, 1, 1, 0, 0, 2, 3, 1, 1, 1, 2, 2, 1, 0, 2, 0, 2, 0, 1, 0, 0, 0, 1, 2, 1, 1, 0, 0, 0, 2, 3, 0, 1, 1, 0, 0, 3, 3, 0, 3, 3, 2, 0, 0, 3, 0, 1, 0, 2, 3, 2, 2, 0, 1, 0, 2, 3, 1, 3, 0, 2, 3, 0, 2, 1, 1, 3, 0, 1, 0, 0, 0, 0, 1, 0, 0, 1, 3, 0, 2, 2, 1, 2, 3, 3, 3, 2, 3, 0, 1, 2, 0, 2, 1, 3, 0, 0, 0, 0, 3, 0, 0, 2, 0, 3, 1, 2, 2, 3, 3, 0, 1, 0, 0, 0, 1, 0, 0, 0, 1, 1, 1, 2, 3, 0, 0, 3, 1, 2, 3, 3, 0, 0, 2, 1, 0, 2, 2, 2, 2, 2, 0, 3, 2, 0, 2, 2, 3, 3, 1, 0, 3, 1, 0, 1, 3, 3, 0, 2, 0, 1, 2, 1, 2, 2, 2, 1, 3, 0, 1, 3, 1, 3, 0, 1, 0, 0, 2, 3, 2, 3, 0, 2, 0, 3, 0, 1, 3, 0, 3, 1, 1, 3, 3, 0, 3, 1, 3, 2, 0, 0, 0, 1, 1, 3, 1, 0, 1, 0, 3, 2, 1, 0, 1, 1, 0, 2, 3, 3, 2, 2, 1, 0, 2, 2, 3, 0, 3, 3, 0, 0, 1, 1, 1, 1, 0, 1, 2, 2, 2, 3, 1, 0, 2, 0, 2, 1, 3, 1, 3, 0, 1, 2, 2, 1, 0, 2, 3, 1, 2, 0, 1, 1, 3, 0, 3, 1, 0, 0, 2, 1, 1, 2, 3, 0, 3, 2, 0, 2, 1, 0, 1, 1, 1, 0, 3, 1, 3, 2, 1, 3, 2, 0, 0, 1, 1, 2, 0, 1, 1, 2, 1, 0, 2, 2, 1, 1, 2, 0, 2, 3, 2, 3, 0, 2, 2, 2, 3, 0, 2, 2, 1, 0, 1, 0, 0, 1, 3, 2, 0, 3, 2, 1, 0, 2, 2, 0, 3, 1, 1, 1, 0, 1, 2, 2, 0, 3, 1, 2, 3, 1, 3, 0, 0, 1, 1, 1, 2, 0, 1, 1, 0, 3, 2, 2, 2, 1, 3, 0, 1, 3, 1, 2, 3, 2, 2, 0, 0, 2, 1, 0, 2, 1, 1, 0, 3, 1, 2, 1, 1, 0, 0, 3, 1, 2, 0, 2, 3, 2, 1, 1, 0, 1, 1, 2, 3, 1, 2, 1, 3, 0, 3, 0, 1, 1, 1, 3, 2, 1, 3, 3, 0, 2, 1, 1, 2, 3, 1, 2, 0, 0, 3, 3, 2, 0, 1, 0, 3, 1, 3, 1, 1, 0, 0, 2, 2, 3, 1, 2, 2, 2, 1, 3, 0, 0, 2, 1, 0, 1, 1, 2, 0, 3, 2, 2, 2, 0, 1, 0, 2, 2, 0, 0, 0, 2, 1, 1, 2, 3, 1, 0, 1, 0, 0, 1, 1, 2, 3, 3, 0, 2, 1, 3, 2, 1, 0, 0, 3, 1, 0, 1, 2, 2, 1, 2, 2, 0, 1, 3, 0, 1, 2, 1, 1, 2, 1, 3, 2, 1, 2, 2, 1, 3, 2, 0, 3, 2, 3, 0, 3, 3, 1, 3, 0, 2, 1, 2, 0, 0, 3, 3, 2, 0, 1, 0, 1, 0, 0, 0, 1, 0, 3, 0, 2, 3, 1, 2, 0, 2, 0, 2, 1, 1, 3, 2, 2, 2, 2, 3, 3, 0, 0, 1, 1, 2, 0, 0, 0, 1, 0, 3, 2, 1, 1, 3, 0, 0, 1, 2, 0, 0, 1, 2, 1, 0, 2, 1, 2, 1, 1, 3, 2, 2, 1, 1, 3, 1, 0, 2, 3, 0, 3, 0, 2, 2, 0, 3, 1, 3, 1, 0, 0, 2, 1, 0, 0, 1, 3, 0, 1, 2, 1, 0, 0, 3, 2, 1, 2, 2, 3, 1, 0, 0, 2, 2, 1, 3, 1, 1, 0, 2, 1, 1, 1, 0, 2, 2, 2, 0, 3, 1, 0, 3, 0, 0, 1, 2, 3, 0, 1, 1, 3, 1, 2, 1, 1, 0, 0, 2, 3, 1, 2, 2, 1, 2, 3, 1, 1, 1, 3, 3, 3, 2, 2, 1, 2, 2, 0, 1, 2, 0, 2, 0, 1, 3, 3, 2, 0, 0, 0, 1, 2, 2, 2, 0, 2, 0, 2, 2, 3, 3, 0, 1, 1, 2, 0, 2, 1, 3, 0, 2, 2, 2, 3, 1, 1, 2, 1, 3, 1, 1, 0, 1, 3, 3, 1, 3, 2, 0, 1, 1, 2, 0, 2, 2, 3, 2, 1, 3, 1, 1, 1, 0, 1, 1, 1, 0, 1, 0, 3, 2, 1, 1, 2, 1, 2, 0, 2, 0, 1, 3, 3, 0, 3, 1, 1, 2, 1, 2, 3, 0, 3, 0, 2, 0, 3, 1, 1, 1, 0, 0, 2, 3, 1, 0, 1, 3, 1, 1, 1, 1, 1, 0, 3, 1, 3, 2, 1, 2, 1, 0, 1, 1, 1, 2, 2, 1, 0, 2, 0, 1, 3, 2, 1, 1, 1, 0, 1, 2, 0, 3, 2, 1, 1, 2, 2, 2, 3, 1, 2, 0, 2, 3, 2, 1, 2, 3, 3, 2, 2, 2, 3, 3, 0, 0, 1, 1, 0, 1, 1, 0, 1, 3, 2, 0, 0, 0, 0, 0, 2, 2, 1, 3, 3, 2, 0, 1, 1, 2, 0, 2, 0, 0, 0, 1, 0, 2, 1, 2, 1, 1, 0, 3, 1, 1, 3, 1, 3, 2, 0, 2, 3, 1, 0, 1, 1, 3, 3, 2, 2, 1, 2, 2, 2, 1, 2, 3, 0, 2, 2, 2, 2, 3, 1, 0, 3, 2, 2, 0, 0, 3, 0, 0, 1, 0, 1, 2, 1, 1, 1, 2, 0, 1, 1, 0, 1, 1, 2, 1, 2, 3, 3, 1, 3, 2, 1, 0, 1, 3, 2, 1, 1, 1, 0, 2, 0, 2, 3, 1, 0, 3, 0, 2, 2, 2, 1, 2, 2, 2, 0, 0, 1, 0, 2, 0, 0, 2, 1, 3, 3, 2, 3, 2, 0, 0, 3, 0, 1, 0, 2, 2, 0, 3, 2, 1, 1, 2, 1, 3, 0, 0, 1, 2, 1, 3, 1, 0, 1, 3, 2, 2, 1, 2, 1, 1, 0, 0, 2, 2, 2, 1, 0, 2, 1, 1, 1, 2, 0, 1, 0, 2, 3, 1, 2, 3, 2, 2, 1, 2, 2, 0, 3, 0, 2, 1, 3, 2, 3, 2, 0, 1, 2, 0, 3, 2, 2, 1, 1, 0, 2, 0, 2, 0, 3, 2, 1, 2, 2, 3, 2, 1, 0, 1, 2, 0, 2, 3, 0, 0, 3, 1, 2, 0, 2, 3, 1, 2, 3, 2, 1, 1, 2, 0, 3, 2, 1, 2, 0, 2, 3, 3, 3, 1, 0, 1, 1, 1, 0, 1, 3, 2, 2, 1, 2, 0, 0, 1, 1, 1, 2, 1, 2, 2]\n"
     ]
    }
   ],
   "source": [
    "# Make label into id\n",
    "tags = [tag2idx[str(lab)] for lab in labels]\n",
    "print(tags)"
   ]
  },
  {
   "cell_type": "code",
   "execution_count": 21,
   "metadata": {
    "collapsed": true
   },
   "outputs": [],
   "source": [
    "tr_inputs, val_inputs, tr_tags, val_tags,tr_masks, val_masks,tr_segs, val_segs = train_test_split(full_input_ids, tags,full_input_masks,full_segment_ids, \n",
    "                                                            random_state=4, test_size=0.3)"
   ]
  },
  {
   "cell_type": "code",
   "execution_count": 22,
   "metadata": {},
   "outputs": [
    {
     "data": {
      "text/plain": [
       "(28000, 12000, 28000, 12000)"
      ]
     },
     "execution_count": 22,
     "metadata": {},
     "output_type": "execute_result"
    }
   ],
   "source": [
    "len(tr_inputs),len(val_inputs),len(tr_segs),len(val_segs)"
   ]
  },
  {
   "cell_type": "code",
   "execution_count": 23,
   "metadata": {
    "collapsed": true
   },
   "outputs": [],
   "source": [
    "tr_inputs = torch.tensor(tr_inputs)\n",
    "val_inputs = torch.tensor(val_inputs)\n",
    "tr_tags = torch.tensor(tr_tags)\n",
    "val_tags = torch.tensor(val_tags)\n",
    "tr_masks = torch.tensor(tr_masks)\n",
    "val_masks = torch.tensor(val_masks)\n",
    "tr_segs = torch.tensor(tr_segs)\n",
    "val_segs = torch.tensor(val_segs)"
   ]
  },
  {
   "cell_type": "code",
   "execution_count": 24,
   "metadata": {
    "collapsed": true
   },
   "outputs": [],
   "source": [
    "# Set batch num\n",
    "batch_num = 32"
   ]
  },
  {
   "cell_type": "code",
   "execution_count": 25,
   "metadata": {
    "collapsed": true
   },
   "outputs": [],
   "source": [
    "# Set token embedding, attention embedding, segment embedding\n",
    "train_data = TensorDataset(tr_inputs, tr_masks,tr_segs, tr_tags)\n",
    "train_sampler = RandomSampler(train_data)\n",
    "# Drop last can make batch training better for the last one\n",
    "train_dataloader = DataLoader(train_data, sampler=train_sampler, batch_size=batch_num,drop_last=True)\n",
    "\n",
    "valid_data = TensorDataset(val_inputs, val_masks,val_segs, val_tags)\n",
    "valid_sampler = SequentialSampler(valid_data)\n",
    "valid_dataloader = DataLoader(valid_data, sampler=valid_sampler, batch_size=batch_num)"
   ]
  },
  {
   "cell_type": "code",
   "execution_count": 26,
   "metadata": {
    "collapsed": true
   },
   "outputs": [],
   "source": [
    "# In this document, contain confg(txt) and weight(bin) files\n",
    "model_file_address = 'models/xlnet-base-cased'"
   ]
  },
  {
   "cell_type": "code",
   "execution_count": 27,
   "metadata": {
    "collapsed": true
   },
   "outputs": [],
   "source": [
    "# Will load config and weight with from_pretrained()\n",
    "# Recommand download the model before using\n",
    "# Download model from \"https://s3.amazonaws.com/models.huggingface.co/bert/xlnet-base-cased-pytorch_model.bin\"\n",
    "# Download model from \"https://s3.amazonaws.com/models.huggingface.co/bert/xlnet-base-cased-config.json\" \n",
    "model = XLNetForSequenceClassification.from_pretrained(model_file_address,num_labels=len(tag2idx))"
   ]
  },
  {
   "cell_type": "code",
   "execution_count": 28,
   "metadata": {
    "collapsed": true
   },
   "outputs": [],
   "source": [
    "model;"
   ]
  },
  {
   "cell_type": "code",
   "execution_count": 29,
   "metadata": {},
   "outputs": [
    {
     "name": "stdout",
     "output_type": "stream",
     "text": [
      "cuda\n"
     ]
    }
   ],
   "source": [
    "print(device)"
   ]
  },
  {
   "cell_type": "code",
   "execution_count": 30,
   "metadata": {
    "collapsed": true
   },
   "outputs": [],
   "source": [
    "# Set model to GPU,if you are using GPU machine\n",
    "model.to(device);"
   ]
  },
  {
   "cell_type": "code",
   "execution_count": 31,
   "metadata": {
    "collapsed": true
   },
   "outputs": [],
   "source": [
    "# Add multi GPU support\n",
    "if n_gpu >1:\n",
    "    model = torch.nn.DataParallel(model)"
   ]
  },
  {
   "cell_type": "code",
   "execution_count": 32,
   "metadata": {
    "collapsed": true
   },
   "outputs": [],
   "source": [
    "# Set epoch and grad max num\n",
    "epochs = 5\n",
    "max_grad_norm = 1.0"
   ]
  },
  {
   "cell_type": "code",
   "execution_count": 33,
   "metadata": {
    "collapsed": true
   },
   "outputs": [],
   "source": [
    "# Cacluate train optimiazaion num\n",
    "num_train_optimization_steps = int( math.ceil(len(tr_inputs) / batch_num) / 1) * epochs"
   ]
  },
  {
   "cell_type": "code",
   "execution_count": 34,
   "metadata": {
    "collapsed": true
   },
   "outputs": [],
   "source": [
    "# True: fine tuning all the layers \n",
    "# False: only fine tuning the classifier layers\n",
    "# Since XLNet in 'pytorch_transformer' did not contian classifier layers\n",
    "# FULL_FINETUNING = True need to set True\n",
    "FULL_FINETUNING = True"
   ]
  },
  {
   "cell_type": "code",
   "execution_count": 35,
   "metadata": {
    "collapsed": true
   },
   "outputs": [],
   "source": [
    "if FULL_FINETUNING:\n",
    "    # Fine tune model all layer parameters\n",
    "    param_optimizer = list(model.named_parameters())\n",
    "    no_decay = ['bias', 'gamma', 'beta']\n",
    "    optimizer_grouped_parameters = [\n",
    "        {'params': [p for n, p in param_optimizer if not any(nd in n for nd in no_decay)],\n",
    "         'weight_decay_rate': 0.01},\n",
    "        {'params': [p for n, p in param_optimizer if any(nd in n for nd in no_decay)],\n",
    "         'weight_decay_rate': 0.0}\n",
    "    ]\n",
    "else:\n",
    "    # Only fine tune classifier parameters\n",
    "    param_optimizer = list(model.classifier.named_parameters()) \n",
    "    optimizer_grouped_parameters = [{\"params\": [p for n, p in param_optimizer]}]\n",
    "optimizer = Adam(optimizer_grouped_parameters, lr=3e-5)"
   ]
  },
  {
   "cell_type": "code",
   "execution_count": 36,
   "metadata": {
    "collapsed": true
   },
   "outputs": [],
   "source": [
    "# TRAIN loop\n",
    "model.train();"
   ]
  },
  {
   "cell_type": "code",
   "execution_count": 37,
   "metadata": {},
   "outputs": [
    {
     "name": "stderr",
     "output_type": "stream",
     "text": [
      "\r",
      "Epoch:   0%|          | 0/5 [00:00<?, ?it/s]"
     ]
    },
    {
     "name": "stdout",
     "output_type": "stream",
     "text": [
      "***** Running training *****\n",
      "  Num examples = 28000\n",
      "  Batch size = 32\n",
      "  Num steps = 4375\n"
     ]
    },
    {
     "name": "stderr",
     "output_type": "stream",
     "text": [
      "/usr/local/anaconda2/envs/dominantType/lib/python3.6/site-packages/torch/nn/functional.py:1374: UserWarning: nn.functional.tanh is deprecated. Use torch.tanh instead.\n",
      "  warnings.warn(\"nn.functional.tanh is deprecated. Use torch.tanh instead.\")\n",
      "/usr/local/anaconda2/envs/dominantType/lib/python3.6/site-packages/torch/nn/parallel/_functions.py:61: UserWarning: Was asked to gather along dimension 0, but all input tensors were scalars; will instead unsqueeze and return a vector.\n",
      "  warnings.warn('Was asked to gather along dimension 0, but all '\n",
      "Epoch:  20%|██        | 1/5 [17:33<1:10:15, 1053.75s/it]"
     ]
    },
    {
     "name": "stdout",
     "output_type": "stream",
     "text": [
      "Train loss: 0.2618107244712966\n"
     ]
    },
    {
     "name": "stderr",
     "output_type": "stream",
     "text": [
      "\r",
      "Epoch:  40%|████      | 2/5 [34:53<52:28, 1049.62s/it]  "
     ]
    },
    {
     "name": "stdout",
     "output_type": "stream",
     "text": [
      "Train loss: 0.1807037659926074\n"
     ]
    },
    {
     "name": "stderr",
     "output_type": "stream",
     "text": [
      "\r",
      "Epoch:  60%|██████    | 3/5 [52:06<34:49, 1044.50s/it]"
     ]
    },
    {
     "name": "stdout",
     "output_type": "stream",
     "text": [
      "Train loss: 0.14468977504542896\n"
     ]
    },
    {
     "name": "stderr",
     "output_type": "stream",
     "text": [
      "\r",
      "Epoch:  80%|████████  | 4/5 [1:09:18<17:20, 1040.82s/it]"
     ]
    },
    {
     "name": "stdout",
     "output_type": "stream",
     "text": [
      "Train loss: 0.11406514272093773\n"
     ]
    },
    {
     "name": "stderr",
     "output_type": "stream",
     "text": [
      "Epoch: 100%|██████████| 5/5 [1:26:31<00:00, 1038.28s/it]"
     ]
    },
    {
     "name": "stdout",
     "output_type": "stream",
     "text": [
      "Train loss: 0.08420646404155663\n"
     ]
    },
    {
     "name": "stderr",
     "output_type": "stream",
     "text": [
      "\n"
     ]
    }
   ],
   "source": [
    "print(\"***** Running training *****\")\n",
    "print(\"  Num examples = %d\"%(len(tr_inputs)))\n",
    "print(\"  Batch size = %d\"%(batch_num))\n",
    "print(\"  Num steps = %d\"%(num_train_optimization_steps))\n",
    "for _ in trange(epochs,desc=\"Epoch\"):\n",
    "    tr_loss = 0\n",
    "    nb_tr_examples, nb_tr_steps = 0, 0\n",
    "    for step, batch in enumerate(train_dataloader):\n",
    "        # add batch to gpu\n",
    "        batch = tuple(t.to(device) for t in batch)\n",
    "        b_input_ids, b_input_mask, b_segs,b_labels = batch\n",
    "        \n",
    "        # forward pass\n",
    "        outputs = model(input_ids =b_input_ids,token_type_ids=b_segs, input_mask = b_input_mask,labels=b_labels)\n",
    "        loss, logits = outputs[:2]\n",
    "        if n_gpu>1:\n",
    "            # When multi gpu, average it\n",
    "            loss = loss.mean()\n",
    "        \n",
    "        # backward pass\n",
    "        loss.backward()\n",
    "        \n",
    "        # track train loss\n",
    "        tr_loss += loss.item()\n",
    "        nb_tr_examples += b_input_ids.size(0)\n",
    "        nb_tr_steps += 1\n",
    "        \n",
    "        # gradient clipping\n",
    "        torch.nn.utils.clip_grad_norm_(parameters=model.parameters(), max_norm=max_grad_norm)\n",
    "        \n",
    "        # update parameters\n",
    "        optimizer.step()\n",
    "        optimizer.zero_grad()\n",
    "        \n",
    "    # print train loss per epoch\n",
    "    print(\"Train loss: {}\".format(tr_loss/nb_tr_steps))"
   ]
  },
  {
   "cell_type": "code",
   "execution_count": 39,
   "metadata": {
    "collapsed": true
   },
   "outputs": [],
   "source": [
    "xlnet_out_address = 'models/ActorArtistAuthorPolitician/tc02'\n",
    "# Make dir if not exits\n",
    "if not os.path.exists(xlnet_out_address):\n",
    "        os.makedirs(xlnet_out_address)"
   ]
  },
  {
   "cell_type": "code",
   "execution_count": 40,
   "metadata": {
    "collapsed": true
   },
   "outputs": [],
   "source": [
    "# Save a trained model, configuration and tokenizer\n",
    "model_to_save = model.module if hasattr(model, 'module') else model  # Only save the model it-self"
   ]
  },
  {
   "cell_type": "code",
   "execution_count": 41,
   "metadata": {
    "collapsed": true
   },
   "outputs": [],
   "source": [
    "# If we save using the predefined names, we can load using `from_pretrained`\n",
    "output_model_file = os.path.join(xlnet_out_address, \"pytorch_model.bin\")\n",
    "output_config_file = os.path.join(xlnet_out_address, \"config.json\")"
   ]
  },
  {
   "cell_type": "code",
   "execution_count": 42,
   "metadata": {},
   "outputs": [
    {
     "data": {
      "text/plain": [
       "('models/ActorArtistAuthorPolitician/tc02/spiece.model',)"
      ]
     },
     "execution_count": 42,
     "metadata": {},
     "output_type": "execute_result"
    }
   ],
   "source": [
    "# Save model into file\n",
    "torch.save(model_to_save.state_dict(), output_model_file)\n",
    "model_to_save.config.to_json_file(output_config_file)\n",
    "tokenizer.save_vocabulary(xlnet_out_address)"
   ]
  },
  {
   "cell_type": "code",
   "execution_count": 43,
   "metadata": {
    "collapsed": true
   },
   "outputs": [],
   "source": [
    "# Load model\n",
    "model = XLNetForSequenceClassification.from_pretrained(xlnet_out_address,num_labels=len(tag2idx))"
   ]
  },
  {
   "cell_type": "code",
   "execution_count": 44,
   "metadata": {
    "collapsed": true
   },
   "outputs": [],
   "source": [
    "# Set model to GPU\n",
    "model.to(device);\n",
    "if n_gpu >1:\n",
    "    model = torch.nn.DataParallel(model)"
   ]
  },
  {
   "cell_type": "code",
   "execution_count": 45,
   "metadata": {
    "collapsed": true
   },
   "outputs": [],
   "source": [
    "# Eval\n",
    "# Evalue loop\n",
    "model.eval();\n"
   ]
  },
  {
   "cell_type": "code",
   "execution_count": 46,
   "metadata": {
    "collapsed": true
   },
   "outputs": [],
   "source": [
    "# Set acc funtion\n",
    "def accuracy(out, labels):\n",
    "    outputs = np.argmax(out, axis=1)\n",
    "    return np.sum(outputs == labels)"
   ]
  },
  {
   "cell_type": "code",
   "execution_count": 47,
   "metadata": {},
   "outputs": [
    {
     "name": "stdout",
     "output_type": "stream",
     "text": [
      "***** Running evaluation *****\n",
      "  Num examples =12000\n",
      "  Batch size = 32\n"
     ]
    },
    {
     "name": "stderr",
     "output_type": "stream",
     "text": [
      "/usr/local/anaconda2/envs/dominantType/lib/python3.6/site-packages/torch/nn/functional.py:1374: UserWarning: nn.functional.tanh is deprecated. Use torch.tanh instead.\n",
      "  warnings.warn(\"nn.functional.tanh is deprecated. Use torch.tanh instead.\")\n",
      "/usr/local/anaconda2/envs/dominantType/lib/python3.6/site-packages/torch/nn/parallel/_functions.py:61: UserWarning: Was asked to gather along dimension 0, but all input tensors were scalars; will instead unsqueeze and return a vector.\n",
      "  warnings.warn('Was asked to gather along dimension 0, but all '\n"
     ]
    },
    {
     "name": "stdout",
     "output_type": "stream",
     "text": [
      "***** Eval results *****\n",
      "  eval_accuracy = 0.93275\n",
      "  eval_loss = 0.3193906268278758\n",
      "  loss = 0.08420646404155663\n",
      "             precision    recall  f1-score   support\n",
      "\n",
      "          0       0.93      0.95      0.94      2968\n",
      "          1       0.97      0.90      0.94      3773\n",
      "          2       0.91      0.94      0.92      3034\n",
      "          3       0.91      0.95      0.93      2225\n",
      "\n",
      "avg / total       0.93      0.93      0.93     12000\n",
      "\n"
     ]
    }
   ],
   "source": [
    "eval_loss, eval_accuracy = 0, 0\n",
    "nb_eval_steps, nb_eval_examples = 0, 0\n",
    "\n",
    "y_true = []\n",
    "y_predict = []\n",
    "print(\"***** Running evaluation *****\")\n",
    "print(\"  Num examples ={}\".format(len(val_inputs)))\n",
    "print(\"  Batch size = {}\".format(batch_num))\n",
    "for step, batch in enumerate(valid_dataloader):\n",
    "    batch = tuple(t.to(device) for t in batch)\n",
    "    b_input_ids, b_input_mask, b_segs,b_labels = batch\n",
    "    \n",
    "    with torch.no_grad():\n",
    "        outputs = model(input_ids =b_input_ids,token_type_ids=b_segs, input_mask = b_input_mask,labels=b_labels)\n",
    "        tmp_eval_loss, logits = outputs[:2]\n",
    "    \n",
    "    # Get textclassification predict result\n",
    "    logits = logits.detach().cpu().numpy()\n",
    "    label_ids = b_labels.to('cpu').numpy()\n",
    "    tmp_eval_accuracy = accuracy(logits, label_ids)\n",
    "#     print(tmp_eval_accuracy)\n",
    "#     print(np.argmax(logits, axis=1))\n",
    "#     print(label_ids)\n",
    "    \n",
    "    # Save predict and real label reuslt for analyze\n",
    "    for predict in np.argmax(logits, axis=1):\n",
    "        y_predict.append(predict)\n",
    "        \n",
    "    for real_result in label_ids.tolist():\n",
    "        y_true.append(real_result)\n",
    "\n",
    "    \n",
    "    eval_loss += tmp_eval_loss.mean().item()\n",
    "    eval_accuracy += tmp_eval_accuracy\n",
    "   \n",
    "    nb_eval_steps += 1\n",
    "    \n",
    "    \n",
    "eval_loss = eval_loss / nb_eval_steps\n",
    "eval_accuracy = eval_accuracy / len(val_inputs)\n",
    "loss = tr_loss/nb_tr_steps \n",
    "result = {'eval_loss': eval_loss,\n",
    "                  'eval_accuracy': eval_accuracy,\n",
    "                  'loss': loss}\n",
    "report = classification_report(y_pred=np.array(y_predict),y_true=np.array(y_true))\n",
    "\n",
    "# Save the report into file\n",
    "output_eval_file = os.path.join(xlnet_out_address, \"eval_results.txt\")\n",
    "with open(output_eval_file, \"w\") as writer:\n",
    "    print(\"***** Eval results *****\")\n",
    "    for key in sorted(result.keys()):\n",
    "        print(\"  %s = %s\"%(key, str(result[key])))\n",
    "        writer.write(\"%s = %s\\n\" % (key, str(result[key])))\n",
    "        \n",
    "    print(report)\n",
    "    writer.write(\"\\n\\n\")  \n",
    "    writer.write(report)"
   ]
  },
  {
   "cell_type": "code",
   "execution_count": 48,
   "metadata": {},
   "outputs": [
    {
     "name": "stdout",
     "output_type": "stream",
     "text": [
      "***** Running evaluation *****\n",
      "  Num examples =28000\n",
      "  Batch size = 32\n"
     ]
    },
    {
     "name": "stderr",
     "output_type": "stream",
     "text": [
      "/usr/local/anaconda2/envs/dominantType/lib/python3.6/site-packages/torch/nn/functional.py:1374: UserWarning: nn.functional.tanh is deprecated. Use torch.tanh instead.\n",
      "  warnings.warn(\"nn.functional.tanh is deprecated. Use torch.tanh instead.\")\n",
      "/usr/local/anaconda2/envs/dominantType/lib/python3.6/site-packages/torch/nn/parallel/_functions.py:61: UserWarning: Was asked to gather along dimension 0, but all input tensors were scalars; will instead unsqueeze and return a vector.\n",
      "  warnings.warn('Was asked to gather along dimension 0, but all '\n"
     ]
    },
    {
     "name": "stdout",
     "output_type": "stream",
     "text": [
      "***** Eval results *****\n",
      "  eval_accuracy = 2.30233333333\n",
      "  eval_loss = 0.05020299577074391\n",
      "  loss = 0.08420646404155663\n",
      "             precision    recall  f1-score   support\n",
      "\n",
      "          0       0.98      1.00      0.99      7032\n",
      "          1       1.00      0.97      0.98      8307\n",
      "          2       0.98      0.99      0.99      7336\n",
      "          3       0.98      0.99      0.99      5325\n",
      "\n",
      "avg / total       0.99      0.99      0.99     28000\n",
      "\n"
     ]
    }
   ],
   "source": [
    "#######Evaluating Training results\n",
    "eval_loss, eval_accuracy = 0, 0\n",
    "nb_eval_steps, nb_eval_examples = 0, 0\n",
    "\n",
    "y_true = []\n",
    "y_predict = []\n",
    "print(\"***** Running evaluation *****\")\n",
    "print(\"  Num examples ={}\".format(len(tr_inputs)))\n",
    "print(\"  Batch size = {}\".format(batch_num))\n",
    "for step, batch in enumerate(train_dataloader):\n",
    "    batch = tuple(t.to(device) for t in batch)\n",
    "    b_input_ids, b_input_mask, b_segs,b_labels = batch\n",
    "    \n",
    "    with torch.no_grad():\n",
    "        outputs = model(input_ids =b_input_ids,token_type_ids=b_segs, input_mask = b_input_mask,labels=b_labels)\n",
    "        tmp_eval_loss, logits = outputs[:2]\n",
    "    \n",
    "    # Get textclassification predict result\n",
    "    logits = logits.detach().cpu().numpy()\n",
    "    label_ids = b_labels.to('cpu').numpy()\n",
    "    tmp_eval_accuracy = accuracy(logits, label_ids)\n",
    "#     print(tmp_eval_accuracy)\n",
    "#     print(np.argmax(logits, axis=1))\n",
    "#     print(label_ids)\n",
    "    \n",
    "    # Save predict and real label reuslt for analyze\n",
    "    for predict in np.argmax(logits, axis=1):\n",
    "        y_predict.append(predict)\n",
    "        \n",
    "    for real_result in label_ids.tolist():\n",
    "        y_true.append(real_result)\n",
    "\n",
    "    \n",
    "    eval_loss += tmp_eval_loss.mean().item()\n",
    "    eval_accuracy += tmp_eval_accuracy\n",
    "   \n",
    "    nb_eval_steps += 1\n",
    "    \n",
    "    \n",
    "eval_loss = eval_loss / nb_eval_steps\n",
    "eval_accuracy = eval_accuracy / len(val_inputs)\n",
    "loss = tr_loss/nb_tr_steps \n",
    "result = {'eval_loss': eval_loss,\n",
    "                  'eval_accuracy': eval_accuracy,\n",
    "                  'loss': loss}\n",
    "report = classification_report(y_pred=np.array(y_predict),y_true=np.array(y_true))\n",
    "\n",
    "# Save the report into file\n",
    "output_eval_file = os.path.join(xlnet_out_address, \"train_results.txt\")\n",
    "with open(output_eval_file, \"w\") as writer:\n",
    "    print(\"***** Eval results *****\")\n",
    "    for key in sorted(result.keys()):\n",
    "        print(\"  %s = %s\"%(key, str(result[key])))\n",
    "        writer.write(\"%s = %s\\n\" % (key, str(result[key])))\n",
    "        \n",
    "    print(report)\n",
    "    writer.write(\"\\n\\n\")  \n",
    "    writer.write(report)"
   ]
  }
 ],
 "metadata": {
  "kernelspec": {
   "display_name": "Python 3",
   "language": "python",
   "name": "python3"
  },
  "language_info": {
   "codemirror_mode": {
    "name": "ipython",
    "version": 3
   },
   "file_extension": ".py",
   "mimetype": "text/x-python",
   "name": "python",
   "nbconvert_exporter": "python",
   "pygments_lexer": "ipython3",
   "version": "3.6.3"
  }
 },
 "nbformat": 4,
 "nbformat_minor": 2
}
